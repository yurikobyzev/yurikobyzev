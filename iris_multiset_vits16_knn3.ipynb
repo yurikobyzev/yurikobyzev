{
  "nbformat": 4,
  "nbformat_minor": 0,
  "metadata": {
    "colab": {
      "provenance": [],
      "mount_file_id": "12Uq00uv8xYt4m0g-CrjBjCy98MjyfUDh",
      "authorship_tag": "ABX9TyMNZskyYPr8y22QqtA9OgSB",
      "include_colab_link": true
    },
    "kernelspec": {
      "name": "python3",
      "display_name": "Python 3"
    },
    "language_info": {
      "name": "python"
    },
    "gpuClass": "standard",
    "accelerator": "GPU"
  },
  "cells": [
    {
      "cell_type": "markdown",
      "metadata": {
        "id": "view-in-github",
        "colab_type": "text"
      },
      "source": [
        "<a href=\"https://colab.research.google.com/github/yurikobyzev/yurikobyzev/blob/main/iris_multiset_vits16_knn3.ipynb\" target=\"_parent\"><img src=\"https://colab.research.google.com/assets/colab-badge.svg\" alt=\"Open In Colab\"/></a>"
      ]
    },
    {
      "cell_type": "markdown",
      "source": [],
      "metadata": {
        "id": "Jwgtg4ktLGB5"
      }
    },
    {
      "cell_type": "code",
      "source": [
        "!! pip install open-metric-learning\n",
        "!! pip install pytorch-metric-learning\n",
        "!! pip install pillow==9.0.0"
      ],
      "metadata": {
        "id": "eiKmNjzGXL-m",
        "colab": {
          "base_uri": "https://localhost:8080/",
          "height": 398
        },
        "outputId": "05cd04d1-a083-446c-e209-a93069224961"
      },
      "execution_count": 1,
      "outputs": [
        {
          "output_type": "display_data",
          "data": {
            "application/vnd.colab-display-data+json": {
              "pip_warning": {
                "packages": [
                  "PIL"
                ]
              }
            }
          },
          "metadata": {}
        },
        {
          "output_type": "execute_result",
          "data": {
            "text/plain": [
              "['Looking in indexes: https://pypi.org/simple, https://us-python.pkg.dev/colab-wheels/public/simple/',\n",
              " 'Collecting pillow==9.0.0',\n",
              " '  Downloading Pillow-9.0.0-cp39-cp39-manylinux_2_17_x86_64.manylinux2014_x86_64.whl (4.3 MB)',\n",
              " '\\x1b[?25l     \\x1b[90m━━━━━━━━━━━━━━━━━━━━━━━━━━━━━━━━━━━━━━━━\\x1b[0m \\x1b[32m0.0/4.3 MB\\x1b[0m \\x1b[31m?\\x1b[0m eta \\x1b[36m-:--:--\\x1b[0m',\n",
              " '\\x1b[2K     \\x1b[91m━━\\x1b[0m\\x1b[91m╸\\x1b[0m\\x1b[90m━━━━━━━━━━━━━━━━━━━━━━━━━━━━━━━━━━━━━\\x1b[0m \\x1b[32m0.3/4.3 MB\\x1b[0m \\x1b[31m8.4 MB/s\\x1b[0m eta \\x1b[36m0:00:01\\x1b[0m',\n",
              " '\\x1b[2K     \\x1b[91m━━━━━━━━━━━━━━━━━━━━━━━━━━━\\x1b[0m\\x1b[91m╸\\x1b[0m\\x1b[90m━━━━━━━━━━━━\\x1b[0m \\x1b[32m3.0/4.3 MB\\x1b[0m \\x1b[31m43.7 MB/s\\x1b[0m eta \\x1b[36m0:00:01\\x1b[0m',\n",
              " '\\x1b[2K     \\x1b[90m━━━━━━━━━━━━━━━━━━━━━━━━━━━━━━━━━━━━━━━━\\x1b[0m \\x1b[32m4.3/4.3 MB\\x1b[0m \\x1b[31m42.8 MB/s\\x1b[0m eta \\x1b[36m0:00:00\\x1b[0m',\n",
              " '\\x1b[?25hInstalling collected packages: pillow',\n",
              " '  Attempting uninstall: pillow',\n",
              " '    Found existing installation: Pillow 8.4.0',\n",
              " '    Uninstalling Pillow-8.4.0:',\n",
              " '      Successfully uninstalled Pillow-8.4.0',\n",
              " 'Successfully installed pillow-9.0.0']"
            ]
          },
          "metadata": {},
          "execution_count": 1
        }
      ]
    },
    {
      "cell_type": "code",
      "source": [
        "import torch\n",
        "from tqdm import tqdm\n",
        "\n",
        "from oml.datasets.base import DatasetWithLabels\n",
        "from oml.losses.triplet import TripletLossWithMiner\n",
        "from oml.miners.inbatch_all_tri import AllTripletsMiner\n",
        "from oml.models.vit.vit import ViTExtractor\n",
        "from oml.samplers.balance import BalanceSampler\n",
        "from oml.datasets.base import DatasetQueryGallery\n",
        "from oml.metrics.embeddings import EmbeddingMetrics\n",
        "from oml.utils.dataframe_format import check_retrieval_dataframe_format\n",
        "from oml.utils.misc_torch import PCA\n",
        "from oml.inference.flat import inference_on_images\n",
        "from oml.registry.transforms import get_transforms_for_pretrained\n",
        "from oml.utils.misc_torch import pairwise_dist\n",
        "from pytorch_metric_learning import losses, distances, reducers, miners\n",
        "import pandas as pd\n",
        "from oml.transforms.images.torchvision import get_normalisation_resize_torch\n",
        "from oml.models.meta.siamese import ConcatSiamese\n",
        "from oml.miners.pairs import PairsMiner\n",
        "from oml.inference.flat import inference_on_dataframe\n",
        "from torch.nn import BCEWithLogitsLoss\n",
        "from torch.utils.data import DataLoader\n",
        "from oml.retrieval.postprocessors.pairwise import PairwiseImagesPostprocessor\n",
        "from pprint import pprint\n",
        "\n"
      ],
      "metadata": {
        "id": "d2Yx4ydPXRcI"
      },
      "execution_count": 33,
      "outputs": []
    },
    {
      "cell_type": "code",
      "source": [
        "import pandas as pd\n",
        "from pathlib import Path\n",
        "import pathlib\n",
        "\n",
        "iris_path='/content/drive/MyDrive/iris'\n",
        "iris_path=pathlib.PosixPath(iris_path)\n",
        "p=iris_path\n",
        "\n",
        "\n",
        "root_iris_id='iris_dataset'\n",
        "\n",
        "iris_id_csv=\"/content/drive/MyDrive/iris/df_iris_dataset_LR.csv\"\n",
        "\n",
        "root_iris_amf='AMF_Iris_Dataset'\n",
        "iris_amf='/content/drive/MyDrive/iris/AMF_Iris_Dataset'\n",
        "iris_amf_csv='/content/drive/MyDrive/iris/df_amf_LR.csv'\n",
        "\n",
        "root_iris_mmu ='MMU-Iris-Database'\n",
        "iris_mmu ='/content/drive/MyDrive/iris/MMU-Iris-Database'\n",
        "iris_mmu_csv = '/content/drive/MyDrive/iris/df_mmu_LR.csv'\n",
        "\n",
        "# open metric learning format for datasets and pipelines...\n",
        "df_iris_id = pd.read_csv(iris_id_csv)\n",
        "df_iris_mmu = pd.read_csv(iris_mmu_csv)\n",
        "df_iris_amf = pd.read_csv(iris_amf_csv)"
      ],
      "metadata": {
        "id": "EyLObTLZWGhb"
      },
      "execution_count": 8,
      "outputs": []
    },
    {
      "cell_type": "markdown",
      "source": [],
      "metadata": {
        "id": "kdam6wiFdDXV"
      }
    },
    {
      "cell_type": "markdown",
      "source": [
        "<H3>Формируем датафреймы с 3мя базами"
      ],
      "metadata": {
        "id": "S79NyyqHdGqd"
      }
    },
    {
      "cell_type": "code",
      "source": [
        "header=\"label,src_file,split,is_query,is_gallery,eye,ds,path\""
      ],
      "metadata": {
        "id": "BviGNlrBYNLH"
      },
      "execution_count": 9,
      "outputs": []
    },
    {
      "cell_type": "code",
      "source": [],
      "metadata": {
        "id": "akNw7WtvWGyB"
      },
      "execution_count": null,
      "outputs": []
    },
    {
      "cell_type": "markdown",
      "source": [
        "<H3> Iris_id dataset"
      ],
      "metadata": {
        "id": "Xnost1N3omR5"
      }
    },
    {
      "cell_type": "code",
      "execution_count": null,
      "metadata": {
        "id": "GyscL0fkJOCr"
      },
      "outputs": [],
      "source": []
    },
    {
      "cell_type": "code",
      "source": [
        "#columns=['label','path','split','is_query', 'is_gallery','category','x_1','x_2','y_1','y_2']"
      ],
      "metadata": {
        "id": "1e8jgLbaJ3Zp"
      },
      "execution_count": null,
      "outputs": []
    },
    {
      "cell_type": "code",
      "source": [
        "#csvpath=\"/content/drive/MyDrive/iris/iris_id.cs\n",
        "csvpath=\"/content/drive/MyDrive/iris/df_iris_dataset_LR.csv\"\n",
        "iris_dataset_csvpath = csvpath\n",
        "\n"
      ],
      "metadata": {
        "id": "9KmKA52POHyf"
      },
      "execution_count": 11,
      "outputs": []
    },
    {
      "cell_type": "code",
      "source": [
        "\n",
        "df = pd.read_csv(csvpath)"
      ],
      "metadata": {
        "id": "kC-8TQVHMPQG"
      },
      "execution_count": 12,
      "outputs": []
    },
    {
      "cell_type": "code",
      "source": [
        "df_iris = pd.read_csv(csvpath)"
      ],
      "metadata": {
        "id": "lm79ngl-qOBL"
      },
      "execution_count": null,
      "outputs": []
    },
    {
      "cell_type": "markdown",
      "source": [
        "save is_query is_gallery"
      ],
      "metadata": {
        "id": "NXtOf8W5dEH7"
      }
    },
    {
      "cell_type": "markdown",
      "source": [
        "<h3> Теперь берем предобученную на огромном датасете (что то из торговли) модель для эмбеддингов и тренируем ее 1 эпоху (больше не надо!) на iris_id train"
      ],
      "metadata": {
        "id": "AVqc7Sooelpq"
      }
    },
    {
      "cell_type": "code",
      "source": [
        "\n",
        "model_types=['vits16_dino', 'vits8_dino', 'vitb16_dino', 'vitb8_dino', 'vits16_inshop', 'vits16_sop', 'vits16_cub', 'vits16_cars']\n",
        "modeltype='vits16_dino'\n",
        "arch='vits16'\n"
      ],
      "metadata": {
        "id": "Ra0x5Podeni_"
      },
      "execution_count": 13,
      "outputs": []
    },
    {
      "cell_type": "code",
      "source": [
        "import torch\n",
        "device = torch.device(\"cuda\")"
      ],
      "metadata": {
        "id": "Y3_aHCGOtRjp"
      },
      "execution_count": 15,
      "outputs": []
    },
    {
      "cell_type": "markdown",
      "source": [
        "<H3> Валидность датасета проверяется тут "
      ],
      "metadata": {
        "id": "fpBmnedtcmbw"
      }
    },
    {
      "cell_type": "code",
      "source": [
        "from pathlib import Path\n",
        "from oml.utils.dataframe_format import check_retrieval_dataframe_format\n",
        "p=Path(iris_path)\n",
        "\n",
        "check_retrieval_dataframe_format(df=df_iris_id, dataset_root=p)\n",
        "check_retrieval_dataframe_format(df=df_iris_amf, dataset_root=p)\n",
        "check_retrieval_dataframe_format(df=df_iris_mmu, dataset_root=p)"
      ],
      "metadata": {
        "id": "czWraz6yW4fg"
      },
      "execution_count": 16,
      "outputs": []
    },
    {
      "cell_type": "code",
      "source": [],
      "metadata": {
        "id": "VlABgb5wOXVZ"
      },
      "execution_count": null,
      "outputs": []
    },
    {
      "cell_type": "markdown",
      "source": [
        "<H3>Если из предоубученных брать веса"
      ],
      "metadata": {
        "id": "EFls0L6qmRjD"
      }
    },
    {
      "cell_type": "markdown",
      "source": [
        "<H1> Из своих обученных берем веса"
      ],
      "metadata": {
        "id": "JRBOeBROmYOu"
      }
    },
    {
      "cell_type": "code",
      "source": [
        "from oml.const import CKPT_SAVE_ROOT as CKPT_DIR, MOCK_DATASET_PATH as DATA_DIR\n",
        "from oml.models import ViTExtractor\n",
        "from oml.registry.transforms import get_transforms_for_pretrained\n",
        "\n",
        "\n",
        "# first time\n",
        "model = ViTExtractor.from_pretrained(\"vits16_dino\")\n",
        "# second time\n",
        "#model = ViTExtractor(weights=CKPT_DIR / \"vits16_dino.ckpt\", arch=\"vits16\", normalise_features=False)\n",
        "transform, im_reader = get_transforms_for_pretrained(\"vits16_dino\")"
      ],
      "metadata": {
        "colab": {
          "base_uri": "https://localhost:8080/"
        },
        "id": "yFu5BGHBlqQO",
        "outputId": "08367c91-56fd-41f6-e961-7c36b10ddd82"
      },
      "execution_count": 31,
      "outputs": [
        {
          "output_type": "stream",
          "name": "stdout",
          "text": [
            "https://dl.fbaipublicfiles.com/dino/dino_deitsmall16_pretrain/dino_deitsmall16_pretrain.pth\n",
            "Checkpoint is already here.\n"
          ]
        }
      ]
    },
    {
      "cell_type": "markdown",
      "source": [
        "<H3>Обучение с нуля (но предобученные веса загружаются автоматом)"
      ],
      "metadata": {
        "id": "iDZGuZ1gc5A6"
      }
    },
    {
      "cell_type": "markdown",
      "source": [
        "Triple loss on embeddings"
      ],
      "metadata": {
        "id": "CRrTGraFapaK"
      }
    },
    {
      "cell_type": "markdown",
      "source": [
        "<H3>одна эпоха"
      ],
      "metadata": {
        "id": "-947rJrHdMWt"
      }
    },
    {
      "cell_type": "code",
      "source": [
        "# тут НЕ сохраненные на зрачках веса грузятся\n",
        "#model = ViTExtractor(modeltype, arch=arch, normalise_features=False).train()\n",
        "optimizer = torch.optim.SGD(model.parameters(), lr=1e-6)\n",
        "#transform = get_normalisation_resize_torch(im_size=im_size)\n",
        "train_dataset = DatasetWithLabels(df, dataset_root=p,transform=transform)\n",
        "device = torch.device(\"cuda\")\n",
        "model.to(device)\n",
        "\n",
        "# PML specific\n",
        "distance = distances.LpDistance(p=2)\n",
        "reducer = reducers.ThresholdReducer(low=0)\n",
        "criterion = losses.TripletMarginLoss()\n",
        "\n",
        "miner = miners.TripletMarginMiner(margin=threshold, distance=distance, type_of_triplets=\"hard\")\n",
        "\n",
        "sampler = BalanceSampler(train_dataset.get_labels(), n_labels=2, n_instances=2)\n",
        "train_loader = torch.utils.data.DataLoader(train_dataset, batch_sampler=sampler)\n",
        "\n",
        "# Одна эпоха потом посмотрим когда метрики построим может и еще надо \n",
        "n_epoch=1\n",
        "\n",
        "for i in range(n_epoch):\n",
        "  for batch in tqdm(train_loader): \n",
        "    embeddings = model(batch[\"input_tensors\"].to(device))\n",
        "    loss = criterion(embeddings, batch[\"labels\"], miner(embeddings, batch[\"labels\"]))  # PML specific\n",
        "    loss.backward()\n",
        "    optimizer.step()\n",
        "    optimizer.zero_grad()\n",
        "    \n",
        "\n",
        "    "
      ],
      "metadata": {
        "colab": {
          "base_uri": "https://localhost:8080/"
        },
        "id": "9YYoCleHIwIj",
        "outputId": "97f380f8-9588-4544-a805-4b9ea3e60788"
      },
      "execution_count": 34,
      "outputs": [
        {
          "output_type": "stream",
          "name": "stderr",
          "text": [
            "100%|██████████| 32/32 [00:42<00:00,  1.33s/it]\n"
          ]
        }
      ]
    },
    {
      "cell_type": "markdown",
      "source": [
        "<H3> По слегка оттренированной\n",
        " модели смотрим какие метрики в валидации получились\n",
        " в калькуляторе"
      ],
      "metadata": {
        "id": "y3AfK71ZiOLl"
      }
    },
    {
      "cell_type": "code",
      "source": [
        "miner = miners.TripletMarginMiner(margin=threshold, distance=distance, type_of_triplets=\"all\")"
      ],
      "metadata": {
        "id": "6BQiR22Wf4mx"
      },
      "execution_count": 35,
      "outputs": []
    },
    {
      "cell_type": "code",
      "source": [
        "# создаем калькулятор метрик, в котором будем накапливать вектора\n",
        "\n",
        "val_dataset = DatasetQueryGallery(df, dataset_root=p,transform=transform)\n",
        "val_loader = torch.utils.data.DataLoader(val_dataset, batch_size=4)\n",
        "\n",
        "calculator = EmbeddingMetrics(map_top_k=(5,3,2,1),cmc_top_k =(5,3,2,1),precision_top_k =(5,3,2,1) )\n",
        "calculator.setup(num_samples=len(train_dataset))\n",
        "\n",
        "with torch.no_grad():\n",
        "    for batch in tqdm(val_loader):\n",
        "        batch[\"embeddings\"] = model(batch[\"input_tensors\"].to(device))\n",
        "        calculator.update_data(batch)  # накапливаем вектора\n",
        "\n"
      ],
      "metadata": {
        "colab": {
          "base_uri": "https://localhost:8080/"
        },
        "id": "8Cz7nDDGxQCS",
        "outputId": "9cf68cc1-8d7c-4e2c-8ba8-4c9db1eb28ab"
      },
      "execution_count": 36,
      "outputs": [
        {
          "output_type": "stream",
          "name": "stderr",
          "text": [
            "100%|██████████| 96/96 [01:11<00:00,  1.35it/s]\n"
          ]
        }
      ]
    },
    {
      "cell_type": "code",
      "source": [
        "metrics = calculator.compute_metrics()  # вычисляем метрики: cmc@k, precision@k, map@k"
      ],
      "metadata": {
        "colab": {
          "base_uri": "https://localhost:8080/"
        },
        "id": "yryYULrTkR7Z",
        "outputId": "c8f80d5a-68c7-4bed-ad26-c35a4965f220"
      },
      "execution_count": 37,
      "outputs": [
        {
          "output_type": "stream",
          "name": "stdout",
          "text": [
            "\n",
            "Metrics:\n",
            "{'OVERALL': {'cmc': {1: tensor(0.9961),\n",
            "                     2: tensor(1.),\n",
            "                     3: tensor(1.),\n",
            "                     5: tensor(1.)},\n",
            "             'map': {1: tensor(0.9961),\n",
            "                     2: tensor(0.9980),\n",
            "                     3: tensor(0.9938),\n",
            "                     5: tensor(0.9808)},\n",
            "             'pcf': {0.5: tensor(0.0078)},\n",
            "             'precision': {1: tensor(0.9961),\n",
            "                           2: tensor(0.9766),\n",
            "                           3: tensor(0.9362),\n",
            "                           5: tensor(0.9434)}}}\n"
          ]
        }
      ]
    },
    {
      "cell_type": "markdown",
      "source": [
        "<H3> Метрики свиду ОТЛИЧНЫЕ - спасибо за веса автору"
      ],
      "metadata": {
        "id": "drb-yEwBfUl2"
      }
    },
    {
      "cell_type": "markdown",
      "source": [
        "Теперь вместо поиска ближайшего по расстоянию \n",
        "поищем ближайшего по методу KNN (K neaarest neibourgs) при\n",
        "top_k = 3\n",
        "получим всего по одной ошибке на тестовых датасетах!"
      ],
      "metadata": {
        "id": "b8vPwk6t1TKt"
      }
    },
    {
      "cell_type": "code",
      "source": [],
      "metadata": {
        "id": "qu_n_Qqdp6N2"
      },
      "execution_count": null,
      "outputs": []
    },
    {
      "cell_type": "markdown",
      "source": [
        "<H3>Инференс по  базе MMU"
      ],
      "metadata": {
        "id": "PYw115DFXk0o"
      }
    },
    {
      "cell_type": "code",
      "source": [
        "df=df_iris_amf"
      ],
      "metadata": {
        "id": "TXkSgW3CseWi"
      },
      "execution_count": 38,
      "outputs": []
    },
    {
      "cell_type": "code",
      "source": [
        "# Смысл такой что по запросам query мы ищем ближайший (похоже 1) \n",
        "# но только среди элементов gallery\n",
        "queries=[]\n",
        "df_val=df[df['split']=='validation']\n",
        "df_val[\"path\"] = df_val[\"path\"].apply(lambda x: p / x)\n",
        "queries = df_val[df_val[\"is_query\"]==1.0][\"path\"].tolist()\n",
        "galleries = df_val[df_val[\"is_gallery\"]==1.0][\"path\"].tolist()\n",
        "\n",
        "args = {\"num_workers\": 0, \"batch_size\": 8}\n",
        "# эмбеддинги запросов и галереи\n",
        "features_queries = inference_on_images(model, paths=queries, transform=transform, **args)\n",
        "features_galleries = inference_on_images(model, paths=galleries, transform=transform, **args)\n",
        "\n",
        "use_knn = True\n",
        "top_k = 3\n",
        "if use_knn:\n",
        "    from sklearn.neighbors import NearestNeighbors\n",
        "    knn = NearestNeighbors(algorithm=\"auto\", p=2)\n",
        "    knn.fit(features_galleries)\n",
        "    dists, ii_closest = knn.kneighbors(features_queries, n_neighbors=top_k, return_distance=True)\n",
        "\n",
        "else:\n",
        "    dist_mat = pairwise_dist(x1=features_queries, x2=features_galleries)\n",
        "    dists, ii_closest = torch.topk(dist_mat, dim=1, k=top_k, largest=False)\n",
        "\n",
        "print(f\"Top {top_k} items closest to queries are:\\n {ii_closest}\")\n"
      ],
      "metadata": {
        "id": "MTuA9BT8YNs1"
      },
      "execution_count": null,
      "outputs": []
    },
    {
      "cell_type": "code",
      "source": [
        "dists"
      ],
      "metadata": {
        "id": "Qs1VC4uE7jAV"
      },
      "execution_count": null,
      "outputs": []
    },
    {
      "cell_type": "code",
      "source": [
        "df_queries = df_val[df_val[\"is_query\"]==1.0]\n",
        "df_galleries = df_val[df_val[\"is_gallery\"]==1.0]"
      ],
      "metadata": {
        "id": "z3uD3wgZYNyd"
      },
      "execution_count": 60,
      "outputs": []
    },
    {
      "cell_type": "code",
      "source": [
        "ii_closest[0].tolist()"
      ],
      "metadata": {
        "colab": {
          "base_uri": "https://localhost:8080/"
        },
        "id": "OjKgxS-rAu8U",
        "outputId": "6aca4fbf-7a29-46d9-fe24-646b81c2fc38"
      },
      "execution_count": null,
      "outputs": [
        {
          "output_type": "execute_result",
          "data": {
            "text/plain": [
              "[0, 1, 104]"
            ]
          },
          "metadata": {},
          "execution_count": 35
        }
      ]
    },
    {
      "cell_type": "code",
      "source": [
        "ppath1=[]\n",
        "ppath2=[]\n",
        "ppath3=[]\n",
        "predict1=[]\n",
        "predict2=[]\n",
        "predict3=[]\n",
        "dist1=[]\n",
        "dist2=[]\n",
        "dist3=[]\n",
        "\n",
        "\n",
        "\n",
        "for i3,m3 in zip(ii_closest.tolist(),dists.tolist()):\n",
        "  print(i3)\n",
        "  print(m3)\n",
        "  predict1.append(df_galleries.iloc[i3[0]]['label'])\n",
        "  predict2.append(df_galleries.iloc[i3[1]]['label'])\n",
        "  predict3.append(df_galleries.iloc[i3[2]]['label'])\n",
        "  ppath1.append((df_galleries.iloc[i3[0]]['src_file']))\n",
        "  ppath2.append((df_galleries.iloc[i3[1]]['src_file']))\n",
        "  ppath3.append((df_galleries.iloc[i3[2]]['src_file']))\n",
        "  dist1.append(m3[0])\n",
        "  dist2.append(m3[1])\n",
        "  dist3.append(m3[2])\n",
        "   \n",
        "  \n",
        "\n"
      ],
      "metadata": {
        "id": "tFoFzudpYN1J"
      },
      "execution_count": null,
      "outputs": []
    },
    {
      "cell_type": "code",
      "source": [
        "df_queries['predict']=predict1\n",
        "df_queries['predict2']=predict2\n",
        "df_queries['predict3']=predict3\n",
        "df_queries['ppath']=ppath1\n",
        "df_queries['ppath2']=ppath2\n",
        "df_queries['ppath3']=ppath3\n",
        "df_queries['dist']=dist1\n",
        "df_queries['dist2']=dist2\n",
        "df_queries['dist3']=dist3"
      ],
      "metadata": {
        "id": "UTJrLmyLYN4Q"
      },
      "execution_count": null,
      "outputs": []
    },
    {
      "cell_type": "code",
      "source": [
        "df_match=df_queries[df_queries['label']==df_queries['predict']]"
      ],
      "metadata": {
        "id": "8LWlXpisayGM"
      },
      "execution_count": 62,
      "outputs": []
    },
    {
      "cell_type": "code",
      "source": [
        "df_match"
      ],
      "metadata": {
        "colab": {
          "base_uri": "https://localhost:8080/",
          "height": 488
        },
        "id": "ar1uzpd6b5Hl",
        "outputId": "3d398fc5-db99-428d-f796-2f46015471c7"
      },
      "execution_count": 63,
      "outputs": [
        {
          "output_type": "execute_result",
          "data": {
            "text/plain": [
              "     label                        src_file       split  is_query  is_gallery  \\\n",
              "0        0   Iris_20220818_122827_Left.bmp  validation       1.0         0.0   \n",
              "3        0   Iris_20220818_122818_Left.bmp  validation       1.0         0.0   \n",
              "6        1   Iris_20220818_105655_Left.bmp  validation       1.0         0.0   \n",
              "9        1   Iris_20220818_105657_Left.bmp  validation       1.0         0.0   \n",
              "10       2   Iris_20220818_121801_Left.bmp  validation       1.0         0.0   \n",
              "..     ...                             ...         ...       ...         ...   \n",
              "529     51  Iris_20220817_123808_Right.bmp  validation       1.0         0.0   \n",
              "531     52  Iris_20220818_122133_Right.bmp  validation       1.0         0.0   \n",
              "533     52  Iris_20220818_122130_Right.bmp  validation       1.0         0.0   \n",
              "536     53  Iris_20220818_122420_Right.bmp  validation       1.0         0.0   \n",
              "537     53  Iris_20220818_122409_Right.bmp  validation       1.0         0.0   \n",
              "\n",
              "    eye   ds                                               path  predict  \\\n",
              "0     L  amf  /content/drive/MyDrive/iris/AMF_Iris_Dataset/a...        0   \n",
              "3     L  amf  /content/drive/MyDrive/iris/AMF_Iris_Dataset/a...        0   \n",
              "6     L  amf  /content/drive/MyDrive/iris/AMF_Iris_Dataset/a...        1   \n",
              "9     L  amf  /content/drive/MyDrive/iris/AMF_Iris_Dataset/a...        1   \n",
              "10    L  amf  /content/drive/MyDrive/iris/AMF_Iris_Dataset/a...        2   \n",
              "..   ..  ...                                                ...      ...   \n",
              "529   R  amf  /content/drive/MyDrive/iris/AMF_Iris_Dataset/z...       51   \n",
              "531   R  amf  /content/drive/MyDrive/iris/AMF_Iris_Dataset/z...       52   \n",
              "533   R  amf  /content/drive/MyDrive/iris/AMF_Iris_Dataset/z...       52   \n",
              "536   R  amf  /content/drive/MyDrive/iris/AMF_Iris_Dataset/z...       53   \n",
              "537   R  amf  /content/drive/MyDrive/iris/AMF_Iris_Dataset/z...       53   \n",
              "\n",
              "     predict2  predict3                           ppath  \\\n",
              "0           0         0   Iris_20220818_122823_Left.bmp   \n",
              "3           0         0   Iris_20220818_122823_Left.bmp   \n",
              "6           1         1   Iris_20220818_105659_Left.bmp   \n",
              "9           1         1   Iris_20220818_105659_Left.bmp   \n",
              "10          2         2   Iris_20220818_121757_Left.bmp   \n",
              "..        ...       ...                             ...   \n",
              "529        51        51  Iris_20220817_123810_Right.bmp   \n",
              "531        52        52  Iris_20220818_122136_Right.bmp   \n",
              "533        52        52  Iris_20220818_122127_Right.bmp   \n",
              "536        53        53  Iris_20220818_122416_Right.bmp   \n",
              "537        53        53  Iris_20220818_122405_Right.bmp   \n",
              "\n",
              "                             ppath2                          ppath3  \\\n",
              "0     Iris_20220818_122821_Left.bmp   Iris_20220818_122825_Left.bmp   \n",
              "3     Iris_20220818_122821_Left.bmp   Iris_20220818_122825_Left.bmp   \n",
              "6     Iris_20220818_105650_Left.bmp   Iris_20220818_105652_Left.bmp   \n",
              "9     Iris_20220818_105650_Left.bmp   Iris_20220818_105652_Left.bmp   \n",
              "10    Iris_20220818_121804_Left.bmp  Iris_20220818_121804_Right.bmp   \n",
              "..                              ...                             ...   \n",
              "529  Iris_20220817_123757_Right.bmp  Iris_20220817_123805_Right.bmp   \n",
              "531  Iris_20220818_122132_Right.bmp  Iris_20220818_122127_Right.bmp   \n",
              "533  Iris_20220818_122132_Right.bmp  Iris_20220818_122136_Right.bmp   \n",
              "536  Iris_20220818_122413_Right.bmp  Iris_20220818_122405_Right.bmp   \n",
              "537  Iris_20220818_122413_Right.bmp  Iris_20220818_122416_Right.bmp   \n",
              "\n",
              "          dist      dist2      dist3  \n",
              "0    10.258099  10.711012  11.534957  \n",
              "3    10.615119  11.424499  12.894082  \n",
              "6    15.679811  18.809160  20.351361  \n",
              "9    14.519103  16.641416  17.637912  \n",
              "10   16.792654  28.866051  35.092733  \n",
              "..         ...        ...        ...  \n",
              "529  12.635336  20.095952  21.438480  \n",
              "531  18.537797  25.477375  35.512447  \n",
              "533  17.688476  26.436992  27.788212  \n",
              "536   9.990708  12.787806  15.351968  \n",
              "537  10.314206  12.877095  14.773036  \n",
              "\n",
              "[269 rows x 17 columns]"
            ],
            "text/html": [
              "\n",
              "  <div id=\"df-6115b079-f6d6-4eb9-b956-f28ac97e8351\">\n",
              "    <div class=\"colab-df-container\">\n",
              "      <div>\n",
              "<style scoped>\n",
              "    .dataframe tbody tr th:only-of-type {\n",
              "        vertical-align: middle;\n",
              "    }\n",
              "\n",
              "    .dataframe tbody tr th {\n",
              "        vertical-align: top;\n",
              "    }\n",
              "\n",
              "    .dataframe thead th {\n",
              "        text-align: right;\n",
              "    }\n",
              "</style>\n",
              "<table border=\"1\" class=\"dataframe\">\n",
              "  <thead>\n",
              "    <tr style=\"text-align: right;\">\n",
              "      <th></th>\n",
              "      <th>label</th>\n",
              "      <th>src_file</th>\n",
              "      <th>split</th>\n",
              "      <th>is_query</th>\n",
              "      <th>is_gallery</th>\n",
              "      <th>eye</th>\n",
              "      <th>ds</th>\n",
              "      <th>path</th>\n",
              "      <th>predict</th>\n",
              "      <th>predict2</th>\n",
              "      <th>predict3</th>\n",
              "      <th>ppath</th>\n",
              "      <th>ppath2</th>\n",
              "      <th>ppath3</th>\n",
              "      <th>dist</th>\n",
              "      <th>dist2</th>\n",
              "      <th>dist3</th>\n",
              "    </tr>\n",
              "  </thead>\n",
              "  <tbody>\n",
              "    <tr>\n",
              "      <th>0</th>\n",
              "      <td>0</td>\n",
              "      <td>Iris_20220818_122827_Left.bmp</td>\n",
              "      <td>validation</td>\n",
              "      <td>1.0</td>\n",
              "      <td>0.0</td>\n",
              "      <td>L</td>\n",
              "      <td>amf</td>\n",
              "      <td>/content/drive/MyDrive/iris/AMF_Iris_Dataset/a...</td>\n",
              "      <td>0</td>\n",
              "      <td>0</td>\n",
              "      <td>0</td>\n",
              "      <td>Iris_20220818_122823_Left.bmp</td>\n",
              "      <td>Iris_20220818_122821_Left.bmp</td>\n",
              "      <td>Iris_20220818_122825_Left.bmp</td>\n",
              "      <td>10.258099</td>\n",
              "      <td>10.711012</td>\n",
              "      <td>11.534957</td>\n",
              "    </tr>\n",
              "    <tr>\n",
              "      <th>3</th>\n",
              "      <td>0</td>\n",
              "      <td>Iris_20220818_122818_Left.bmp</td>\n",
              "      <td>validation</td>\n",
              "      <td>1.0</td>\n",
              "      <td>0.0</td>\n",
              "      <td>L</td>\n",
              "      <td>amf</td>\n",
              "      <td>/content/drive/MyDrive/iris/AMF_Iris_Dataset/a...</td>\n",
              "      <td>0</td>\n",
              "      <td>0</td>\n",
              "      <td>0</td>\n",
              "      <td>Iris_20220818_122823_Left.bmp</td>\n",
              "      <td>Iris_20220818_122821_Left.bmp</td>\n",
              "      <td>Iris_20220818_122825_Left.bmp</td>\n",
              "      <td>10.615119</td>\n",
              "      <td>11.424499</td>\n",
              "      <td>12.894082</td>\n",
              "    </tr>\n",
              "    <tr>\n",
              "      <th>6</th>\n",
              "      <td>1</td>\n",
              "      <td>Iris_20220818_105655_Left.bmp</td>\n",
              "      <td>validation</td>\n",
              "      <td>1.0</td>\n",
              "      <td>0.0</td>\n",
              "      <td>L</td>\n",
              "      <td>amf</td>\n",
              "      <td>/content/drive/MyDrive/iris/AMF_Iris_Dataset/a...</td>\n",
              "      <td>1</td>\n",
              "      <td>1</td>\n",
              "      <td>1</td>\n",
              "      <td>Iris_20220818_105659_Left.bmp</td>\n",
              "      <td>Iris_20220818_105650_Left.bmp</td>\n",
              "      <td>Iris_20220818_105652_Left.bmp</td>\n",
              "      <td>15.679811</td>\n",
              "      <td>18.809160</td>\n",
              "      <td>20.351361</td>\n",
              "    </tr>\n",
              "    <tr>\n",
              "      <th>9</th>\n",
              "      <td>1</td>\n",
              "      <td>Iris_20220818_105657_Left.bmp</td>\n",
              "      <td>validation</td>\n",
              "      <td>1.0</td>\n",
              "      <td>0.0</td>\n",
              "      <td>L</td>\n",
              "      <td>amf</td>\n",
              "      <td>/content/drive/MyDrive/iris/AMF_Iris_Dataset/a...</td>\n",
              "      <td>1</td>\n",
              "      <td>1</td>\n",
              "      <td>1</td>\n",
              "      <td>Iris_20220818_105659_Left.bmp</td>\n",
              "      <td>Iris_20220818_105650_Left.bmp</td>\n",
              "      <td>Iris_20220818_105652_Left.bmp</td>\n",
              "      <td>14.519103</td>\n",
              "      <td>16.641416</td>\n",
              "      <td>17.637912</td>\n",
              "    </tr>\n",
              "    <tr>\n",
              "      <th>10</th>\n",
              "      <td>2</td>\n",
              "      <td>Iris_20220818_121801_Left.bmp</td>\n",
              "      <td>validation</td>\n",
              "      <td>1.0</td>\n",
              "      <td>0.0</td>\n",
              "      <td>L</td>\n",
              "      <td>amf</td>\n",
              "      <td>/content/drive/MyDrive/iris/AMF_Iris_Dataset/a...</td>\n",
              "      <td>2</td>\n",
              "      <td>2</td>\n",
              "      <td>2</td>\n",
              "      <td>Iris_20220818_121757_Left.bmp</td>\n",
              "      <td>Iris_20220818_121804_Left.bmp</td>\n",
              "      <td>Iris_20220818_121804_Right.bmp</td>\n",
              "      <td>16.792654</td>\n",
              "      <td>28.866051</td>\n",
              "      <td>35.092733</td>\n",
              "    </tr>\n",
              "    <tr>\n",
              "      <th>...</th>\n",
              "      <td>...</td>\n",
              "      <td>...</td>\n",
              "      <td>...</td>\n",
              "      <td>...</td>\n",
              "      <td>...</td>\n",
              "      <td>...</td>\n",
              "      <td>...</td>\n",
              "      <td>...</td>\n",
              "      <td>...</td>\n",
              "      <td>...</td>\n",
              "      <td>...</td>\n",
              "      <td>...</td>\n",
              "      <td>...</td>\n",
              "      <td>...</td>\n",
              "      <td>...</td>\n",
              "      <td>...</td>\n",
              "      <td>...</td>\n",
              "    </tr>\n",
              "    <tr>\n",
              "      <th>529</th>\n",
              "      <td>51</td>\n",
              "      <td>Iris_20220817_123808_Right.bmp</td>\n",
              "      <td>validation</td>\n",
              "      <td>1.0</td>\n",
              "      <td>0.0</td>\n",
              "      <td>R</td>\n",
              "      <td>amf</td>\n",
              "      <td>/content/drive/MyDrive/iris/AMF_Iris_Dataset/z...</td>\n",
              "      <td>51</td>\n",
              "      <td>51</td>\n",
              "      <td>51</td>\n",
              "      <td>Iris_20220817_123810_Right.bmp</td>\n",
              "      <td>Iris_20220817_123757_Right.bmp</td>\n",
              "      <td>Iris_20220817_123805_Right.bmp</td>\n",
              "      <td>12.635336</td>\n",
              "      <td>20.095952</td>\n",
              "      <td>21.438480</td>\n",
              "    </tr>\n",
              "    <tr>\n",
              "      <th>531</th>\n",
              "      <td>52</td>\n",
              "      <td>Iris_20220818_122133_Right.bmp</td>\n",
              "      <td>validation</td>\n",
              "      <td>1.0</td>\n",
              "      <td>0.0</td>\n",
              "      <td>R</td>\n",
              "      <td>amf</td>\n",
              "      <td>/content/drive/MyDrive/iris/AMF_Iris_Dataset/z...</td>\n",
              "      <td>52</td>\n",
              "      <td>52</td>\n",
              "      <td>52</td>\n",
              "      <td>Iris_20220818_122136_Right.bmp</td>\n",
              "      <td>Iris_20220818_122132_Right.bmp</td>\n",
              "      <td>Iris_20220818_122127_Right.bmp</td>\n",
              "      <td>18.537797</td>\n",
              "      <td>25.477375</td>\n",
              "      <td>35.512447</td>\n",
              "    </tr>\n",
              "    <tr>\n",
              "      <th>533</th>\n",
              "      <td>52</td>\n",
              "      <td>Iris_20220818_122130_Right.bmp</td>\n",
              "      <td>validation</td>\n",
              "      <td>1.0</td>\n",
              "      <td>0.0</td>\n",
              "      <td>R</td>\n",
              "      <td>amf</td>\n",
              "      <td>/content/drive/MyDrive/iris/AMF_Iris_Dataset/z...</td>\n",
              "      <td>52</td>\n",
              "      <td>52</td>\n",
              "      <td>52</td>\n",
              "      <td>Iris_20220818_122127_Right.bmp</td>\n",
              "      <td>Iris_20220818_122132_Right.bmp</td>\n",
              "      <td>Iris_20220818_122136_Right.bmp</td>\n",
              "      <td>17.688476</td>\n",
              "      <td>26.436992</td>\n",
              "      <td>27.788212</td>\n",
              "    </tr>\n",
              "    <tr>\n",
              "      <th>536</th>\n",
              "      <td>53</td>\n",
              "      <td>Iris_20220818_122420_Right.bmp</td>\n",
              "      <td>validation</td>\n",
              "      <td>1.0</td>\n",
              "      <td>0.0</td>\n",
              "      <td>R</td>\n",
              "      <td>amf</td>\n",
              "      <td>/content/drive/MyDrive/iris/AMF_Iris_Dataset/z...</td>\n",
              "      <td>53</td>\n",
              "      <td>53</td>\n",
              "      <td>53</td>\n",
              "      <td>Iris_20220818_122416_Right.bmp</td>\n",
              "      <td>Iris_20220818_122413_Right.bmp</td>\n",
              "      <td>Iris_20220818_122405_Right.bmp</td>\n",
              "      <td>9.990708</td>\n",
              "      <td>12.787806</td>\n",
              "      <td>15.351968</td>\n",
              "    </tr>\n",
              "    <tr>\n",
              "      <th>537</th>\n",
              "      <td>53</td>\n",
              "      <td>Iris_20220818_122409_Right.bmp</td>\n",
              "      <td>validation</td>\n",
              "      <td>1.0</td>\n",
              "      <td>0.0</td>\n",
              "      <td>R</td>\n",
              "      <td>amf</td>\n",
              "      <td>/content/drive/MyDrive/iris/AMF_Iris_Dataset/z...</td>\n",
              "      <td>53</td>\n",
              "      <td>53</td>\n",
              "      <td>53</td>\n",
              "      <td>Iris_20220818_122405_Right.bmp</td>\n",
              "      <td>Iris_20220818_122413_Right.bmp</td>\n",
              "      <td>Iris_20220818_122416_Right.bmp</td>\n",
              "      <td>10.314206</td>\n",
              "      <td>12.877095</td>\n",
              "      <td>14.773036</td>\n",
              "    </tr>\n",
              "  </tbody>\n",
              "</table>\n",
              "<p>269 rows × 17 columns</p>\n",
              "</div>\n",
              "      <button class=\"colab-df-convert\" onclick=\"convertToInteractive('df-6115b079-f6d6-4eb9-b956-f28ac97e8351')\"\n",
              "              title=\"Convert this dataframe to an interactive table.\"\n",
              "              style=\"display:none;\">\n",
              "        \n",
              "  <svg xmlns=\"http://www.w3.org/2000/svg\" height=\"24px\"viewBox=\"0 0 24 24\"\n",
              "       width=\"24px\">\n",
              "    <path d=\"M0 0h24v24H0V0z\" fill=\"none\"/>\n",
              "    <path d=\"M18.56 5.44l.94 2.06.94-2.06 2.06-.94-2.06-.94-.94-2.06-.94 2.06-2.06.94zm-11 1L8.5 8.5l.94-2.06 2.06-.94-2.06-.94L8.5 2.5l-.94 2.06-2.06.94zm10 10l.94 2.06.94-2.06 2.06-.94-2.06-.94-.94-2.06-.94 2.06-2.06.94z\"/><path d=\"M17.41 7.96l-1.37-1.37c-.4-.4-.92-.59-1.43-.59-.52 0-1.04.2-1.43.59L10.3 9.45l-7.72 7.72c-.78.78-.78 2.05 0 2.83L4 21.41c.39.39.9.59 1.41.59.51 0 1.02-.2 1.41-.59l7.78-7.78 2.81-2.81c.8-.78.8-2.07 0-2.86zM5.41 20L4 18.59l7.72-7.72 1.47 1.35L5.41 20z\"/>\n",
              "  </svg>\n",
              "      </button>\n",
              "      \n",
              "  <style>\n",
              "    .colab-df-container {\n",
              "      display:flex;\n",
              "      flex-wrap:wrap;\n",
              "      gap: 12px;\n",
              "    }\n",
              "\n",
              "    .colab-df-convert {\n",
              "      background-color: #E8F0FE;\n",
              "      border: none;\n",
              "      border-radius: 50%;\n",
              "      cursor: pointer;\n",
              "      display: none;\n",
              "      fill: #1967D2;\n",
              "      height: 32px;\n",
              "      padding: 0 0 0 0;\n",
              "      width: 32px;\n",
              "    }\n",
              "\n",
              "    .colab-df-convert:hover {\n",
              "      background-color: #E2EBFA;\n",
              "      box-shadow: 0px 1px 2px rgba(60, 64, 67, 0.3), 0px 1px 3px 1px rgba(60, 64, 67, 0.15);\n",
              "      fill: #174EA6;\n",
              "    }\n",
              "\n",
              "    [theme=dark] .colab-df-convert {\n",
              "      background-color: #3B4455;\n",
              "      fill: #D2E3FC;\n",
              "    }\n",
              "\n",
              "    [theme=dark] .colab-df-convert:hover {\n",
              "      background-color: #434B5C;\n",
              "      box-shadow: 0px 1px 3px 1px rgba(0, 0, 0, 0.15);\n",
              "      filter: drop-shadow(0px 1px 2px rgba(0, 0, 0, 0.3));\n",
              "      fill: #FFFFFF;\n",
              "    }\n",
              "  </style>\n",
              "\n",
              "      <script>\n",
              "        const buttonEl =\n",
              "          document.querySelector('#df-6115b079-f6d6-4eb9-b956-f28ac97e8351 button.colab-df-convert');\n",
              "        buttonEl.style.display =\n",
              "          google.colab.kernel.accessAllowed ? 'block' : 'none';\n",
              "\n",
              "        async function convertToInteractive(key) {\n",
              "          const element = document.querySelector('#df-6115b079-f6d6-4eb9-b956-f28ac97e8351');\n",
              "          const dataTable =\n",
              "            await google.colab.kernel.invokeFunction('convertToInteractive',\n",
              "                                                     [key], {});\n",
              "          if (!dataTable) return;\n",
              "\n",
              "          const docLinkHtml = 'Like what you see? Visit the ' +\n",
              "            '<a target=\"_blank\" href=https://colab.research.google.com/notebooks/data_table.ipynb>data table notebook</a>'\n",
              "            + ' to learn more about interactive tables.';\n",
              "          element.innerHTML = '';\n",
              "          dataTable['output_type'] = 'display_data';\n",
              "          await google.colab.output.renderOutput(dataTable, element);\n",
              "          const docLink = document.createElement('div');\n",
              "          docLink.innerHTML = docLinkHtml;\n",
              "          element.appendChild(docLink);\n",
              "        }\n",
              "      </script>\n",
              "    </div>\n",
              "  </div>\n",
              "  "
            ]
          },
          "metadata": {},
          "execution_count": 63
        }
      ]
    },
    {
      "cell_type": "code",
      "source": [
        "df_err=df_queries[df_queries['label']!=df_queries['predict']]"
      ],
      "metadata": {
        "id": "dsn_B4w8ayJW"
      },
      "execution_count": 64,
      "outputs": []
    },
    {
      "cell_type": "code",
      "source": [
        "df_err"
      ],
      "metadata": {
        "colab": {
          "base_uri": "https://localhost:8080/",
          "height": 145
        },
        "id": "KIuuFS-2YN7P",
        "outputId": "b38a25c4-56c2-4a15-c6ef-06043fe7e9e8"
      },
      "execution_count": 65,
      "outputs": [
        {
          "output_type": "execute_result",
          "data": {
            "text/plain": [
              "    label                       src_file       split  is_query  is_gallery  \\\n",
              "23      4  Iris_20220817_115959_Left.bmp  validation       1.0         0.0   \n",
              "\n",
              "   eye   ds                                               path  predict  \\\n",
              "23   L  amf  /content/drive/MyDrive/iris/AMF_Iris_Dataset/a...        0   \n",
              "\n",
              "    predict2  predict3                          ppath  \\\n",
              "23        31        31  Iris_20220818_122825_Left.bmp   \n",
              "\n",
              "                           ppath2                         ppath3       dist  \\\n",
              "23  Iris_20220818_122912_Left.bmp  Iris_20220818_122919_Left.bmp  36.641959   \n",
              "\n",
              "        dist2      dist3  \n",
              "23  37.163879  37.250195  "
            ],
            "text/html": [
              "\n",
              "  <div id=\"df-c7964063-906f-4ec4-aa3f-8e6cd3879580\">\n",
              "    <div class=\"colab-df-container\">\n",
              "      <div>\n",
              "<style scoped>\n",
              "    .dataframe tbody tr th:only-of-type {\n",
              "        vertical-align: middle;\n",
              "    }\n",
              "\n",
              "    .dataframe tbody tr th {\n",
              "        vertical-align: top;\n",
              "    }\n",
              "\n",
              "    .dataframe thead th {\n",
              "        text-align: right;\n",
              "    }\n",
              "</style>\n",
              "<table border=\"1\" class=\"dataframe\">\n",
              "  <thead>\n",
              "    <tr style=\"text-align: right;\">\n",
              "      <th></th>\n",
              "      <th>label</th>\n",
              "      <th>src_file</th>\n",
              "      <th>split</th>\n",
              "      <th>is_query</th>\n",
              "      <th>is_gallery</th>\n",
              "      <th>eye</th>\n",
              "      <th>ds</th>\n",
              "      <th>path</th>\n",
              "      <th>predict</th>\n",
              "      <th>predict2</th>\n",
              "      <th>predict3</th>\n",
              "      <th>ppath</th>\n",
              "      <th>ppath2</th>\n",
              "      <th>ppath3</th>\n",
              "      <th>dist</th>\n",
              "      <th>dist2</th>\n",
              "      <th>dist3</th>\n",
              "    </tr>\n",
              "  </thead>\n",
              "  <tbody>\n",
              "    <tr>\n",
              "      <th>23</th>\n",
              "      <td>4</td>\n",
              "      <td>Iris_20220817_115959_Left.bmp</td>\n",
              "      <td>validation</td>\n",
              "      <td>1.0</td>\n",
              "      <td>0.0</td>\n",
              "      <td>L</td>\n",
              "      <td>amf</td>\n",
              "      <td>/content/drive/MyDrive/iris/AMF_Iris_Dataset/a...</td>\n",
              "      <td>0</td>\n",
              "      <td>31</td>\n",
              "      <td>31</td>\n",
              "      <td>Iris_20220818_122825_Left.bmp</td>\n",
              "      <td>Iris_20220818_122912_Left.bmp</td>\n",
              "      <td>Iris_20220818_122919_Left.bmp</td>\n",
              "      <td>36.641959</td>\n",
              "      <td>37.163879</td>\n",
              "      <td>37.250195</td>\n",
              "    </tr>\n",
              "  </tbody>\n",
              "</table>\n",
              "</div>\n",
              "      <button class=\"colab-df-convert\" onclick=\"convertToInteractive('df-c7964063-906f-4ec4-aa3f-8e6cd3879580')\"\n",
              "              title=\"Convert this dataframe to an interactive table.\"\n",
              "              style=\"display:none;\">\n",
              "        \n",
              "  <svg xmlns=\"http://www.w3.org/2000/svg\" height=\"24px\"viewBox=\"0 0 24 24\"\n",
              "       width=\"24px\">\n",
              "    <path d=\"M0 0h24v24H0V0z\" fill=\"none\"/>\n",
              "    <path d=\"M18.56 5.44l.94 2.06.94-2.06 2.06-.94-2.06-.94-.94-2.06-.94 2.06-2.06.94zm-11 1L8.5 8.5l.94-2.06 2.06-.94-2.06-.94L8.5 2.5l-.94 2.06-2.06.94zm10 10l.94 2.06.94-2.06 2.06-.94-2.06-.94-.94-2.06-.94 2.06-2.06.94z\"/><path d=\"M17.41 7.96l-1.37-1.37c-.4-.4-.92-.59-1.43-.59-.52 0-1.04.2-1.43.59L10.3 9.45l-7.72 7.72c-.78.78-.78 2.05 0 2.83L4 21.41c.39.39.9.59 1.41.59.51 0 1.02-.2 1.41-.59l7.78-7.78 2.81-2.81c.8-.78.8-2.07 0-2.86zM5.41 20L4 18.59l7.72-7.72 1.47 1.35L5.41 20z\"/>\n",
              "  </svg>\n",
              "      </button>\n",
              "      \n",
              "  <style>\n",
              "    .colab-df-container {\n",
              "      display:flex;\n",
              "      flex-wrap:wrap;\n",
              "      gap: 12px;\n",
              "    }\n",
              "\n",
              "    .colab-df-convert {\n",
              "      background-color: #E8F0FE;\n",
              "      border: none;\n",
              "      border-radius: 50%;\n",
              "      cursor: pointer;\n",
              "      display: none;\n",
              "      fill: #1967D2;\n",
              "      height: 32px;\n",
              "      padding: 0 0 0 0;\n",
              "      width: 32px;\n",
              "    }\n",
              "\n",
              "    .colab-df-convert:hover {\n",
              "      background-color: #E2EBFA;\n",
              "      box-shadow: 0px 1px 2px rgba(60, 64, 67, 0.3), 0px 1px 3px 1px rgba(60, 64, 67, 0.15);\n",
              "      fill: #174EA6;\n",
              "    }\n",
              "\n",
              "    [theme=dark] .colab-df-convert {\n",
              "      background-color: #3B4455;\n",
              "      fill: #D2E3FC;\n",
              "    }\n",
              "\n",
              "    [theme=dark] .colab-df-convert:hover {\n",
              "      background-color: #434B5C;\n",
              "      box-shadow: 0px 1px 3px 1px rgba(0, 0, 0, 0.15);\n",
              "      filter: drop-shadow(0px 1px 2px rgba(0, 0, 0, 0.3));\n",
              "      fill: #FFFFFF;\n",
              "    }\n",
              "  </style>\n",
              "\n",
              "      <script>\n",
              "        const buttonEl =\n",
              "          document.querySelector('#df-c7964063-906f-4ec4-aa3f-8e6cd3879580 button.colab-df-convert');\n",
              "        buttonEl.style.display =\n",
              "          google.colab.kernel.accessAllowed ? 'block' : 'none';\n",
              "\n",
              "        async function convertToInteractive(key) {\n",
              "          const element = document.querySelector('#df-c7964063-906f-4ec4-aa3f-8e6cd3879580');\n",
              "          const dataTable =\n",
              "            await google.colab.kernel.invokeFunction('convertToInteractive',\n",
              "                                                     [key], {});\n",
              "          if (!dataTable) return;\n",
              "\n",
              "          const docLinkHtml = 'Like what you see? Visit the ' +\n",
              "            '<a target=\"_blank\" href=https://colab.research.google.com/notebooks/data_table.ipynb>data table notebook</a>'\n",
              "            + ' to learn more about interactive tables.';\n",
              "          element.innerHTML = '';\n",
              "          dataTable['output_type'] = 'display_data';\n",
              "          await google.colab.output.renderOutput(dataTable, element);\n",
              "          const docLink = document.createElement('div');\n",
              "          docLink.innerHTML = docLinkHtml;\n",
              "          element.appendChild(docLink);\n",
              "        }\n",
              "      </script>\n",
              "    </div>\n",
              "  </div>\n",
              "  "
            ]
          },
          "metadata": {},
          "execution_count": 65
        }
      ]
    },
    {
      "cell_type": "markdown",
      "source": [
        "<H3> Все ниже можно не читать - это исследование на предмет не слишком ли у нас большой эмбеддинг - 384)"
      ],
      "metadata": {
        "id": "Za7CdayUfWAk"
      }
    },
    {
      "cell_type": "code",
      "source": [
        "df=df_iris_amf"
      ],
      "metadata": {
        "id": "2PgErC_iBLGl"
      },
      "execution_count": 66,
      "outputs": []
    },
    {
      "cell_type": "code",
      "source": [
        "# Смысл такой что по запросам query мы ищем ближайший (похоже 1) \n",
        "# но только среди элементов gallery\n",
        "queries=[]\n",
        "df_val=df[df['split']=='validation']\n",
        "df_val[\"path\"] = df_val[\"path\"].apply(lambda x: p / x)\n",
        "queries = df_val[df_val[\"is_query\"]==1.0][\"path\"].tolist()\n",
        "galleries = df_val[df_val[\"is_gallery\"]==1.0][\"path\"].tolist()\n",
        "\n",
        "args = {\"num_workers\": 0, \"batch_size\": 8}\n",
        "# эмбеддинги запросов и галереи\n",
        "features_queries = inference_on_images(model, paths=queries, transform=transform, **args)\n",
        "features_galleries = inference_on_images(model, paths=galleries, transform=transform, **args)\n",
        "\n",
        "use_knn = True\n",
        "top_k = 3\n",
        "if use_knn:\n",
        "    from sklearn.neighbors import NearestNeighbors\n",
        "    knn = NearestNeighbors(algorithm=\"auto\", p=2)\n",
        "    knn.fit(features_galleries)\n",
        "    dists, ii_closest = knn.kneighbors(features_queries, n_neighbors=top_k, return_distance=True)\n",
        "\n",
        "else:\n",
        "    dist_mat = pairwise_dist(x1=features_queries, x2=features_galleries)\n",
        "    dists, ii_closest = torch.topk(dist_mat, dim=1, k=top_k, largest=False)\n",
        "\n",
        "print(f\"Top {top_k} items closest to queries are:\\n {ii_closest}\")\n"
      ],
      "metadata": {
        "id": "aKDcYvywyC8G"
      },
      "execution_count": null,
      "outputs": []
    },
    {
      "cell_type": "code",
      "source": [
        "df_queries = df_val[df_val[\"is_query\"]==1.0]\n",
        "df_galleries = df_val[df_val[\"is_gallery\"]==1.0]"
      ],
      "metadata": {
        "id": "7k-5aiu1yC-r"
      },
      "execution_count": 69,
      "outputs": []
    },
    {
      "cell_type": "code",
      "source": [
        "ppath1=[]\n",
        "ppath2=[]\n",
        "ppath3=[]\n",
        "predict1=[]\n",
        "predict2=[]\n",
        "predict3=[]\n",
        "dist1=[]\n",
        "dist2=[]\n",
        "dist3=[]\n",
        "\n",
        "\n",
        "\n",
        "for i3,m3 in zip(ii_closest.tolist(),dists.tolist()):\n",
        "  print(i3)\n",
        "  print(m3)\n",
        "  predict1.append(df_galleries.iloc[i3[0]]['label'])\n",
        "  predict2.append(df_galleries.iloc[i3[1]]['label'])\n",
        "  predict3.append(df_galleries.iloc[i3[2]]['label'])\n",
        "  ppath1.append((df_galleries.iloc[i3[0]]['src_file']))\n",
        "  ppath2.append((df_galleries.iloc[i3[1]]['src_file']))\n",
        "  ppath3.append((df_galleries.iloc[i3[2]]['src_file']))\n",
        "  dist1.append(m3[0])\n",
        "  dist2.append(m3[1])\n",
        "  dist3.append(m3[2])\n",
        "   "
      ],
      "metadata": {
        "id": "olkMJhYgyDBb"
      },
      "execution_count": null,
      "outputs": []
    },
    {
      "cell_type": "code",
      "source": [
        "df_queries['predict']=predict1\n",
        "df_queries['predict2']=predict2\n",
        "df_queries['predict3']=predict3\n",
        "df_queries['ppath']=ppath1\n",
        "df_queries['ppath2']=ppath2\n",
        "df_queries['ppath3']=ppath3\n",
        "df_queries['dist']=dist1\n",
        "df_queries['dist2']=dist2\n",
        "df_queries['dist3']=dist3"
      ],
      "metadata": {
        "colab": {
          "base_uri": "https://localhost:8080/"
        },
        "id": "qACkMVKpyDEM",
        "outputId": "fa44d1e5-a6ad-448f-c380-b65bd304ccb7"
      },
      "execution_count": 71,
      "outputs": [
        {
          "output_type": "stream",
          "name": "stderr",
          "text": [
            "<ipython-input-71-00e9fe507c25>:1: SettingWithCopyWarning: \n",
            "A value is trying to be set on a copy of a slice from a DataFrame.\n",
            "Try using .loc[row_indexer,col_indexer] = value instead\n",
            "\n",
            "See the caveats in the documentation: https://pandas.pydata.org/pandas-docs/stable/user_guide/indexing.html#returning-a-view-versus-a-copy\n",
            "  df_queries['predict']=predict1\n",
            "<ipython-input-71-00e9fe507c25>:2: SettingWithCopyWarning: \n",
            "A value is trying to be set on a copy of a slice from a DataFrame.\n",
            "Try using .loc[row_indexer,col_indexer] = value instead\n",
            "\n",
            "See the caveats in the documentation: https://pandas.pydata.org/pandas-docs/stable/user_guide/indexing.html#returning-a-view-versus-a-copy\n",
            "  df_queries['predict2']=predict2\n",
            "<ipython-input-71-00e9fe507c25>:3: SettingWithCopyWarning: \n",
            "A value is trying to be set on a copy of a slice from a DataFrame.\n",
            "Try using .loc[row_indexer,col_indexer] = value instead\n",
            "\n",
            "See the caveats in the documentation: https://pandas.pydata.org/pandas-docs/stable/user_guide/indexing.html#returning-a-view-versus-a-copy\n",
            "  df_queries['predict3']=predict3\n",
            "<ipython-input-71-00e9fe507c25>:4: SettingWithCopyWarning: \n",
            "A value is trying to be set on a copy of a slice from a DataFrame.\n",
            "Try using .loc[row_indexer,col_indexer] = value instead\n",
            "\n",
            "See the caveats in the documentation: https://pandas.pydata.org/pandas-docs/stable/user_guide/indexing.html#returning-a-view-versus-a-copy\n",
            "  df_queries['ppath']=ppath1\n",
            "<ipython-input-71-00e9fe507c25>:5: SettingWithCopyWarning: \n",
            "A value is trying to be set on a copy of a slice from a DataFrame.\n",
            "Try using .loc[row_indexer,col_indexer] = value instead\n",
            "\n",
            "See the caveats in the documentation: https://pandas.pydata.org/pandas-docs/stable/user_guide/indexing.html#returning-a-view-versus-a-copy\n",
            "  df_queries['ppath2']=ppath2\n",
            "<ipython-input-71-00e9fe507c25>:6: SettingWithCopyWarning: \n",
            "A value is trying to be set on a copy of a slice from a DataFrame.\n",
            "Try using .loc[row_indexer,col_indexer] = value instead\n",
            "\n",
            "See the caveats in the documentation: https://pandas.pydata.org/pandas-docs/stable/user_guide/indexing.html#returning-a-view-versus-a-copy\n",
            "  df_queries['ppath3']=ppath3\n",
            "<ipython-input-71-00e9fe507c25>:7: SettingWithCopyWarning: \n",
            "A value is trying to be set on a copy of a slice from a DataFrame.\n",
            "Try using .loc[row_indexer,col_indexer] = value instead\n",
            "\n",
            "See the caveats in the documentation: https://pandas.pydata.org/pandas-docs/stable/user_guide/indexing.html#returning-a-view-versus-a-copy\n",
            "  df_queries['dist']=dist1\n",
            "<ipython-input-71-00e9fe507c25>:8: SettingWithCopyWarning: \n",
            "A value is trying to be set on a copy of a slice from a DataFrame.\n",
            "Try using .loc[row_indexer,col_indexer] = value instead\n",
            "\n",
            "See the caveats in the documentation: https://pandas.pydata.org/pandas-docs/stable/user_guide/indexing.html#returning-a-view-versus-a-copy\n",
            "  df_queries['dist2']=dist2\n",
            "<ipython-input-71-00e9fe507c25>:9: SettingWithCopyWarning: \n",
            "A value is trying to be set on a copy of a slice from a DataFrame.\n",
            "Try using .loc[row_indexer,col_indexer] = value instead\n",
            "\n",
            "See the caveats in the documentation: https://pandas.pydata.org/pandas-docs/stable/user_guide/indexing.html#returning-a-view-versus-a-copy\n",
            "  df_queries['dist3']=dist3\n"
          ]
        }
      ]
    },
    {
      "cell_type": "code",
      "source": [
        "df_match=df_queries[df_queries['label']==df_queries['predict']]"
      ],
      "metadata": {
        "id": "vhwxETloyDHD"
      },
      "execution_count": 72,
      "outputs": []
    },
    {
      "cell_type": "code",
      "source": [
        "df_match"
      ],
      "metadata": {
        "colab": {
          "base_uri": "https://localhost:8080/",
          "height": 488
        },
        "id": "kCUnCQFtyDJy",
        "outputId": "edd31367-ed7f-4313-febc-d47b5d38ee85"
      },
      "execution_count": 73,
      "outputs": [
        {
          "output_type": "execute_result",
          "data": {
            "text/plain": [
              "     label                        src_file       split  is_query  is_gallery  \\\n",
              "0        0   Iris_20220818_122827_Left.bmp  validation       1.0         0.0   \n",
              "3        0   Iris_20220818_122818_Left.bmp  validation       1.0         0.0   \n",
              "6        1   Iris_20220818_105655_Left.bmp  validation       1.0         0.0   \n",
              "9        1   Iris_20220818_105657_Left.bmp  validation       1.0         0.0   \n",
              "10       2   Iris_20220818_121801_Left.bmp  validation       1.0         0.0   \n",
              "..     ...                             ...         ...       ...         ...   \n",
              "529     51  Iris_20220817_123808_Right.bmp  validation       1.0         0.0   \n",
              "531     52  Iris_20220818_122133_Right.bmp  validation       1.0         0.0   \n",
              "533     52  Iris_20220818_122130_Right.bmp  validation       1.0         0.0   \n",
              "536     53  Iris_20220818_122420_Right.bmp  validation       1.0         0.0   \n",
              "537     53  Iris_20220818_122409_Right.bmp  validation       1.0         0.0   \n",
              "\n",
              "    eye   ds                                               path  predict  \\\n",
              "0     L  amf  /content/drive/MyDrive/iris/AMF_Iris_Dataset/a...        0   \n",
              "3     L  amf  /content/drive/MyDrive/iris/AMF_Iris_Dataset/a...        0   \n",
              "6     L  amf  /content/drive/MyDrive/iris/AMF_Iris_Dataset/a...        1   \n",
              "9     L  amf  /content/drive/MyDrive/iris/AMF_Iris_Dataset/a...        1   \n",
              "10    L  amf  /content/drive/MyDrive/iris/AMF_Iris_Dataset/a...        2   \n",
              "..   ..  ...                                                ...      ...   \n",
              "529   R  amf  /content/drive/MyDrive/iris/AMF_Iris_Dataset/z...       51   \n",
              "531   R  amf  /content/drive/MyDrive/iris/AMF_Iris_Dataset/z...       52   \n",
              "533   R  amf  /content/drive/MyDrive/iris/AMF_Iris_Dataset/z...       52   \n",
              "536   R  amf  /content/drive/MyDrive/iris/AMF_Iris_Dataset/z...       53   \n",
              "537   R  amf  /content/drive/MyDrive/iris/AMF_Iris_Dataset/z...       53   \n",
              "\n",
              "     predict2  predict3                           ppath  \\\n",
              "0           0         0   Iris_20220818_122823_Left.bmp   \n",
              "3           0         0   Iris_20220818_122823_Left.bmp   \n",
              "6           1         1   Iris_20220818_105659_Left.bmp   \n",
              "9           1         1   Iris_20220818_105659_Left.bmp   \n",
              "10          2         2   Iris_20220818_121757_Left.bmp   \n",
              "..        ...       ...                             ...   \n",
              "529        51        51  Iris_20220817_123810_Right.bmp   \n",
              "531        52        52  Iris_20220818_122136_Right.bmp   \n",
              "533        52        52  Iris_20220818_122127_Right.bmp   \n",
              "536        53        53  Iris_20220818_122416_Right.bmp   \n",
              "537        53        53  Iris_20220818_122405_Right.bmp   \n",
              "\n",
              "                             ppath2                          ppath3  \\\n",
              "0     Iris_20220818_122821_Left.bmp   Iris_20220818_122825_Left.bmp   \n",
              "3     Iris_20220818_122821_Left.bmp   Iris_20220818_122825_Left.bmp   \n",
              "6     Iris_20220818_105650_Left.bmp   Iris_20220818_105652_Left.bmp   \n",
              "9     Iris_20220818_105650_Left.bmp   Iris_20220818_105652_Left.bmp   \n",
              "10    Iris_20220818_121804_Left.bmp  Iris_20220818_121804_Right.bmp   \n",
              "..                              ...                             ...   \n",
              "529  Iris_20220817_123757_Right.bmp  Iris_20220817_123805_Right.bmp   \n",
              "531  Iris_20220818_122132_Right.bmp  Iris_20220818_122127_Right.bmp   \n",
              "533  Iris_20220818_122132_Right.bmp  Iris_20220818_122136_Right.bmp   \n",
              "536  Iris_20220818_122413_Right.bmp  Iris_20220818_122405_Right.bmp   \n",
              "537  Iris_20220818_122413_Right.bmp  Iris_20220818_122416_Right.bmp   \n",
              "\n",
              "          dist      dist2      dist3  \n",
              "0    10.258099  10.711012  11.534957  \n",
              "3    10.615119  11.424499  12.894082  \n",
              "6    15.679811  18.809160  20.351361  \n",
              "9    14.519103  16.641416  17.637912  \n",
              "10   16.792654  28.866051  35.092733  \n",
              "..         ...        ...        ...  \n",
              "529  12.635336  20.095952  21.438480  \n",
              "531  18.537797  25.477375  35.512447  \n",
              "533  17.688476  26.436992  27.788212  \n",
              "536   9.990708  12.787806  15.351968  \n",
              "537  10.314206  12.877095  14.773036  \n",
              "\n",
              "[269 rows x 17 columns]"
            ],
            "text/html": [
              "\n",
              "  <div id=\"df-7c7411c4-d663-474c-962c-7c92a052fc72\">\n",
              "    <div class=\"colab-df-container\">\n",
              "      <div>\n",
              "<style scoped>\n",
              "    .dataframe tbody tr th:only-of-type {\n",
              "        vertical-align: middle;\n",
              "    }\n",
              "\n",
              "    .dataframe tbody tr th {\n",
              "        vertical-align: top;\n",
              "    }\n",
              "\n",
              "    .dataframe thead th {\n",
              "        text-align: right;\n",
              "    }\n",
              "</style>\n",
              "<table border=\"1\" class=\"dataframe\">\n",
              "  <thead>\n",
              "    <tr style=\"text-align: right;\">\n",
              "      <th></th>\n",
              "      <th>label</th>\n",
              "      <th>src_file</th>\n",
              "      <th>split</th>\n",
              "      <th>is_query</th>\n",
              "      <th>is_gallery</th>\n",
              "      <th>eye</th>\n",
              "      <th>ds</th>\n",
              "      <th>path</th>\n",
              "      <th>predict</th>\n",
              "      <th>predict2</th>\n",
              "      <th>predict3</th>\n",
              "      <th>ppath</th>\n",
              "      <th>ppath2</th>\n",
              "      <th>ppath3</th>\n",
              "      <th>dist</th>\n",
              "      <th>dist2</th>\n",
              "      <th>dist3</th>\n",
              "    </tr>\n",
              "  </thead>\n",
              "  <tbody>\n",
              "    <tr>\n",
              "      <th>0</th>\n",
              "      <td>0</td>\n",
              "      <td>Iris_20220818_122827_Left.bmp</td>\n",
              "      <td>validation</td>\n",
              "      <td>1.0</td>\n",
              "      <td>0.0</td>\n",
              "      <td>L</td>\n",
              "      <td>amf</td>\n",
              "      <td>/content/drive/MyDrive/iris/AMF_Iris_Dataset/a...</td>\n",
              "      <td>0</td>\n",
              "      <td>0</td>\n",
              "      <td>0</td>\n",
              "      <td>Iris_20220818_122823_Left.bmp</td>\n",
              "      <td>Iris_20220818_122821_Left.bmp</td>\n",
              "      <td>Iris_20220818_122825_Left.bmp</td>\n",
              "      <td>10.258099</td>\n",
              "      <td>10.711012</td>\n",
              "      <td>11.534957</td>\n",
              "    </tr>\n",
              "    <tr>\n",
              "      <th>3</th>\n",
              "      <td>0</td>\n",
              "      <td>Iris_20220818_122818_Left.bmp</td>\n",
              "      <td>validation</td>\n",
              "      <td>1.0</td>\n",
              "      <td>0.0</td>\n",
              "      <td>L</td>\n",
              "      <td>amf</td>\n",
              "      <td>/content/drive/MyDrive/iris/AMF_Iris_Dataset/a...</td>\n",
              "      <td>0</td>\n",
              "      <td>0</td>\n",
              "      <td>0</td>\n",
              "      <td>Iris_20220818_122823_Left.bmp</td>\n",
              "      <td>Iris_20220818_122821_Left.bmp</td>\n",
              "      <td>Iris_20220818_122825_Left.bmp</td>\n",
              "      <td>10.615119</td>\n",
              "      <td>11.424499</td>\n",
              "      <td>12.894082</td>\n",
              "    </tr>\n",
              "    <tr>\n",
              "      <th>6</th>\n",
              "      <td>1</td>\n",
              "      <td>Iris_20220818_105655_Left.bmp</td>\n",
              "      <td>validation</td>\n",
              "      <td>1.0</td>\n",
              "      <td>0.0</td>\n",
              "      <td>L</td>\n",
              "      <td>amf</td>\n",
              "      <td>/content/drive/MyDrive/iris/AMF_Iris_Dataset/a...</td>\n",
              "      <td>1</td>\n",
              "      <td>1</td>\n",
              "      <td>1</td>\n",
              "      <td>Iris_20220818_105659_Left.bmp</td>\n",
              "      <td>Iris_20220818_105650_Left.bmp</td>\n",
              "      <td>Iris_20220818_105652_Left.bmp</td>\n",
              "      <td>15.679811</td>\n",
              "      <td>18.809160</td>\n",
              "      <td>20.351361</td>\n",
              "    </tr>\n",
              "    <tr>\n",
              "      <th>9</th>\n",
              "      <td>1</td>\n",
              "      <td>Iris_20220818_105657_Left.bmp</td>\n",
              "      <td>validation</td>\n",
              "      <td>1.0</td>\n",
              "      <td>0.0</td>\n",
              "      <td>L</td>\n",
              "      <td>amf</td>\n",
              "      <td>/content/drive/MyDrive/iris/AMF_Iris_Dataset/a...</td>\n",
              "      <td>1</td>\n",
              "      <td>1</td>\n",
              "      <td>1</td>\n",
              "      <td>Iris_20220818_105659_Left.bmp</td>\n",
              "      <td>Iris_20220818_105650_Left.bmp</td>\n",
              "      <td>Iris_20220818_105652_Left.bmp</td>\n",
              "      <td>14.519103</td>\n",
              "      <td>16.641416</td>\n",
              "      <td>17.637912</td>\n",
              "    </tr>\n",
              "    <tr>\n",
              "      <th>10</th>\n",
              "      <td>2</td>\n",
              "      <td>Iris_20220818_121801_Left.bmp</td>\n",
              "      <td>validation</td>\n",
              "      <td>1.0</td>\n",
              "      <td>0.0</td>\n",
              "      <td>L</td>\n",
              "      <td>amf</td>\n",
              "      <td>/content/drive/MyDrive/iris/AMF_Iris_Dataset/a...</td>\n",
              "      <td>2</td>\n",
              "      <td>2</td>\n",
              "      <td>2</td>\n",
              "      <td>Iris_20220818_121757_Left.bmp</td>\n",
              "      <td>Iris_20220818_121804_Left.bmp</td>\n",
              "      <td>Iris_20220818_121804_Right.bmp</td>\n",
              "      <td>16.792654</td>\n",
              "      <td>28.866051</td>\n",
              "      <td>35.092733</td>\n",
              "    </tr>\n",
              "    <tr>\n",
              "      <th>...</th>\n",
              "      <td>...</td>\n",
              "      <td>...</td>\n",
              "      <td>...</td>\n",
              "      <td>...</td>\n",
              "      <td>...</td>\n",
              "      <td>...</td>\n",
              "      <td>...</td>\n",
              "      <td>...</td>\n",
              "      <td>...</td>\n",
              "      <td>...</td>\n",
              "      <td>...</td>\n",
              "      <td>...</td>\n",
              "      <td>...</td>\n",
              "      <td>...</td>\n",
              "      <td>...</td>\n",
              "      <td>...</td>\n",
              "      <td>...</td>\n",
              "    </tr>\n",
              "    <tr>\n",
              "      <th>529</th>\n",
              "      <td>51</td>\n",
              "      <td>Iris_20220817_123808_Right.bmp</td>\n",
              "      <td>validation</td>\n",
              "      <td>1.0</td>\n",
              "      <td>0.0</td>\n",
              "      <td>R</td>\n",
              "      <td>amf</td>\n",
              "      <td>/content/drive/MyDrive/iris/AMF_Iris_Dataset/z...</td>\n",
              "      <td>51</td>\n",
              "      <td>51</td>\n",
              "      <td>51</td>\n",
              "      <td>Iris_20220817_123810_Right.bmp</td>\n",
              "      <td>Iris_20220817_123757_Right.bmp</td>\n",
              "      <td>Iris_20220817_123805_Right.bmp</td>\n",
              "      <td>12.635336</td>\n",
              "      <td>20.095952</td>\n",
              "      <td>21.438480</td>\n",
              "    </tr>\n",
              "    <tr>\n",
              "      <th>531</th>\n",
              "      <td>52</td>\n",
              "      <td>Iris_20220818_122133_Right.bmp</td>\n",
              "      <td>validation</td>\n",
              "      <td>1.0</td>\n",
              "      <td>0.0</td>\n",
              "      <td>R</td>\n",
              "      <td>amf</td>\n",
              "      <td>/content/drive/MyDrive/iris/AMF_Iris_Dataset/z...</td>\n",
              "      <td>52</td>\n",
              "      <td>52</td>\n",
              "      <td>52</td>\n",
              "      <td>Iris_20220818_122136_Right.bmp</td>\n",
              "      <td>Iris_20220818_122132_Right.bmp</td>\n",
              "      <td>Iris_20220818_122127_Right.bmp</td>\n",
              "      <td>18.537797</td>\n",
              "      <td>25.477375</td>\n",
              "      <td>35.512447</td>\n",
              "    </tr>\n",
              "    <tr>\n",
              "      <th>533</th>\n",
              "      <td>52</td>\n",
              "      <td>Iris_20220818_122130_Right.bmp</td>\n",
              "      <td>validation</td>\n",
              "      <td>1.0</td>\n",
              "      <td>0.0</td>\n",
              "      <td>R</td>\n",
              "      <td>amf</td>\n",
              "      <td>/content/drive/MyDrive/iris/AMF_Iris_Dataset/z...</td>\n",
              "      <td>52</td>\n",
              "      <td>52</td>\n",
              "      <td>52</td>\n",
              "      <td>Iris_20220818_122127_Right.bmp</td>\n",
              "      <td>Iris_20220818_122132_Right.bmp</td>\n",
              "      <td>Iris_20220818_122136_Right.bmp</td>\n",
              "      <td>17.688476</td>\n",
              "      <td>26.436992</td>\n",
              "      <td>27.788212</td>\n",
              "    </tr>\n",
              "    <tr>\n",
              "      <th>536</th>\n",
              "      <td>53</td>\n",
              "      <td>Iris_20220818_122420_Right.bmp</td>\n",
              "      <td>validation</td>\n",
              "      <td>1.0</td>\n",
              "      <td>0.0</td>\n",
              "      <td>R</td>\n",
              "      <td>amf</td>\n",
              "      <td>/content/drive/MyDrive/iris/AMF_Iris_Dataset/z...</td>\n",
              "      <td>53</td>\n",
              "      <td>53</td>\n",
              "      <td>53</td>\n",
              "      <td>Iris_20220818_122416_Right.bmp</td>\n",
              "      <td>Iris_20220818_122413_Right.bmp</td>\n",
              "      <td>Iris_20220818_122405_Right.bmp</td>\n",
              "      <td>9.990708</td>\n",
              "      <td>12.787806</td>\n",
              "      <td>15.351968</td>\n",
              "    </tr>\n",
              "    <tr>\n",
              "      <th>537</th>\n",
              "      <td>53</td>\n",
              "      <td>Iris_20220818_122409_Right.bmp</td>\n",
              "      <td>validation</td>\n",
              "      <td>1.0</td>\n",
              "      <td>0.0</td>\n",
              "      <td>R</td>\n",
              "      <td>amf</td>\n",
              "      <td>/content/drive/MyDrive/iris/AMF_Iris_Dataset/z...</td>\n",
              "      <td>53</td>\n",
              "      <td>53</td>\n",
              "      <td>53</td>\n",
              "      <td>Iris_20220818_122405_Right.bmp</td>\n",
              "      <td>Iris_20220818_122413_Right.bmp</td>\n",
              "      <td>Iris_20220818_122416_Right.bmp</td>\n",
              "      <td>10.314206</td>\n",
              "      <td>12.877095</td>\n",
              "      <td>14.773036</td>\n",
              "    </tr>\n",
              "  </tbody>\n",
              "</table>\n",
              "<p>269 rows × 17 columns</p>\n",
              "</div>\n",
              "      <button class=\"colab-df-convert\" onclick=\"convertToInteractive('df-7c7411c4-d663-474c-962c-7c92a052fc72')\"\n",
              "              title=\"Convert this dataframe to an interactive table.\"\n",
              "              style=\"display:none;\">\n",
              "        \n",
              "  <svg xmlns=\"http://www.w3.org/2000/svg\" height=\"24px\"viewBox=\"0 0 24 24\"\n",
              "       width=\"24px\">\n",
              "    <path d=\"M0 0h24v24H0V0z\" fill=\"none\"/>\n",
              "    <path d=\"M18.56 5.44l.94 2.06.94-2.06 2.06-.94-2.06-.94-.94-2.06-.94 2.06-2.06.94zm-11 1L8.5 8.5l.94-2.06 2.06-.94-2.06-.94L8.5 2.5l-.94 2.06-2.06.94zm10 10l.94 2.06.94-2.06 2.06-.94-2.06-.94-.94-2.06-.94 2.06-2.06.94z\"/><path d=\"M17.41 7.96l-1.37-1.37c-.4-.4-.92-.59-1.43-.59-.52 0-1.04.2-1.43.59L10.3 9.45l-7.72 7.72c-.78.78-.78 2.05 0 2.83L4 21.41c.39.39.9.59 1.41.59.51 0 1.02-.2 1.41-.59l7.78-7.78 2.81-2.81c.8-.78.8-2.07 0-2.86zM5.41 20L4 18.59l7.72-7.72 1.47 1.35L5.41 20z\"/>\n",
              "  </svg>\n",
              "      </button>\n",
              "      \n",
              "  <style>\n",
              "    .colab-df-container {\n",
              "      display:flex;\n",
              "      flex-wrap:wrap;\n",
              "      gap: 12px;\n",
              "    }\n",
              "\n",
              "    .colab-df-convert {\n",
              "      background-color: #E8F0FE;\n",
              "      border: none;\n",
              "      border-radius: 50%;\n",
              "      cursor: pointer;\n",
              "      display: none;\n",
              "      fill: #1967D2;\n",
              "      height: 32px;\n",
              "      padding: 0 0 0 0;\n",
              "      width: 32px;\n",
              "    }\n",
              "\n",
              "    .colab-df-convert:hover {\n",
              "      background-color: #E2EBFA;\n",
              "      box-shadow: 0px 1px 2px rgba(60, 64, 67, 0.3), 0px 1px 3px 1px rgba(60, 64, 67, 0.15);\n",
              "      fill: #174EA6;\n",
              "    }\n",
              "\n",
              "    [theme=dark] .colab-df-convert {\n",
              "      background-color: #3B4455;\n",
              "      fill: #D2E3FC;\n",
              "    }\n",
              "\n",
              "    [theme=dark] .colab-df-convert:hover {\n",
              "      background-color: #434B5C;\n",
              "      box-shadow: 0px 1px 3px 1px rgba(0, 0, 0, 0.15);\n",
              "      filter: drop-shadow(0px 1px 2px rgba(0, 0, 0, 0.3));\n",
              "      fill: #FFFFFF;\n",
              "    }\n",
              "  </style>\n",
              "\n",
              "      <script>\n",
              "        const buttonEl =\n",
              "          document.querySelector('#df-7c7411c4-d663-474c-962c-7c92a052fc72 button.colab-df-convert');\n",
              "        buttonEl.style.display =\n",
              "          google.colab.kernel.accessAllowed ? 'block' : 'none';\n",
              "\n",
              "        async function convertToInteractive(key) {\n",
              "          const element = document.querySelector('#df-7c7411c4-d663-474c-962c-7c92a052fc72');\n",
              "          const dataTable =\n",
              "            await google.colab.kernel.invokeFunction('convertToInteractive',\n",
              "                                                     [key], {});\n",
              "          if (!dataTable) return;\n",
              "\n",
              "          const docLinkHtml = 'Like what you see? Visit the ' +\n",
              "            '<a target=\"_blank\" href=https://colab.research.google.com/notebooks/data_table.ipynb>data table notebook</a>'\n",
              "            + ' to learn more about interactive tables.';\n",
              "          element.innerHTML = '';\n",
              "          dataTable['output_type'] = 'display_data';\n",
              "          await google.colab.output.renderOutput(dataTable, element);\n",
              "          const docLink = document.createElement('div');\n",
              "          docLink.innerHTML = docLinkHtml;\n",
              "          element.appendChild(docLink);\n",
              "        }\n",
              "      </script>\n",
              "    </div>\n",
              "  </div>\n",
              "  "
            ]
          },
          "metadata": {},
          "execution_count": 73
        }
      ]
    },
    {
      "cell_type": "code",
      "source": [
        "df_err=df_queries[df_queries['label']!=df_queries['predict']]"
      ],
      "metadata": {
        "id": "EHClB5agyDMq"
      },
      "execution_count": 74,
      "outputs": []
    },
    {
      "cell_type": "code",
      "source": [
        "df_err"
      ],
      "metadata": {
        "colab": {
          "base_uri": "https://localhost:8080/",
          "height": 145
        },
        "id": "iY_l65qhyDPe",
        "outputId": "3c23826b-3f1a-4fb9-cb84-844d96922c97"
      },
      "execution_count": 75,
      "outputs": [
        {
          "output_type": "execute_result",
          "data": {
            "text/plain": [
              "    label                       src_file       split  is_query  is_gallery  \\\n",
              "23      4  Iris_20220817_115959_Left.bmp  validation       1.0         0.0   \n",
              "\n",
              "   eye   ds                                               path  predict  \\\n",
              "23   L  amf  /content/drive/MyDrive/iris/AMF_Iris_Dataset/a...        0   \n",
              "\n",
              "    predict2  predict3                          ppath  \\\n",
              "23        31        31  Iris_20220818_122825_Left.bmp   \n",
              "\n",
              "                           ppath2                         ppath3       dist  \\\n",
              "23  Iris_20220818_122912_Left.bmp  Iris_20220818_122919_Left.bmp  36.641959   \n",
              "\n",
              "        dist2      dist3  \n",
              "23  37.163879  37.250195  "
            ],
            "text/html": [
              "\n",
              "  <div id=\"df-70ebda8f-0d37-4c7e-bb54-82ebfe67c7c0\">\n",
              "    <div class=\"colab-df-container\">\n",
              "      <div>\n",
              "<style scoped>\n",
              "    .dataframe tbody tr th:only-of-type {\n",
              "        vertical-align: middle;\n",
              "    }\n",
              "\n",
              "    .dataframe tbody tr th {\n",
              "        vertical-align: top;\n",
              "    }\n",
              "\n",
              "    .dataframe thead th {\n",
              "        text-align: right;\n",
              "    }\n",
              "</style>\n",
              "<table border=\"1\" class=\"dataframe\">\n",
              "  <thead>\n",
              "    <tr style=\"text-align: right;\">\n",
              "      <th></th>\n",
              "      <th>label</th>\n",
              "      <th>src_file</th>\n",
              "      <th>split</th>\n",
              "      <th>is_query</th>\n",
              "      <th>is_gallery</th>\n",
              "      <th>eye</th>\n",
              "      <th>ds</th>\n",
              "      <th>path</th>\n",
              "      <th>predict</th>\n",
              "      <th>predict2</th>\n",
              "      <th>predict3</th>\n",
              "      <th>ppath</th>\n",
              "      <th>ppath2</th>\n",
              "      <th>ppath3</th>\n",
              "      <th>dist</th>\n",
              "      <th>dist2</th>\n",
              "      <th>dist3</th>\n",
              "    </tr>\n",
              "  </thead>\n",
              "  <tbody>\n",
              "    <tr>\n",
              "      <th>23</th>\n",
              "      <td>4</td>\n",
              "      <td>Iris_20220817_115959_Left.bmp</td>\n",
              "      <td>validation</td>\n",
              "      <td>1.0</td>\n",
              "      <td>0.0</td>\n",
              "      <td>L</td>\n",
              "      <td>amf</td>\n",
              "      <td>/content/drive/MyDrive/iris/AMF_Iris_Dataset/a...</td>\n",
              "      <td>0</td>\n",
              "      <td>31</td>\n",
              "      <td>31</td>\n",
              "      <td>Iris_20220818_122825_Left.bmp</td>\n",
              "      <td>Iris_20220818_122912_Left.bmp</td>\n",
              "      <td>Iris_20220818_122919_Left.bmp</td>\n",
              "      <td>36.641959</td>\n",
              "      <td>37.163879</td>\n",
              "      <td>37.250195</td>\n",
              "    </tr>\n",
              "  </tbody>\n",
              "</table>\n",
              "</div>\n",
              "      <button class=\"colab-df-convert\" onclick=\"convertToInteractive('df-70ebda8f-0d37-4c7e-bb54-82ebfe67c7c0')\"\n",
              "              title=\"Convert this dataframe to an interactive table.\"\n",
              "              style=\"display:none;\">\n",
              "        \n",
              "  <svg xmlns=\"http://www.w3.org/2000/svg\" height=\"24px\"viewBox=\"0 0 24 24\"\n",
              "       width=\"24px\">\n",
              "    <path d=\"M0 0h24v24H0V0z\" fill=\"none\"/>\n",
              "    <path d=\"M18.56 5.44l.94 2.06.94-2.06 2.06-.94-2.06-.94-.94-2.06-.94 2.06-2.06.94zm-11 1L8.5 8.5l.94-2.06 2.06-.94-2.06-.94L8.5 2.5l-.94 2.06-2.06.94zm10 10l.94 2.06.94-2.06 2.06-.94-2.06-.94-.94-2.06-.94 2.06-2.06.94z\"/><path d=\"M17.41 7.96l-1.37-1.37c-.4-.4-.92-.59-1.43-.59-.52 0-1.04.2-1.43.59L10.3 9.45l-7.72 7.72c-.78.78-.78 2.05 0 2.83L4 21.41c.39.39.9.59 1.41.59.51 0 1.02-.2 1.41-.59l7.78-7.78 2.81-2.81c.8-.78.8-2.07 0-2.86zM5.41 20L4 18.59l7.72-7.72 1.47 1.35L5.41 20z\"/>\n",
              "  </svg>\n",
              "      </button>\n",
              "      \n",
              "  <style>\n",
              "    .colab-df-container {\n",
              "      display:flex;\n",
              "      flex-wrap:wrap;\n",
              "      gap: 12px;\n",
              "    }\n",
              "\n",
              "    .colab-df-convert {\n",
              "      background-color: #E8F0FE;\n",
              "      border: none;\n",
              "      border-radius: 50%;\n",
              "      cursor: pointer;\n",
              "      display: none;\n",
              "      fill: #1967D2;\n",
              "      height: 32px;\n",
              "      padding: 0 0 0 0;\n",
              "      width: 32px;\n",
              "    }\n",
              "\n",
              "    .colab-df-convert:hover {\n",
              "      background-color: #E2EBFA;\n",
              "      box-shadow: 0px 1px 2px rgba(60, 64, 67, 0.3), 0px 1px 3px 1px rgba(60, 64, 67, 0.15);\n",
              "      fill: #174EA6;\n",
              "    }\n",
              "\n",
              "    [theme=dark] .colab-df-convert {\n",
              "      background-color: #3B4455;\n",
              "      fill: #D2E3FC;\n",
              "    }\n",
              "\n",
              "    [theme=dark] .colab-df-convert:hover {\n",
              "      background-color: #434B5C;\n",
              "      box-shadow: 0px 1px 3px 1px rgba(0, 0, 0, 0.15);\n",
              "      filter: drop-shadow(0px 1px 2px rgba(0, 0, 0, 0.3));\n",
              "      fill: #FFFFFF;\n",
              "    }\n",
              "  </style>\n",
              "\n",
              "      <script>\n",
              "        const buttonEl =\n",
              "          document.querySelector('#df-70ebda8f-0d37-4c7e-bb54-82ebfe67c7c0 button.colab-df-convert');\n",
              "        buttonEl.style.display =\n",
              "          google.colab.kernel.accessAllowed ? 'block' : 'none';\n",
              "\n",
              "        async function convertToInteractive(key) {\n",
              "          const element = document.querySelector('#df-70ebda8f-0d37-4c7e-bb54-82ebfe67c7c0');\n",
              "          const dataTable =\n",
              "            await google.colab.kernel.invokeFunction('convertToInteractive',\n",
              "                                                     [key], {});\n",
              "          if (!dataTable) return;\n",
              "\n",
              "          const docLinkHtml = 'Like what you see? Visit the ' +\n",
              "            '<a target=\"_blank\" href=https://colab.research.google.com/notebooks/data_table.ipynb>data table notebook</a>'\n",
              "            + ' to learn more about interactive tables.';\n",
              "          element.innerHTML = '';\n",
              "          dataTable['output_type'] = 'display_data';\n",
              "          await google.colab.output.renderOutput(dataTable, element);\n",
              "          const docLink = document.createElement('div');\n",
              "          docLink.innerHTML = docLinkHtml;\n",
              "          element.appendChild(docLink);\n",
              "        }\n",
              "      </script>\n",
              "    </div>\n",
              "  </div>\n",
              "  "
            ]
          },
          "metadata": {},
          "execution_count": 75
        }
      ]
    },
    {
      "cell_type": "code",
      "source": [],
      "metadata": {
        "id": "vBE8bDfjyDSm"
      },
      "execution_count": null,
      "outputs": []
    },
    {
      "cell_type": "code",
      "source": [],
      "metadata": {
        "id": "59XXV0hCyDVS"
      },
      "execution_count": null,
      "outputs": []
    },
    {
      "cell_type": "markdown",
      "source": [
        "<H3>Другие модели пока не проверял кром vits_16_dino  (смотрите modeltype)"
      ],
      "metadata": {
        "id": "8NuEv-vHl_vI"
      }
    },
    {
      "cell_type": "code",
      "source": [
        "print(list(ViTExtractor.pretrained_models.keys()))"
      ],
      "metadata": {
        "colab": {
          "base_uri": "https://localhost:8080/"
        },
        "id": "95_jXTIOJP0q",
        "outputId": "b65bdc5a-637a-43dd-b1c1-17bedb1fd4ab"
      },
      "execution_count": null,
      "outputs": [
        {
          "output_type": "stream",
          "name": "stdout",
          "text": [
            "['vits16_dino', 'vits8_dino', 'vitb16_dino', 'vitb8_dino', 'vits16_inshop', 'vits16_sop', 'vits16_cub', 'vits16_cars']\n"
          ]
        }
      ]
    },
    {
      "cell_type": "code",
      "source": [
        "modelpathLR='/content/drive/MyDrive/iris/iris_dataset_LRknn1.pt'\n",
        "torch.save(model.state_dict(), modelpathLR)"
      ],
      "metadata": {
        "id": "TdiC6Hx90I6h"
      },
      "execution_count": 76,
      "outputs": []
    },
    {
      "cell_type": "code",
      "source": [
        "cpu = torch.device(\"cpu\")"
      ],
      "metadata": {
        "id": "nEYFLNmf0PMC"
      },
      "execution_count": 77,
      "outputs": []
    },
    {
      "cell_type": "code",
      "source": [
        "mcpu=model.to(cpu)"
      ],
      "metadata": {
        "id": "LmLnfhc00PXo"
      },
      "execution_count": 78,
      "outputs": []
    },
    {
      "cell_type": "code",
      "source": [
        "modelpathLRcpu='/content/drive/MyDrive/iris/iris_dataset_LRknn1_cpu.pt'\n",
        "torch.save(mcpu.state_dict(), modelpathLRcpu)"
      ],
      "metadata": {
        "id": "iu-EGGJe0hMY"
      },
      "execution_count": 79,
      "outputs": []
    }
  ]
}