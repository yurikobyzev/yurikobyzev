{
  "nbformat": 4,
  "nbformat_minor": 0,
  "metadata": {
    "colab": {
      "provenance": [],
      "mount_file_id": "1in5cQEmjksP40TypgSfEI4K-zoEy1mPY",
      "authorship_tag": "ABX9TyOTyFdaAnDCDlH7PXKucXSN",
      "include_colab_link": true
    },
    "kernelspec": {
      "name": "python3",
      "display_name": "Python 3"
    },
    "language_info": {
      "name": "python"
    },
    "gpuClass": "standard"
  },
  "cells": [
    {
      "cell_type": "markdown",
      "metadata": {
        "id": "view-in-github",
        "colab_type": "text"
      },
      "source": [
        "<a href=\"https://colab.research.google.com/github/yurikobyzev/yurikobyzev/blob/main/iris_dataset.ipynb\" target=\"_parent\"><img src=\"https://colab.research.google.com/assets/colab-badge.svg\" alt=\"Open In Colab\"/></a>"
      ]
    },
    {
      "cell_type": "markdown",
      "source": [],
      "metadata": {
        "id": "Jwgtg4ktLGB5"
      }
    },
    {
      "cell_type": "code",
      "source": [
        "from google.colab import drive\n",
        "drive.mount('/content/drive')"
      ],
      "metadata": {
        "colab": {
          "base_uri": "https://localhost:8080/"
        },
        "id": "aZnBsssYOA50",
        "outputId": "cdc7be56-be2e-461a-c449-430b7f645beb"
      },
      "execution_count": null,
      "outputs": [
        {
          "output_type": "stream",
          "name": "stdout",
          "text": [
            "Drive already mounted at /content/drive; to attempt to forcibly remount, call drive.mount(\"/content/drive\", force_remount=True).\n"
          ]
        }
      ]
    },
    {
      "cell_type": "code",
      "source": [
        "!! pip install open-metric-learning\n",
        "!! pip install pytorch-metric-learning\n",
        "!! pip install pillow==9.0.0"
      ],
      "metadata": {
        "colab": {
          "base_uri": "https://localhost:8080/"
        },
        "id": "eiKmNjzGXL-m",
        "outputId": "43ae114f-1b97-4f40-e11b-b70551eabaaa"
      },
      "execution_count": null,
      "outputs": [
        {
          "output_type": "execute_result",
          "data": {
            "text/plain": [
              "['Looking in indexes: https://pypi.org/simple, https://us-python.pkg.dev/colab-wheels/public/simple/',\n",
              " 'Requirement already satisfied: pillow==9.0.0 in /usr/local/lib/python3.9/dist-packages (9.0.0)']"
            ]
          },
          "metadata": {},
          "execution_count": 1
        }
      ]
    },
    {
      "cell_type": "code",
      "source": [
        "import torch\n",
        "from tqdm import tqdm\n",
        "\n",
        "from oml.datasets.base import DatasetWithLabels\n",
        "from oml.losses.triplet import TripletLossWithMiner\n",
        "from oml.miners.inbatch_all_tri import AllTripletsMiner\n",
        "from oml.models.vit.vit import ViTExtractor\n",
        "from oml.samplers.balance import BalanceSampler\n",
        "from oml.datasets.base import DatasetQueryGallery\n",
        "from oml.metrics.embeddings import EmbeddingMetrics\n",
        "from oml.utils.dataframe_format import check_retrieval_dataframe_format\n",
        "from oml.utils.misc_torch import PCA\n",
        "from oml.inference.flat import inference_on_images\n",
        "from oml.registry.transforms import get_transforms_for_pretrained\n",
        "from oml.utils.misc_torch import pairwise_dist\n",
        "from pytorch_metric_learning import losses, distances, reducers, miners\n",
        "import pandas as pd\n",
        "\n"
      ],
      "metadata": {
        "id": "d2Yx4ydPXRcI"
      },
      "execution_count": null,
      "outputs": []
    },
    {
      "cell_type": "code",
      "execution_count": null,
      "metadata": {
        "id": "GyscL0fkJOCr"
      },
      "outputs": [],
      "source": [
        "iris_id_path='/content/drive/MyDrive/iris/iris_dataset/'"
      ]
    },
    {
      "cell_type": "code",
      "source": [
        "import os\n",
        "\n",
        "# folder path\n",
        "dir_path = iris_id_path\n",
        "\n",
        "# list to store files\n",
        "res = []\n",
        "\n",
        "# Iterate directory\n",
        "for path in os.listdir(dir_path):\n",
        "    # check if current path is a file\n",
        "    if os.path.isfile(os.path.join(dir_path, path)):\n",
        "        res.append(path)\n",
        "print(res)"
      ],
      "metadata": {
        "colab": {
          "base_uri": "https://localhost:8080/"
        },
        "id": "DS0ySNyHMFnk",
        "outputId": "741b919f-5d73-4936-86d4-3db9d7ecb840"
      },
      "execution_count": null,
      "outputs": [
        {
          "output_type": "stream",
          "name": "stdout",
          "text": [
            "['001L_1.png', '001L_2.png', '001R_1.png', '001L_3.png', '001R_3.png', '001R_2.png', '002L_1.png', '002L_2.png', '002L_3.png', '002R_1.png', '002R_3.png', '002R_2.png', '003L_2.png', '003L_1.png', '003R_1.png', '003L_3.png', '003R_2.png', '003R_3.png', '004L_2.png', '004L_1.png', '004L_3.png', '004R_1.png', '004R_3.png', '004R_2.png', '005L_2.png', '005L_1.png', '005L_3.png', '005R_1.png', '005R_2.png', '006L_2.png', '005R_3.png', '006L_1.png', '006R_1.png', '006L_3.png', '006R_3.png', '006R_2.png', '007L_2.png', '007L_1.png', '007R_1.png', '007L_3.png', '007R_2.png', '008L_1.png', '007R_3.png', '008L_3.png', '008L_2.png', '008R_2.png', '008R_1.png', '009L_1.png', '008R_3.png', '009L_3.png', '009L_2.png', '009R_2.png', '009R_1.png', '009R_3.png', '010L_1.png', '010L_2.png', '010L_3.png', '010R_1.png', '010R_3.png', '010R_2.png', '011L_2.png', '011L_1.png', '011R_1.png', '011L_3.png', '011R_3.png', '011R_2.png', '012L_2.png', '012L_1.png', '012R_1.png', '012L_3.png', '012R_3.png', '012R_2.png', '013L_1.png', '013L_2.png', '013R_1.png', '013L_3.png', '013R_2.png', '013R_3.png', '014L_1.png', '014L_3.png', '014L_2.png', '014R_2.png', '014R_1.png', '014R_3.png', '015L_1.png', '015L_3.png', '015L_2.png', '015R_2.png', '015R_1.png', '015R_3.png', '016L_1.png', '016L_3.png', '016L_2.png', '016R_1.png', '016R_2.png', '016R_3.png', '017L_1.png', '017L_2.png', '017L_3.png', '017R_2.png', '017R_1.png', '018L_1.png', '017R_3.png', '018L_2.png', '018L_3.png', '018R_1.png', '018R_2.png', '018R_3.png', '019L_1.png', '019L_2.png', '019L_3.png', '019R_1.png', '019R_3.png', '019R_2.png', '020L_2.png', '020L_1.png', '020R_1.png', '020L_3.png', '020R_3.png', '020R_2.png', '021L_1.png', '021L_2.png', '021L_3.png', '021R_2.png', '021R_1.png', '022L_1.png', '021R_3.png', '022L_2.png', '022L_3.png', '022R_2.png', '022R_1.png', '022R_3.png', '023L_1.png', '023L_2.png', '023R_1.png', '023L_3.png', '023R_2.png', '024L_1.png', '023R_3.png', '024L_3.png', '024L_2.png', '024R_2.png', '024R_1.png', '025L_1.png', '024R_3.png', '025L_3.png', '025L_2.png', '025R_1.png', '025R_2.png', '025R_3.png', '026L_1.png', '026L_2.png', '026L_3.png', '026R_1.png', '026R_3.png', '026R_2.png', '027L_1.png', '027L_2.png', '027R_1.png', '027L_3.png', '027R_2.png', '027R_3.png', '028L_1.png', '028L_2.png', '028L_3.png', '028R_1.png', '028R_2.png', '028R_3.png', '029L_3.png', '029L_2.png', '029L_1.png', '029R_1.png', '029R_2.png', '029R_3.png', '030L_1.png', '030L_3.png', '030L_2.png', '030R_1.png', '030R_2.png', '030R_3.png', '031L_3.png', '031L_2.png', '031L_1.png', '031R_1.png', '031R_2.png', '031R_3.png', '032L_1.png', '032L_2.png', '032L_3.png', '032R_1.png', '032R_3.png', '032R_2.png', '033L_1.png', '033L_2.png', '033L_3.png', '033R_1.png', '033R_2.png', '033R_3.png', '034L_2.png', '034L_1.png', '034L_3.png', '034R_1.png', '034R_2.png', '034R_3.png', '035L_1.png', '035L_2.png', '035L_3.png', '035R_1.png', '035R_2.png', '036L_1.png', '035R_3.png', '036L_2.png', '036L_3.png', '036R_1.png', '036R_2.png', '036R_3.png', '037L_1.png', '037L_3.png', '037L_2.png', '037R_2.png', '037R_1.png', '037R_3.png', '038L_1.png', '038L_3.png', '038L_2.png', '038R_2.png', '038R_1.png', '038R_3.png', '039L_1.png', '039L_2.png', '039L_3.png', '039R_2.png', '039R_1.png', '040L_1.png', '039R_3.png', '040L_2.png', '040L_3.png', '040R_1.png', '040R_3.png', '040R_2.png', '041L_1.png', '041L_2.png', '041L_3.png', '041R_1.png', '041R_3.png', '041R_2.png', '042L_1.png', '042L_2.png', '042L_3.png', '042R_1.png', '042R_2.png', '042R_3.png', '043L_1.png', '043L_3.png', '043L_2.png', '043R_1.png', '043R_2.png', '043R_3.png', '044L_1.png', '044L_2.png', '044R_1.png', '044L_3.png', '044R_2.png', '044R_3.png', '045L_1.png', '045L_2.png', '045L_3.png', '045R_1.png', '045R_2.png', '045R_3.png', '046L_2.png', '046L_1.png', '046R_1.png', '046L_3.png', '046R_3.png', '046R_2.png', '047L_2.png', '047L_1.png', '047L_3.png', '047R_1.png', '047R_2.png', '048L_1.png', '047R_3.png', '048L_2.png', '048L_3.png', '048R_1.png', '048R_3.png', '048R_2.png', '049L_2.png', '049L_1.png', '049L_3.png', '049R_2.png', '049R_1.png', '050L_1.png', '049R_3.png', '050L_2.png', '050R_1.png', '050L_3.png', '050R_3.png', '050R_2.png', '051L_1.png', '051L_3.png', '051L_2.png', '051R_1.png', '051R_2.png', '052L_1.png', '051R_3.png', '052L_2.png', '052L_3.png', '052R_2.png', '052R_1.png', '053L_1.png', '052R_3.png', '053L_2.png', '053R_1.png', '053L_3.png', '053R_3.png', '053R_2.png', '054L_1.png', '054L_2.png', '054R_1.png', '054L_3.png', '054R_3.png', '054R_2.png', '055L_1.png', '055L_3.png', '055L_2.png', '055R_2.png', '055R_1.png', '055R_3.png', '056L_1.png', '056L_3.png', '056L_2.png', '056R_2.png', '056R_1.png', '057L_1.png', '056R_3.png', '057L_3.png', '057L_2.png', '057R_1.png', '057R_2.png', '057R_3.png', '058L_1.png', '058L_2.png', '058L_3.png', '058R_1.png', '058R_2.png', '058R_3.png', '059L_1.png', '059L_2.png', '059R_1.png', '059L_3.png', '059R_2.png', '059R_3.png', '060L_1.png', '060L_2.png', '060L_3.png', '060R_2.png', '060R_1.png', '060R_3.png', '061L_1.png', '061L_2.png', '061L_3.png', '061R_1.png', '061R_2.png', '062L_1.png', '061R_3.png', '062L_2.png', '062R_1.png', '062L_3.png', '062R_2.png', '062R_3.png', '063L_2.png', '063L_1.png', '063R_1.png', '063L_3.png', '063R_2.png', '063R_3.png', '064L_1.png', '064L_2.png', '064R_1.png', '064L_3.png', '064R_2.png', '064R_3.png']\n"
          ]
        }
      ]
    },
    {
      "cell_type": "code",
      "source": [
        "#columns=['label','path','split','is_query', 'is_gallery','category','x_1','x_2','y_1','y_2']"
      ],
      "metadata": {
        "id": "1e8jgLbaJ3Zp"
      },
      "execution_count": null,
      "outputs": []
    },
    {
      "cell_type": "code",
      "source": [
        "columns=['label','path','split','is_query', 'is_gallery','category']\n",
        "header=\"label,path,split,is_query,is_gallery\""
      ],
      "metadata": {
        "id": "q-QeyDeOeORU"
      },
      "execution_count": null,
      "outputs": []
    },
    {
      "cell_type": "code",
      "source": [
        "csvpath=\"/content/drive/MyDrive/iris/iris_id.csv\"\n"
      ],
      "metadata": {
        "id": "9KmKA52POHyf"
      },
      "execution_count": null,
      "outputs": []
    },
    {
      "cell_type": "code",
      "source": [
        "\n",
        "with open(csvpath, 'w') as f:\n",
        "  f.write(header)\n",
        "  f.write('\\n')\n",
        "  for i in range(len(res)):\n",
        "    path=res[i]\n",
        "    l0,ext=path.split('.')\n",
        "    l1,n=l0.split('_')\n",
        "    n=int(n)\n",
        "    label=str(int(l1[0:len(l1)-1])-1)\n",
        "    lr=l1[-1:]\n",
        "    f.write(label)\n",
        "    f.write(',')\n",
        "    f.write(res[i])\n",
        "    f.write(',')\n",
        "    if (n<2):\n",
        "      f.write('train,')\n",
        "      f.write(\",\") \n",
        "    else:  \n",
        "       f.write('validation,')\n",
        "       if (n==2):\n",
        "         f.write('0,1') \n",
        "       else:\n",
        "         f.write('1,0')   \n",
        "     \n",
        "    #f.write(l0) \n",
        "    f.write('\\n')\n",
        "\n",
        "\n",
        "     \n",
        "\n",
        "\n"
      ],
      "metadata": {
        "id": "t-szMDORJ3cr"
      },
      "execution_count": null,
      "outputs": []
    },
    {
      "cell_type": "code",
      "source": [
        "df=pd.read_csv(csvpath)"
      ],
      "metadata": {
        "id": "BT340QbANcuy"
      },
      "execution_count": null,
      "outputs": []
    },
    {
      "cell_type": "code",
      "source": [
        "df[df['label']==0]"
      ],
      "metadata": {
        "colab": {
          "base_uri": "https://localhost:8080/",
          "height": 237
        },
        "id": "P5wa8nVYJ8q5",
        "outputId": "3d267e32-8d11-4c88-ed19-0b725b5443aa"
      },
      "execution_count": null,
      "outputs": [
        {
          "output_type": "execute_result",
          "data": {
            "text/plain": [
              "   label        path       split  is_query  is_gallery\n",
              "0      0  001L_1.png       train       NaN         NaN\n",
              "1      0  001L_2.png  validation       0.0         1.0\n",
              "2      0  001R_1.png       train       NaN         NaN\n",
              "3      0  001L_3.png  validation       1.0         0.0\n",
              "4      0  001R_3.png  validation       1.0         0.0\n",
              "5      0  001R_2.png  validation       0.0         1.0"
            ],
            "text/html": [
              "\n",
              "  <div id=\"df-41ec7a94-9342-4b4c-a032-6bad9a60142a\">\n",
              "    <div class=\"colab-df-container\">\n",
              "      <div>\n",
              "<style scoped>\n",
              "    .dataframe tbody tr th:only-of-type {\n",
              "        vertical-align: middle;\n",
              "    }\n",
              "\n",
              "    .dataframe tbody tr th {\n",
              "        vertical-align: top;\n",
              "    }\n",
              "\n",
              "    .dataframe thead th {\n",
              "        text-align: right;\n",
              "    }\n",
              "</style>\n",
              "<table border=\"1\" class=\"dataframe\">\n",
              "  <thead>\n",
              "    <tr style=\"text-align: right;\">\n",
              "      <th></th>\n",
              "      <th>label</th>\n",
              "      <th>path</th>\n",
              "      <th>split</th>\n",
              "      <th>is_query</th>\n",
              "      <th>is_gallery</th>\n",
              "    </tr>\n",
              "  </thead>\n",
              "  <tbody>\n",
              "    <tr>\n",
              "      <th>0</th>\n",
              "      <td>0</td>\n",
              "      <td>001L_1.png</td>\n",
              "      <td>train</td>\n",
              "      <td>NaN</td>\n",
              "      <td>NaN</td>\n",
              "    </tr>\n",
              "    <tr>\n",
              "      <th>1</th>\n",
              "      <td>0</td>\n",
              "      <td>001L_2.png</td>\n",
              "      <td>validation</td>\n",
              "      <td>0.0</td>\n",
              "      <td>1.0</td>\n",
              "    </tr>\n",
              "    <tr>\n",
              "      <th>2</th>\n",
              "      <td>0</td>\n",
              "      <td>001R_1.png</td>\n",
              "      <td>train</td>\n",
              "      <td>NaN</td>\n",
              "      <td>NaN</td>\n",
              "    </tr>\n",
              "    <tr>\n",
              "      <th>3</th>\n",
              "      <td>0</td>\n",
              "      <td>001L_3.png</td>\n",
              "      <td>validation</td>\n",
              "      <td>1.0</td>\n",
              "      <td>0.0</td>\n",
              "    </tr>\n",
              "    <tr>\n",
              "      <th>4</th>\n",
              "      <td>0</td>\n",
              "      <td>001R_3.png</td>\n",
              "      <td>validation</td>\n",
              "      <td>1.0</td>\n",
              "      <td>0.0</td>\n",
              "    </tr>\n",
              "    <tr>\n",
              "      <th>5</th>\n",
              "      <td>0</td>\n",
              "      <td>001R_2.png</td>\n",
              "      <td>validation</td>\n",
              "      <td>0.0</td>\n",
              "      <td>1.0</td>\n",
              "    </tr>\n",
              "  </tbody>\n",
              "</table>\n",
              "</div>\n",
              "      <button class=\"colab-df-convert\" onclick=\"convertToInteractive('df-41ec7a94-9342-4b4c-a032-6bad9a60142a')\"\n",
              "              title=\"Convert this dataframe to an interactive table.\"\n",
              "              style=\"display:none;\">\n",
              "        \n",
              "  <svg xmlns=\"http://www.w3.org/2000/svg\" height=\"24px\"viewBox=\"0 0 24 24\"\n",
              "       width=\"24px\">\n",
              "    <path d=\"M0 0h24v24H0V0z\" fill=\"none\"/>\n",
              "    <path d=\"M18.56 5.44l.94 2.06.94-2.06 2.06-.94-2.06-.94-.94-2.06-.94 2.06-2.06.94zm-11 1L8.5 8.5l.94-2.06 2.06-.94-2.06-.94L8.5 2.5l-.94 2.06-2.06.94zm10 10l.94 2.06.94-2.06 2.06-.94-2.06-.94-.94-2.06-.94 2.06-2.06.94z\"/><path d=\"M17.41 7.96l-1.37-1.37c-.4-.4-.92-.59-1.43-.59-.52 0-1.04.2-1.43.59L10.3 9.45l-7.72 7.72c-.78.78-.78 2.05 0 2.83L4 21.41c.39.39.9.59 1.41.59.51 0 1.02-.2 1.41-.59l7.78-7.78 2.81-2.81c.8-.78.8-2.07 0-2.86zM5.41 20L4 18.59l7.72-7.72 1.47 1.35L5.41 20z\"/>\n",
              "  </svg>\n",
              "      </button>\n",
              "      \n",
              "  <style>\n",
              "    .colab-df-container {\n",
              "      display:flex;\n",
              "      flex-wrap:wrap;\n",
              "      gap: 12px;\n",
              "    }\n",
              "\n",
              "    .colab-df-convert {\n",
              "      background-color: #E8F0FE;\n",
              "      border: none;\n",
              "      border-radius: 50%;\n",
              "      cursor: pointer;\n",
              "      display: none;\n",
              "      fill: #1967D2;\n",
              "      height: 32px;\n",
              "      padding: 0 0 0 0;\n",
              "      width: 32px;\n",
              "    }\n",
              "\n",
              "    .colab-df-convert:hover {\n",
              "      background-color: #E2EBFA;\n",
              "      box-shadow: 0px 1px 2px rgba(60, 64, 67, 0.3), 0px 1px 3px 1px rgba(60, 64, 67, 0.15);\n",
              "      fill: #174EA6;\n",
              "    }\n",
              "\n",
              "    [theme=dark] .colab-df-convert {\n",
              "      background-color: #3B4455;\n",
              "      fill: #D2E3FC;\n",
              "    }\n",
              "\n",
              "    [theme=dark] .colab-df-convert:hover {\n",
              "      background-color: #434B5C;\n",
              "      box-shadow: 0px 1px 3px 1px rgba(0, 0, 0, 0.15);\n",
              "      filter: drop-shadow(0px 1px 2px rgba(0, 0, 0, 0.3));\n",
              "      fill: #FFFFFF;\n",
              "    }\n",
              "  </style>\n",
              "\n",
              "      <script>\n",
              "        const buttonEl =\n",
              "          document.querySelector('#df-41ec7a94-9342-4b4c-a032-6bad9a60142a button.colab-df-convert');\n",
              "        buttonEl.style.display =\n",
              "          google.colab.kernel.accessAllowed ? 'block' : 'none';\n",
              "\n",
              "        async function convertToInteractive(key) {\n",
              "          const element = document.querySelector('#df-41ec7a94-9342-4b4c-a032-6bad9a60142a');\n",
              "          const dataTable =\n",
              "            await google.colab.kernel.invokeFunction('convertToInteractive',\n",
              "                                                     [key], {});\n",
              "          if (!dataTable) return;\n",
              "\n",
              "          const docLinkHtml = 'Like what you see? Visit the ' +\n",
              "            '<a target=\"_blank\" href=https://colab.research.google.com/notebooks/data_table.ipynb>data table notebook</a>'\n",
              "            + ' to learn more about interactive tables.';\n",
              "          element.innerHTML = '';\n",
              "          dataTable['output_type'] = 'display_data';\n",
              "          await google.colab.output.renderOutput(dataTable, element);\n",
              "          const docLink = document.createElement('div');\n",
              "          docLink.innerHTML = docLinkHtml;\n",
              "          element.appendChild(docLink);\n",
              "        }\n",
              "      </script>\n",
              "    </div>\n",
              "  </div>\n",
              "  "
            ]
          },
          "metadata": {},
          "execution_count": 7
        }
      ]
    },
    {
      "cell_type": "code",
      "source": [
        "model_types=['vits16_dino', 'vits8_dino', 'vitb16_dino', 'vitb8_dino', 'vits16_inshop', 'vits16_sop', 'vits16_cub', 'vits16_cars']\n",
        "='vits16_dino'"
      ],
      "metadata": {
        "id": "Ra0x5Podeni_"
      },
      "execution_count": null,
      "outputs": []
    },
    {
      "cell_type": "code",
      "source": [
        "from pathlib import Path\n",
        "from oml.utils.dataframe_format import check_retrieval_dataframe_format\n",
        "p=Path(iris_id_path)\n",
        "check_retrieval_dataframe_format(df=pd.read_csv(csvpath), dataset_root=p)"
      ],
      "metadata": {
        "id": "czWraz6yW4fg"
      },
      "execution_count": null,
      "outputs": []
    },
    {
      "cell_type": "markdown",
      "source": [
        "Восстановим модель с диска по весам?"
      ],
      "metadata": {
        "id": "pBYrpSEFMLSr"
      }
    },
    {
      "cell_type": "code",
      "source": [
        "modelpath='/content/drive/MyDrive/iris/iris_model1.pt'\n",
        "model=ViTExtractor(weights=modelpath,arch=arch, normalise_features=False)\n",
        "model.eval()"
      ],
      "metadata": {
        "id": "IU-7iItqNcxc"
      },
      "execution_count": null,
      "outputs": []
    },
    {
      "cell_type": "markdown",
      "source": [
        "Triple loss on embeddings"
      ],
      "metadata": {
        "id": "CRrTGraFapaK"
      }
    },
    {
      "cell_type": "code",
      "source": [
        "\n",
        "model = ViTExtractor(arch, arch=arch, normalise_features=False).train()\n",
        "optimizer = torch.optim.SGD(model.parameters(), lr=1e-6)\n",
        "\n",
        "train_dataset = DatasetWithLabels(df, dataset_root=p)\n",
        "\n",
        "# PML specific\n",
        "distance = distances.LpDistance(p=2)\n",
        "reducer = reducers.ThresholdReducer(low=0)\n",
        "criterion = losses.TripletMarginLoss()\n",
        "miner = miners.TripletMarginMiner(margin=0.2, distance=distance, type_of_triplets=\"all\")\n",
        "\n",
        "sampler = BalanceSampler(train_dataset.get_labels(), n_labels=2, n_instances=2)\n",
        "train_loader = torch.utils.data.DataLoader(train_dataset, batch_sampler=sampler)\n",
        "# Одна эпоха потом посмотрим когда метрики построим может и еще надо \n",
        "for batch in tqdm(train_loader):\n",
        "    embeddings = model(batch[\"input_tensors\"])\n",
        "    loss = criterion(embeddings, batch[\"labels\"], miner(embeddings, batch[\"labels\"]))  # PML specific\n",
        "    loss.backward()\n",
        "    optimizer.step()\n",
        "    optimizer.zero_grad()\n",
        "    "
      ],
      "metadata": {
        "colab": {
          "base_uri": "https://localhost:8080/"
        },
        "id": "9YYoCleHIwIj",
        "outputId": "59e0ebf4-e308-43ec-d501-cf4f685e3eb9"
      },
      "execution_count": null,
      "outputs": [
        {
          "output_type": "stream",
          "name": "stdout",
          "text": [
            "https://dl.fbaipublicfiles.com/dino/dino_deitsmall16_pretrain/dino_deitsmall16_pretrain.pth\n",
            "Downloading checkpoint...\n"
          ]
        },
        {
          "output_type": "stream",
          "name": "stderr",
          "text": [
            "100%|██████████| 32/32 [28:28<00:00, 53.39s/it]\n"
          ]
        }
      ]
    },
    {
      "cell_type": "markdown",
      "source": [
        "Metric calculation"
      ],
      "metadata": {
        "id": "y3AfK71ZiOLl"
      }
    },
    {
      "cell_type": "code",
      "source": [
        "# создаем калькулятор метрик, в котором будем накапливать вектора\n",
        "\n",
        "val_dataset = DatasetQueryGallery(df, dataset_root=p)\n",
        "val_loader = torch.utils.data.DataLoader(val_dataset, batch_size=4)\n",
        "\n",
        "calculator = EmbeddingMetrics()\n",
        "calculator.setup(num_samples=len(train_dataset))\n",
        "\n",
        "with torch.no_grad():\n",
        "    for batch in tqdm(val_loader):\n",
        "        batch[\"embeddings\"] = model(batch[\"input_tensors\"])\n",
        "        calculator.update_data(batch)  # накапливаем вектора\n",
        "\n",
        "metrics = calculator.compute_metrics()  # вычисляем метрики: cmc@k, precision@k, map@k"
      ],
      "metadata": {
        "colab": {
          "base_uri": "https://localhost:8080/"
        },
        "id": "8Cz7nDDGxQCS",
        "outputId": "aca2b040-3761-4534-e7b5-014248daf92b"
      },
      "execution_count": null,
      "outputs": [
        {
          "output_type": "stream",
          "name": "stderr",
          "text": [
            "100%|██████████| 96/96 [35:01<00:00, 21.89s/it]\n"
          ]
        },
        {
          "output_type": "stream",
          "name": "stdout",
          "text": [
            "\n",
            "Metrics:\n",
            "{'OVERALL': {'cmc': {5: tensor(0.9961)},\n",
            "             'map': {5: tensor(0.9652)},\n",
            "             'pcf': {0.5: tensor(0.0078)},\n",
            "             'precision': {5: tensor(0.8783)}}}\n"
          ]
        }
      ]
    },
    {
      "cell_type": "markdown",
      "source": [
        "was:<pre>\n",
        "100%|██████████| 96/96 [30:25<00:00, 19.02s/it]\n",
        "Metrics:\n",
        "{'OVERALL': {'cmc': {5: tensor(0.9974)},\n",
        "             'map': {5: tensor(0.9812)},\n",
        "             'pcf': {0.5: tensor(0.0078)},\n",
        "             'precision': {5: tensor(0.8411)}}}"
      ],
      "metadata": {
        "id": "uoA0qKDFcTmb"
      }
    },
    {
      "cell_type": "markdown",
      "source": [
        "Inference\n"
      ],
      "metadata": {
        "id": "xuaGyLZzajA4"
      }
    },
    {
      "cell_type": "code",
      "source": [
        "# Смысл такой что по запросам query мы ищем ближайший (похоже 1) \n",
        "# но только среди элементов gallery\n",
        "\n",
        "df_val=df[df['split']=='validation']\n",
        "df_val[\"path\"] = df[\"path\"].apply(lambda x: p / x)\n",
        "queries = df_val[df_val[\"is_query\"]==1.0][\"path\"].tolist()\n",
        "galleries = df_val[df_val[\"is_gallery\"]==1.0][\"path\"].tolist()\n",
        "\n",
        "#model = ViTExtractor.from_pretrained(arch)\n",
        "transform, _ = get_transforms_for_pretrained(arch)\n",
        "\n",
        "args = {\"num_workers\": 0, \"batch_size\": 8}\n",
        "# эмбеддинги запросов и галереи\n",
        "features_queries = inference_on_images(model, paths=queries, transform=transform, **args)\n",
        "features_galleries = inference_on_images(model, paths=galleries, transform=transform, **args)\n",
        "# евклидово расстояние между ними - то есть по строкам расстояния галерей от фиксированного запроса\n",
        "dist_mat = pairwise_dist(x1=features_queries, x2=features_galleries)\n",
        "ii_closest = torch.argmin(dist_mat, dim=1)\n",
        "\n",
        "print(f\"Indices of the items closest to queries: {ii_closest}\")"
      ],
      "metadata": {
        "id": "RIUBm_u2VOBj"
      },
      "execution_count": null,
      "outputs": []
    },
    {
      "cell_type": "code",
      "source": [
        "ii_closest"
      ],
      "metadata": {
        "colab": {
          "base_uri": "https://localhost:8080/"
        },
        "id": "ej8acmntgfDY",
        "outputId": "48bfe152-9deb-4b9d-bef2-37be8bbbd0e2"
      },
      "execution_count": null,
      "outputs": [
        {
          "output_type": "execute_result",
          "data": {
            "text/plain": [
              "tensor([  0,   1,   2,   3,   4,   5,   6,   7,   8,   9,  10,  11,  12,  13,\n",
              "         14,  15,  16,  17,  18,  19,  20,  21,  22,  23,  24,  25,  26,  27,\n",
              "         28,  28,  30,  31,  32,  33,  35,  35,  36,  37,  38,  39,  40,  41,\n",
              "         42,  43,  44,  45,  46,  47,  49,  49,  50,  51,  52,  52,  54,  55,\n",
              "         56,  57,  58,  59,  60,  61,  62,  63,  64,  65,  66,  67,  68,  69,\n",
              "         70,  71,  72,  73,  74,  75,  76,  77,  78,  79,  80,  81,  82,  83,\n",
              "         84,  85,  86,  87,  88,  89,  90,  91,  92,  93,  94,  95,  96,  97,\n",
              "         98,  99, 100, 101, 102, 103, 104, 105, 106, 107, 108, 109, 110, 111,\n",
              "        112, 113, 114, 115, 116, 117, 118, 119, 120, 121, 122, 123, 124, 125,\n",
              "        126, 127])"
            ]
          },
          "metadata": {},
          "execution_count": 193
        }
      ]
    },
    {
      "cell_type": "code",
      "source": [
        "dist_mat[0,:] # расстояние от 0 запроса\n",
        "# 16 и  24 это до его же левого и правого глаза НО ДРУГИХ этого человека в галерее нет - то есть видим схожесть по метрике правых и левых глаз!!!!\n"
      ],
      "metadata": {
        "colab": {
          "base_uri": "https://localhost:8080/"
        },
        "id": "43vTVQhJxKNc",
        "outputId": "83ebfae6-b69b-4aba-d6b5-49d9709e03ef"
      },
      "execution_count": null,
      "outputs": [
        {
          "output_type": "execute_result",
          "data": {
            "text/plain": [
              "tensor([16.8307, 24.9892, 59.1778, 58.1562, 62.6890, 66.5671, 60.2542, 60.5551,\n",
              "        39.8415, 36.7041, 59.4627, 60.5165, 40.8438, 34.4414, 38.1346, 37.8012,\n",
              "        53.8545, 50.5035, 65.7072, 61.6617, 53.0793, 52.8504, 60.6476, 61.0486,\n",
              "        53.0265, 54.0740, 53.9491, 55.0003, 66.1177, 68.3947, 45.3670, 43.4713,\n",
              "        48.2807, 45.2447, 55.0345, 39.4587, 57.4264, 51.7424, 51.0416, 48.1681,\n",
              "        45.6384, 41.5204, 52.4224, 52.5957, 29.7235, 28.3965, 37.4011, 40.3515,\n",
              "        59.3226, 60.0549, 41.8432, 36.8476, 55.9811, 55.6152, 37.5825, 36.5188,\n",
              "        62.3930, 59.6522, 59.5617, 63.1094, 61.3711, 60.6157, 56.4809, 57.8210,\n",
              "        49.2035, 41.8086, 45.2607, 41.7891, 58.6701, 58.3854, 58.8073, 60.8483,\n",
              "        58.7665, 54.6923, 62.3808, 61.4352, 61.6155, 60.2571, 40.4289, 44.1229,\n",
              "        55.2219, 57.5765, 35.8686, 33.6271, 55.7227, 49.0265, 35.5633, 39.8041,\n",
              "        53.1040, 51.2942, 56.4427, 54.2524, 47.9558, 52.2382, 37.9794, 32.6356,\n",
              "        44.4076, 46.0897, 28.4670, 32.2796, 31.4718, 31.4094, 30.6088, 34.2855,\n",
              "        35.2040, 35.4856, 64.6705, 58.7431, 31.8101, 36.2332, 58.8365, 55.4773,\n",
              "        44.4000, 43.3625, 32.6460, 33.4902, 40.9541, 37.6973, 34.8285, 42.6967,\n",
              "        31.5208, 31.9207, 42.2318, 39.6576, 53.2143, 53.9669, 39.1643, 30.2497])"
            ]
          },
          "metadata": {},
          "execution_count": 189
        }
      ]
    },
    {
      "cell_type": "code",
      "source": [
        "galleries[0] # 1-й левый 2 файл"
      ],
      "metadata": {
        "colab": {
          "base_uri": "https://localhost:8080/"
        },
        "id": "Zuos706tPF01",
        "outputId": "7eacda1f-c04a-44d7-8bdb-071f42d335ff"
      },
      "execution_count": null,
      "outputs": [
        {
          "output_type": "execute_result",
          "data": {
            "text/plain": [
              "PosixPath('/content/drive/MyDrive/iris/iris_dataset/001L_2.png')"
            ]
          },
          "metadata": {},
          "execution_count": 190
        }
      ]
    },
    {
      "cell_type": "code",
      "source": [
        "galleries[1] # 1-й правый 2й файл"
      ],
      "metadata": {
        "colab": {
          "base_uri": "https://localhost:8080/"
        },
        "id": "urOjcHl6PLZm",
        "outputId": "72ff901a-1c1c-442c-9334-9a2156398175"
      },
      "execution_count": null,
      "outputs": [
        {
          "output_type": "execute_result",
          "data": {
            "text/plain": [
              "PosixPath('/content/drive/MyDrive/iris/iris_dataset/001R_2.png')"
            ]
          },
          "metadata": {},
          "execution_count": 191
        }
      ]
    },
    {
      "cell_type": "code",
      "source": [
        "galleries[2]"
      ],
      "metadata": {
        "colab": {
          "base_uri": "https://localhost:8080/"
        },
        "id": "0ZjTqCaxPP_z",
        "outputId": "ab7ceea4-d27c-45ce-ed28-709634f7c6b9"
      },
      "execution_count": null,
      "outputs": [
        {
          "output_type": "execute_result",
          "data": {
            "text/plain": [
              "PosixPath('/content/drive/MyDrive/iris/iris_dataset/002L_2.png')"
            ]
          },
          "metadata": {},
          "execution_count": 192
        }
      ]
    },
    {
      "cell_type": "code",
      "source": [
        "dist_mat.shape"
      ],
      "metadata": {
        "colab": {
          "base_uri": "https://localhost:8080/"
        },
        "id": "2gDjvSxFxqRV",
        "outputId": "229e9e44-25be-472a-aa7d-feed1a36b951"
      },
      "execution_count": null,
      "outputs": [
        {
          "output_type": "execute_result",
          "data": {
            "text/plain": [
              "torch.Size([128, 128])"
            ]
          },
          "metadata": {},
          "execution_count": 28
        }
      ]
    },
    {
      "cell_type": "code",
      "source": [
        "features_queries.shape"
      ],
      "metadata": {
        "colab": {
          "base_uri": "https://localhost:8080/"
        },
        "id": "Ko9mXE-rmdGG",
        "outputId": "be6bf322-accd-4d43-8a92-d424c69df238"
      },
      "execution_count": null,
      "outputs": [
        {
          "output_type": "execute_result",
          "data": {
            "text/plain": [
              "torch.Size([128, 384])"
            ]
          },
          "metadata": {},
          "execution_count": 40
        }
      ]
    },
    {
      "cell_type": "code",
      "source": [
        "dist_mat[0] "
      ],
      "metadata": {
        "id": "UkrGeKqckk3b"
      },
      "execution_count": null,
      "outputs": []
    },
    {
      "cell_type": "code",
      "source": [
        "torch.save(model.state_dict(), modelpath)\n"
      ],
      "metadata": {
        "id": "D5VmY1bAIwMj"
      },
      "execution_count": null,
      "outputs": []
    },
    {
      "cell_type": "code",
      "source": [
        "df_queries = df_val[df_val[\"is_query\"]==1.0]\n",
        "df_galleries = df_val[df_val[\"is_gallery\"]==1.0]"
      ],
      "metadata": {
        "id": "091iqpTq47Ly"
      },
      "execution_count": null,
      "outputs": []
    },
    {
      "cell_type": "code",
      "source": [
        "df_galleries"
      ],
      "metadata": {
        "colab": {
          "base_uri": "https://localhost:8080/",
          "height": 423
        },
        "id": "IRO1nHVjnXcc",
        "outputId": "3fb0a9e0-f5b2-44c9-c862-244477688583"
      },
      "execution_count": null,
      "outputs": [
        {
          "output_type": "execute_result",
          "data": {
            "text/plain": [
              "     label                                               path       split  \\\n",
              "1        0  /content/drive/MyDrive/iris/iris_dataset/001L_...  validation   \n",
              "5        0  /content/drive/MyDrive/iris/iris_dataset/001R_...  validation   \n",
              "7        1  /content/drive/MyDrive/iris/iris_dataset/002L_...  validation   \n",
              "11       1  /content/drive/MyDrive/iris/iris_dataset/002R_...  validation   \n",
              "12       2  /content/drive/MyDrive/iris/iris_dataset/003L_...  validation   \n",
              "..     ...                                                ...         ...   \n",
              "370     61  /content/drive/MyDrive/iris/iris_dataset/062R_...  validation   \n",
              "372     62  /content/drive/MyDrive/iris/iris_dataset/063L_...  validation   \n",
              "376     62  /content/drive/MyDrive/iris/iris_dataset/063R_...  validation   \n",
              "379     63  /content/drive/MyDrive/iris/iris_dataset/064L_...  validation   \n",
              "382     63  /content/drive/MyDrive/iris/iris_dataset/064R_...  validation   \n",
              "\n",
              "     is_query  is_gallery  \n",
              "1         0.0         1.0  \n",
              "5         0.0         1.0  \n",
              "7         0.0         1.0  \n",
              "11        0.0         1.0  \n",
              "12        0.0         1.0  \n",
              "..        ...         ...  \n",
              "370       0.0         1.0  \n",
              "372       0.0         1.0  \n",
              "376       0.0         1.0  \n",
              "379       0.0         1.0  \n",
              "382       0.0         1.0  \n",
              "\n",
              "[128 rows x 5 columns]"
            ],
            "text/html": [
              "\n",
              "  <div id=\"df-85119d85-62cf-4ef5-976e-5ae0e3ff6396\">\n",
              "    <div class=\"colab-df-container\">\n",
              "      <div>\n",
              "<style scoped>\n",
              "    .dataframe tbody tr th:only-of-type {\n",
              "        vertical-align: middle;\n",
              "    }\n",
              "\n",
              "    .dataframe tbody tr th {\n",
              "        vertical-align: top;\n",
              "    }\n",
              "\n",
              "    .dataframe thead th {\n",
              "        text-align: right;\n",
              "    }\n",
              "</style>\n",
              "<table border=\"1\" class=\"dataframe\">\n",
              "  <thead>\n",
              "    <tr style=\"text-align: right;\">\n",
              "      <th></th>\n",
              "      <th>label</th>\n",
              "      <th>path</th>\n",
              "      <th>split</th>\n",
              "      <th>is_query</th>\n",
              "      <th>is_gallery</th>\n",
              "    </tr>\n",
              "  </thead>\n",
              "  <tbody>\n",
              "    <tr>\n",
              "      <th>1</th>\n",
              "      <td>0</td>\n",
              "      <td>/content/drive/MyDrive/iris/iris_dataset/001L_...</td>\n",
              "      <td>validation</td>\n",
              "      <td>0.0</td>\n",
              "      <td>1.0</td>\n",
              "    </tr>\n",
              "    <tr>\n",
              "      <th>5</th>\n",
              "      <td>0</td>\n",
              "      <td>/content/drive/MyDrive/iris/iris_dataset/001R_...</td>\n",
              "      <td>validation</td>\n",
              "      <td>0.0</td>\n",
              "      <td>1.0</td>\n",
              "    </tr>\n",
              "    <tr>\n",
              "      <th>7</th>\n",
              "      <td>1</td>\n",
              "      <td>/content/drive/MyDrive/iris/iris_dataset/002L_...</td>\n",
              "      <td>validation</td>\n",
              "      <td>0.0</td>\n",
              "      <td>1.0</td>\n",
              "    </tr>\n",
              "    <tr>\n",
              "      <th>11</th>\n",
              "      <td>1</td>\n",
              "      <td>/content/drive/MyDrive/iris/iris_dataset/002R_...</td>\n",
              "      <td>validation</td>\n",
              "      <td>0.0</td>\n",
              "      <td>1.0</td>\n",
              "    </tr>\n",
              "    <tr>\n",
              "      <th>12</th>\n",
              "      <td>2</td>\n",
              "      <td>/content/drive/MyDrive/iris/iris_dataset/003L_...</td>\n",
              "      <td>validation</td>\n",
              "      <td>0.0</td>\n",
              "      <td>1.0</td>\n",
              "    </tr>\n",
              "    <tr>\n",
              "      <th>...</th>\n",
              "      <td>...</td>\n",
              "      <td>...</td>\n",
              "      <td>...</td>\n",
              "      <td>...</td>\n",
              "      <td>...</td>\n",
              "    </tr>\n",
              "    <tr>\n",
              "      <th>370</th>\n",
              "      <td>61</td>\n",
              "      <td>/content/drive/MyDrive/iris/iris_dataset/062R_...</td>\n",
              "      <td>validation</td>\n",
              "      <td>0.0</td>\n",
              "      <td>1.0</td>\n",
              "    </tr>\n",
              "    <tr>\n",
              "      <th>372</th>\n",
              "      <td>62</td>\n",
              "      <td>/content/drive/MyDrive/iris/iris_dataset/063L_...</td>\n",
              "      <td>validation</td>\n",
              "      <td>0.0</td>\n",
              "      <td>1.0</td>\n",
              "    </tr>\n",
              "    <tr>\n",
              "      <th>376</th>\n",
              "      <td>62</td>\n",
              "      <td>/content/drive/MyDrive/iris/iris_dataset/063R_...</td>\n",
              "      <td>validation</td>\n",
              "      <td>0.0</td>\n",
              "      <td>1.0</td>\n",
              "    </tr>\n",
              "    <tr>\n",
              "      <th>379</th>\n",
              "      <td>63</td>\n",
              "      <td>/content/drive/MyDrive/iris/iris_dataset/064L_...</td>\n",
              "      <td>validation</td>\n",
              "      <td>0.0</td>\n",
              "      <td>1.0</td>\n",
              "    </tr>\n",
              "    <tr>\n",
              "      <th>382</th>\n",
              "      <td>63</td>\n",
              "      <td>/content/drive/MyDrive/iris/iris_dataset/064R_...</td>\n",
              "      <td>validation</td>\n",
              "      <td>0.0</td>\n",
              "      <td>1.0</td>\n",
              "    </tr>\n",
              "  </tbody>\n",
              "</table>\n",
              "<p>128 rows × 5 columns</p>\n",
              "</div>\n",
              "      <button class=\"colab-df-convert\" onclick=\"convertToInteractive('df-85119d85-62cf-4ef5-976e-5ae0e3ff6396')\"\n",
              "              title=\"Convert this dataframe to an interactive table.\"\n",
              "              style=\"display:none;\">\n",
              "        \n",
              "  <svg xmlns=\"http://www.w3.org/2000/svg\" height=\"24px\"viewBox=\"0 0 24 24\"\n",
              "       width=\"24px\">\n",
              "    <path d=\"M0 0h24v24H0V0z\" fill=\"none\"/>\n",
              "    <path d=\"M18.56 5.44l.94 2.06.94-2.06 2.06-.94-2.06-.94-.94-2.06-.94 2.06-2.06.94zm-11 1L8.5 8.5l.94-2.06 2.06-.94-2.06-.94L8.5 2.5l-.94 2.06-2.06.94zm10 10l.94 2.06.94-2.06 2.06-.94-2.06-.94-.94-2.06-.94 2.06-2.06.94z\"/><path d=\"M17.41 7.96l-1.37-1.37c-.4-.4-.92-.59-1.43-.59-.52 0-1.04.2-1.43.59L10.3 9.45l-7.72 7.72c-.78.78-.78 2.05 0 2.83L4 21.41c.39.39.9.59 1.41.59.51 0 1.02-.2 1.41-.59l7.78-7.78 2.81-2.81c.8-.78.8-2.07 0-2.86zM5.41 20L4 18.59l7.72-7.72 1.47 1.35L5.41 20z\"/>\n",
              "  </svg>\n",
              "      </button>\n",
              "      \n",
              "  <style>\n",
              "    .colab-df-container {\n",
              "      display:flex;\n",
              "      flex-wrap:wrap;\n",
              "      gap: 12px;\n",
              "    }\n",
              "\n",
              "    .colab-df-convert {\n",
              "      background-color: #E8F0FE;\n",
              "      border: none;\n",
              "      border-radius: 50%;\n",
              "      cursor: pointer;\n",
              "      display: none;\n",
              "      fill: #1967D2;\n",
              "      height: 32px;\n",
              "      padding: 0 0 0 0;\n",
              "      width: 32px;\n",
              "    }\n",
              "\n",
              "    .colab-df-convert:hover {\n",
              "      background-color: #E2EBFA;\n",
              "      box-shadow: 0px 1px 2px rgba(60, 64, 67, 0.3), 0px 1px 3px 1px rgba(60, 64, 67, 0.15);\n",
              "      fill: #174EA6;\n",
              "    }\n",
              "\n",
              "    [theme=dark] .colab-df-convert {\n",
              "      background-color: #3B4455;\n",
              "      fill: #D2E3FC;\n",
              "    }\n",
              "\n",
              "    [theme=dark] .colab-df-convert:hover {\n",
              "      background-color: #434B5C;\n",
              "      box-shadow: 0px 1px 3px 1px rgba(0, 0, 0, 0.15);\n",
              "      filter: drop-shadow(0px 1px 2px rgba(0, 0, 0, 0.3));\n",
              "      fill: #FFFFFF;\n",
              "    }\n",
              "  </style>\n",
              "\n",
              "      <script>\n",
              "        const buttonEl =\n",
              "          document.querySelector('#df-85119d85-62cf-4ef5-976e-5ae0e3ff6396 button.colab-df-convert');\n",
              "        buttonEl.style.display =\n",
              "          google.colab.kernel.accessAllowed ? 'block' : 'none';\n",
              "\n",
              "        async function convertToInteractive(key) {\n",
              "          const element = document.querySelector('#df-85119d85-62cf-4ef5-976e-5ae0e3ff6396');\n",
              "          const dataTable =\n",
              "            await google.colab.kernel.invokeFunction('convertToInteractive',\n",
              "                                                     [key], {});\n",
              "          if (!dataTable) return;\n",
              "\n",
              "          const docLinkHtml = 'Like what you see? Visit the ' +\n",
              "            '<a target=\"_blank\" href=https://colab.research.google.com/notebooks/data_table.ipynb>data table notebook</a>'\n",
              "            + ' to learn more about interactive tables.';\n",
              "          element.innerHTML = '';\n",
              "          dataTable['output_type'] = 'display_data';\n",
              "          await google.colab.output.renderOutput(dataTable, element);\n",
              "          const docLink = document.createElement('div');\n",
              "          docLink.innerHTML = docLinkHtml;\n",
              "          element.appendChild(docLink);\n",
              "        }\n",
              "      </script>\n",
              "    </div>\n",
              "  </div>\n",
              "  "
            ]
          },
          "metadata": {},
          "execution_count": 55
        }
      ]
    },
    {
      "cell_type": "code",
      "source": [
        "predict=[]\n",
        "for i in ii_closest.tolist():\n",
        "  predict.append(df_galleries.iloc[i]['label'])\n",
        "  print(str(i))\n",
        "  print(df_galleries.iloc[i]['label'])"
      ],
      "metadata": {
        "id": "FR3VyzARmwTx"
      },
      "execution_count": null,
      "outputs": []
    },
    {
      "cell_type": "code",
      "source": [
        "predict"
      ],
      "metadata": {
        "id": "iPbymEJu7xEC"
      },
      "execution_count": null,
      "outputs": []
    },
    {
      "cell_type": "code",
      "source": [
        "df_queries['predict']=predict"
      ],
      "metadata": {
        "id": "y2Q8RtoW47Oh",
        "colab": {
          "base_uri": "https://localhost:8080/"
        },
        "outputId": "bd5a84d3-c3ff-4fa1-d502-d13bfe99195c"
      },
      "execution_count": null,
      "outputs": [
        {
          "output_type": "stream",
          "name": "stderr",
          "text": [
            "<ipython-input-195-1762ec41cc12>:1: SettingWithCopyWarning: \n",
            "A value is trying to be set on a copy of a slice from a DataFrame.\n",
            "Try using .loc[row_indexer,col_indexer] = value instead\n",
            "\n",
            "See the caveats in the documentation: https://pandas.pydata.org/pandas-docs/stable/user_guide/indexing.html#returning-a-view-versus-a-copy\n",
            "  df_queries['predict']=predict\n"
          ]
        }
      ]
    },
    {
      "cell_type": "code",
      "source": [
        "df_queries"
      ],
      "metadata": {
        "colab": {
          "base_uri": "https://localhost:8080/",
          "height": 989
        },
        "id": "L6CxiGbsgmum",
        "outputId": "2e886772-d400-4744-ef00-e9dccd85e905"
      },
      "execution_count": null,
      "outputs": [
        {
          "output_type": "execute_result",
          "data": {
            "text/plain": [
              "     label                                               path       split  \\\n",
              "3        0  /content/drive/MyDrive/iris/iris_dataset/001L_...  validation   \n",
              "4        0  /content/drive/MyDrive/iris/iris_dataset/001R_...  validation   \n",
              "8        1  /content/drive/MyDrive/iris/iris_dataset/002L_...  validation   \n",
              "10       1  /content/drive/MyDrive/iris/iris_dataset/002R_...  validation   \n",
              "15       2  /content/drive/MyDrive/iris/iris_dataset/003L_...  validation   \n",
              "..     ...                                                ...         ...   \n",
              "371     61  /content/drive/MyDrive/iris/iris_dataset/062R_...  validation   \n",
              "375     62  /content/drive/MyDrive/iris/iris_dataset/063L_...  validation   \n",
              "377     62  /content/drive/MyDrive/iris/iris_dataset/063R_...  validation   \n",
              "381     63  /content/drive/MyDrive/iris/iris_dataset/064L_...  validation   \n",
              "383     63  /content/drive/MyDrive/iris/iris_dataset/064R_...  validation   \n",
              "\n",
              "     is_query  is_gallery  predict_idx  predict  \n",
              "3         1.0         0.0            0        0  \n",
              "4         1.0         0.0            0        0  \n",
              "8         1.0         0.0            1        1  \n",
              "10        1.0         0.0            1        1  \n",
              "15        1.0         0.0            2        2  \n",
              "..        ...         ...          ...      ...  \n",
              "371       1.0         0.0           61       61  \n",
              "375       1.0         0.0           62       62  \n",
              "377       1.0         0.0           62       62  \n",
              "381       1.0         0.0           63       63  \n",
              "383       1.0         0.0           63       63  \n",
              "\n",
              "[128 rows x 7 columns]"
            ],
            "text/html": [
              "\n",
              "  <div id=\"df-32916b58-42b5-4882-8de3-b5184e7c95be\">\n",
              "    <div class=\"colab-df-container\">\n",
              "      <div>\n",
              "<style scoped>\n",
              "    .dataframe tbody tr th:only-of-type {\n",
              "        vertical-align: middle;\n",
              "    }\n",
              "\n",
              "    .dataframe tbody tr th {\n",
              "        vertical-align: top;\n",
              "    }\n",
              "\n",
              "    .dataframe thead th {\n",
              "        text-align: right;\n",
              "    }\n",
              "</style>\n",
              "<table border=\"1\" class=\"dataframe\">\n",
              "  <thead>\n",
              "    <tr style=\"text-align: right;\">\n",
              "      <th></th>\n",
              "      <th>label</th>\n",
              "      <th>path</th>\n",
              "      <th>split</th>\n",
              "      <th>is_query</th>\n",
              "      <th>is_gallery</th>\n",
              "      <th>predict_idx</th>\n",
              "      <th>predict</th>\n",
              "    </tr>\n",
              "  </thead>\n",
              "  <tbody>\n",
              "    <tr>\n",
              "      <th>3</th>\n",
              "      <td>0</td>\n",
              "      <td>/content/drive/MyDrive/iris/iris_dataset/001L_...</td>\n",
              "      <td>validation</td>\n",
              "      <td>1.0</td>\n",
              "      <td>0.0</td>\n",
              "      <td>0</td>\n",
              "      <td>0</td>\n",
              "    </tr>\n",
              "    <tr>\n",
              "      <th>4</th>\n",
              "      <td>0</td>\n",
              "      <td>/content/drive/MyDrive/iris/iris_dataset/001R_...</td>\n",
              "      <td>validation</td>\n",
              "      <td>1.0</td>\n",
              "      <td>0.0</td>\n",
              "      <td>0</td>\n",
              "      <td>0</td>\n",
              "    </tr>\n",
              "    <tr>\n",
              "      <th>8</th>\n",
              "      <td>1</td>\n",
              "      <td>/content/drive/MyDrive/iris/iris_dataset/002L_...</td>\n",
              "      <td>validation</td>\n",
              "      <td>1.0</td>\n",
              "      <td>0.0</td>\n",
              "      <td>1</td>\n",
              "      <td>1</td>\n",
              "    </tr>\n",
              "    <tr>\n",
              "      <th>10</th>\n",
              "      <td>1</td>\n",
              "      <td>/content/drive/MyDrive/iris/iris_dataset/002R_...</td>\n",
              "      <td>validation</td>\n",
              "      <td>1.0</td>\n",
              "      <td>0.0</td>\n",
              "      <td>1</td>\n",
              "      <td>1</td>\n",
              "    </tr>\n",
              "    <tr>\n",
              "      <th>15</th>\n",
              "      <td>2</td>\n",
              "      <td>/content/drive/MyDrive/iris/iris_dataset/003L_...</td>\n",
              "      <td>validation</td>\n",
              "      <td>1.0</td>\n",
              "      <td>0.0</td>\n",
              "      <td>2</td>\n",
              "      <td>2</td>\n",
              "    </tr>\n",
              "    <tr>\n",
              "      <th>...</th>\n",
              "      <td>...</td>\n",
              "      <td>...</td>\n",
              "      <td>...</td>\n",
              "      <td>...</td>\n",
              "      <td>...</td>\n",
              "      <td>...</td>\n",
              "      <td>...</td>\n",
              "    </tr>\n",
              "    <tr>\n",
              "      <th>371</th>\n",
              "      <td>61</td>\n",
              "      <td>/content/drive/MyDrive/iris/iris_dataset/062R_...</td>\n",
              "      <td>validation</td>\n",
              "      <td>1.0</td>\n",
              "      <td>0.0</td>\n",
              "      <td>61</td>\n",
              "      <td>61</td>\n",
              "    </tr>\n",
              "    <tr>\n",
              "      <th>375</th>\n",
              "      <td>62</td>\n",
              "      <td>/content/drive/MyDrive/iris/iris_dataset/063L_...</td>\n",
              "      <td>validation</td>\n",
              "      <td>1.0</td>\n",
              "      <td>0.0</td>\n",
              "      <td>62</td>\n",
              "      <td>62</td>\n",
              "    </tr>\n",
              "    <tr>\n",
              "      <th>377</th>\n",
              "      <td>62</td>\n",
              "      <td>/content/drive/MyDrive/iris/iris_dataset/063R_...</td>\n",
              "      <td>validation</td>\n",
              "      <td>1.0</td>\n",
              "      <td>0.0</td>\n",
              "      <td>62</td>\n",
              "      <td>62</td>\n",
              "    </tr>\n",
              "    <tr>\n",
              "      <th>381</th>\n",
              "      <td>63</td>\n",
              "      <td>/content/drive/MyDrive/iris/iris_dataset/064L_...</td>\n",
              "      <td>validation</td>\n",
              "      <td>1.0</td>\n",
              "      <td>0.0</td>\n",
              "      <td>63</td>\n",
              "      <td>63</td>\n",
              "    </tr>\n",
              "    <tr>\n",
              "      <th>383</th>\n",
              "      <td>63</td>\n",
              "      <td>/content/drive/MyDrive/iris/iris_dataset/064R_...</td>\n",
              "      <td>validation</td>\n",
              "      <td>1.0</td>\n",
              "      <td>0.0</td>\n",
              "      <td>63</td>\n",
              "      <td>63</td>\n",
              "    </tr>\n",
              "  </tbody>\n",
              "</table>\n",
              "<p>128 rows × 7 columns</p>\n",
              "</div>\n",
              "      <button class=\"colab-df-convert\" onclick=\"convertToInteractive('df-32916b58-42b5-4882-8de3-b5184e7c95be')\"\n",
              "              title=\"Convert this dataframe to an interactive table.\"\n",
              "              style=\"display:none;\">\n",
              "        \n",
              "  <svg xmlns=\"http://www.w3.org/2000/svg\" height=\"24px\"viewBox=\"0 0 24 24\"\n",
              "       width=\"24px\">\n",
              "    <path d=\"M0 0h24v24H0V0z\" fill=\"none\"/>\n",
              "    <path d=\"M18.56 5.44l.94 2.06.94-2.06 2.06-.94-2.06-.94-.94-2.06-.94 2.06-2.06.94zm-11 1L8.5 8.5l.94-2.06 2.06-.94-2.06-.94L8.5 2.5l-.94 2.06-2.06.94zm10 10l.94 2.06.94-2.06 2.06-.94-2.06-.94-.94-2.06-.94 2.06-2.06.94z\"/><path d=\"M17.41 7.96l-1.37-1.37c-.4-.4-.92-.59-1.43-.59-.52 0-1.04.2-1.43.59L10.3 9.45l-7.72 7.72c-.78.78-.78 2.05 0 2.83L4 21.41c.39.39.9.59 1.41.59.51 0 1.02-.2 1.41-.59l7.78-7.78 2.81-2.81c.8-.78.8-2.07 0-2.86zM5.41 20L4 18.59l7.72-7.72 1.47 1.35L5.41 20z\"/>\n",
              "  </svg>\n",
              "      </button>\n",
              "      \n",
              "  <style>\n",
              "    .colab-df-container {\n",
              "      display:flex;\n",
              "      flex-wrap:wrap;\n",
              "      gap: 12px;\n",
              "    }\n",
              "\n",
              "    .colab-df-convert {\n",
              "      background-color: #E8F0FE;\n",
              "      border: none;\n",
              "      border-radius: 50%;\n",
              "      cursor: pointer;\n",
              "      display: none;\n",
              "      fill: #1967D2;\n",
              "      height: 32px;\n",
              "      padding: 0 0 0 0;\n",
              "      width: 32px;\n",
              "    }\n",
              "\n",
              "    .colab-df-convert:hover {\n",
              "      background-color: #E2EBFA;\n",
              "      box-shadow: 0px 1px 2px rgba(60, 64, 67, 0.3), 0px 1px 3px 1px rgba(60, 64, 67, 0.15);\n",
              "      fill: #174EA6;\n",
              "    }\n",
              "\n",
              "    [theme=dark] .colab-df-convert {\n",
              "      background-color: #3B4455;\n",
              "      fill: #D2E3FC;\n",
              "    }\n",
              "\n",
              "    [theme=dark] .colab-df-convert:hover {\n",
              "      background-color: #434B5C;\n",
              "      box-shadow: 0px 1px 3px 1px rgba(0, 0, 0, 0.15);\n",
              "      filter: drop-shadow(0px 1px 2px rgba(0, 0, 0, 0.3));\n",
              "      fill: #FFFFFF;\n",
              "    }\n",
              "  </style>\n",
              "\n",
              "      <script>\n",
              "        const buttonEl =\n",
              "          document.querySelector('#df-32916b58-42b5-4882-8de3-b5184e7c95be button.colab-df-convert');\n",
              "        buttonEl.style.display =\n",
              "          google.colab.kernel.accessAllowed ? 'block' : 'none';\n",
              "\n",
              "        async function convertToInteractive(key) {\n",
              "          const element = document.querySelector('#df-32916b58-42b5-4882-8de3-b5184e7c95be');\n",
              "          const dataTable =\n",
              "            await google.colab.kernel.invokeFunction('convertToInteractive',\n",
              "                                                     [key], {});\n",
              "          if (!dataTable) return;\n",
              "\n",
              "          const docLinkHtml = 'Like what you see? Visit the ' +\n",
              "            '<a target=\"_blank\" href=https://colab.research.google.com/notebooks/data_table.ipynb>data table notebook</a>'\n",
              "            + ' to learn more about interactive tables.';\n",
              "          element.innerHTML = '';\n",
              "          dataTable['output_type'] = 'display_data';\n",
              "          await google.colab.output.renderOutput(dataTable, element);\n",
              "          const docLink = document.createElement('div');\n",
              "          docLink.innerHTML = docLinkHtml;\n",
              "          element.appendChild(docLink);\n",
              "        }\n",
              "      </script>\n",
              "    </div>\n",
              "  </div>\n",
              "  "
            ]
          },
          "metadata": {},
          "execution_count": 196
        }
      ]
    },
    {
      "cell_type": "code",
      "source": [
        "df_err=df_queries[df_queries['label']!=df_queries['predict']]"
      ],
      "metadata": {
        "id": "WXKNJCN882d8"
      },
      "execution_count": null,
      "outputs": []
    },
    {
      "cell_type": "code",
      "source": [
        "# ошибок нет\n",
        "df_err"
      ],
      "metadata": {
        "colab": {
          "base_uri": "https://localhost:8080/",
          "height": 49
        },
        "id": "PbtMKHFc9hIG",
        "outputId": "cb787d59-c24e-4a3e-adbb-80671549ffa5"
      },
      "execution_count": null,
      "outputs": [
        {
          "output_type": "execute_result",
          "data": {
            "text/plain": [
              "Empty DataFrame\n",
              "Columns: [label, path, split, is_query, is_gallery, predict_idx, predict]\n",
              "Index: []"
            ],
            "text/html": [
              "\n",
              "  <div id=\"df-0a7b8931-226b-4ddf-8858-443633def556\">\n",
              "    <div class=\"colab-df-container\">\n",
              "      <div>\n",
              "<style scoped>\n",
              "    .dataframe tbody tr th:only-of-type {\n",
              "        vertical-align: middle;\n",
              "    }\n",
              "\n",
              "    .dataframe tbody tr th {\n",
              "        vertical-align: top;\n",
              "    }\n",
              "\n",
              "    .dataframe thead th {\n",
              "        text-align: right;\n",
              "    }\n",
              "</style>\n",
              "<table border=\"1\" class=\"dataframe\">\n",
              "  <thead>\n",
              "    <tr style=\"text-align: right;\">\n",
              "      <th></th>\n",
              "      <th>label</th>\n",
              "      <th>path</th>\n",
              "      <th>split</th>\n",
              "      <th>is_query</th>\n",
              "      <th>is_gallery</th>\n",
              "      <th>predict_idx</th>\n",
              "      <th>predict</th>\n",
              "    </tr>\n",
              "  </thead>\n",
              "  <tbody>\n",
              "  </tbody>\n",
              "</table>\n",
              "</div>\n",
              "      <button class=\"colab-df-convert\" onclick=\"convertToInteractive('df-0a7b8931-226b-4ddf-8858-443633def556')\"\n",
              "              title=\"Convert this dataframe to an interactive table.\"\n",
              "              style=\"display:none;\">\n",
              "        \n",
              "  <svg xmlns=\"http://www.w3.org/2000/svg\" height=\"24px\"viewBox=\"0 0 24 24\"\n",
              "       width=\"24px\">\n",
              "    <path d=\"M0 0h24v24H0V0z\" fill=\"none\"/>\n",
              "    <path d=\"M18.56 5.44l.94 2.06.94-2.06 2.06-.94-2.06-.94-.94-2.06-.94 2.06-2.06.94zm-11 1L8.5 8.5l.94-2.06 2.06-.94-2.06-.94L8.5 2.5l-.94 2.06-2.06.94zm10 10l.94 2.06.94-2.06 2.06-.94-2.06-.94-.94-2.06-.94 2.06-2.06.94z\"/><path d=\"M17.41 7.96l-1.37-1.37c-.4-.4-.92-.59-1.43-.59-.52 0-1.04.2-1.43.59L10.3 9.45l-7.72 7.72c-.78.78-.78 2.05 0 2.83L4 21.41c.39.39.9.59 1.41.59.51 0 1.02-.2 1.41-.59l7.78-7.78 2.81-2.81c.8-.78.8-2.07 0-2.86zM5.41 20L4 18.59l7.72-7.72 1.47 1.35L5.41 20z\"/>\n",
              "  </svg>\n",
              "      </button>\n",
              "      \n",
              "  <style>\n",
              "    .colab-df-container {\n",
              "      display:flex;\n",
              "      flex-wrap:wrap;\n",
              "      gap: 12px;\n",
              "    }\n",
              "\n",
              "    .colab-df-convert {\n",
              "      background-color: #E8F0FE;\n",
              "      border: none;\n",
              "      border-radius: 50%;\n",
              "      cursor: pointer;\n",
              "      display: none;\n",
              "      fill: #1967D2;\n",
              "      height: 32px;\n",
              "      padding: 0 0 0 0;\n",
              "      width: 32px;\n",
              "    }\n",
              "\n",
              "    .colab-df-convert:hover {\n",
              "      background-color: #E2EBFA;\n",
              "      box-shadow: 0px 1px 2px rgba(60, 64, 67, 0.3), 0px 1px 3px 1px rgba(60, 64, 67, 0.15);\n",
              "      fill: #174EA6;\n",
              "    }\n",
              "\n",
              "    [theme=dark] .colab-df-convert {\n",
              "      background-color: #3B4455;\n",
              "      fill: #D2E3FC;\n",
              "    }\n",
              "\n",
              "    [theme=dark] .colab-df-convert:hover {\n",
              "      background-color: #434B5C;\n",
              "      box-shadow: 0px 1px 3px 1px rgba(0, 0, 0, 0.15);\n",
              "      filter: drop-shadow(0px 1px 2px rgba(0, 0, 0, 0.3));\n",
              "      fill: #FFFFFF;\n",
              "    }\n",
              "  </style>\n",
              "\n",
              "      <script>\n",
              "        const buttonEl =\n",
              "          document.querySelector('#df-0a7b8931-226b-4ddf-8858-443633def556 button.colab-df-convert');\n",
              "        buttonEl.style.display =\n",
              "          google.colab.kernel.accessAllowed ? 'block' : 'none';\n",
              "\n",
              "        async function convertToInteractive(key) {\n",
              "          const element = document.querySelector('#df-0a7b8931-226b-4ddf-8858-443633def556');\n",
              "          const dataTable =\n",
              "            await google.colab.kernel.invokeFunction('convertToInteractive',\n",
              "                                                     [key], {});\n",
              "          if (!dataTable) return;\n",
              "\n",
              "          const docLinkHtml = 'Like what you see? Visit the ' +\n",
              "            '<a target=\"_blank\" href=https://colab.research.google.com/notebooks/data_table.ipynb>data table notebook</a>'\n",
              "            + ' to learn more about interactive tables.';\n",
              "          element.innerHTML = '';\n",
              "          dataTable['output_type'] = 'display_data';\n",
              "          await google.colab.output.renderOutput(dataTable, element);\n",
              "          const docLink = document.createElement('div');\n",
              "          docLink.innerHTML = docLinkHtml;\n",
              "          element.appendChild(docLink);\n",
              "        }\n",
              "      </script>\n",
              "    </div>\n",
              "  </div>\n",
              "  "
            ]
          },
          "metadata": {},
          "execution_count": 198
        }
      ]
    },
    {
      "cell_type": "code",
      "source": [
        "df_train=df[df['split']=='train']\n",
        "df_train[\"path\"] = df_train[\"path\"].apply(lambda x: p / x)"
      ],
      "metadata": {
        "id": "WiRCfTDcC3Gu"
      },
      "execution_count": null,
      "outputs": []
    },
    {
      "cell_type": "code",
      "source": [
        "path= df_train['path']"
      ],
      "metadata": {
        "id": "WjJOteGdShNi"
      },
      "execution_count": null,
      "outputs": []
    },
    {
      "cell_type": "code",
      "source": [
        "path"
      ],
      "metadata": {
        "id": "WpIDfLqGTW5_"
      },
      "execution_count": null,
      "outputs": []
    },
    {
      "cell_type": "markdown",
      "source": [
        "Тут я пытаюсь выяснить не слишком ли много эмбеддинг у нас места занимает - 384 Для этого ищу что скажут главные компоненты"
      ],
      "metadata": {
        "id": "qCWmSCDeQ9n8"
      }
    },
    {
      "cell_type": "code",
      "source": [
        "# варианс\n",
        "embeddings = inference_on_images(model, paths=path.values, transform=transform, **args)\n",
        "pca = PCA(embeddings)\n"
      ],
      "metadata": {
        "id": "o_LkAXPKC3J4"
      },
      "execution_count": null,
      "outputs": []
    },
    {
      "cell_type": "code",
      "source": [
        "embeddings.shape"
      ],
      "metadata": {
        "colab": {
          "base_uri": "https://localhost:8080/"
        },
        "id": "EedcQLT_C3Mt",
        "outputId": "1384710f-58cb-4f91-82e8-2451a20366c2"
      },
      "execution_count": null,
      "outputs": [
        {
          "output_type": "execute_result",
          "data": {
            "text/plain": [
              "torch.Size([128, 384])"
            ]
          },
          "metadata": {},
          "execution_count": 203
        }
      ]
    },
    {
      "cell_type": "markdown",
      "source": [
        "Variance 99% - 88 main eigenvectors. Похоже можно эмбеддинги хранить всего в 88 мерном пространстве!\n",
        "Надо будет править может до 100\n",
        "\n",
        "\n"
      ],
      "metadata": {
        "id": "z60iH3SQRhjd"
      }
    },
    {
      "cell_type": "code",
      "source": [
        "pca.calc_principal_axes_number(pfc_variance=(0.99, 1))"
      ],
      "metadata": {
        "colab": {
          "base_uri": "https://localhost:8080/"
        },
        "id": "FjSE5OxXHOcV",
        "outputId": "68c8799b-9eb2-4df2-b077-f136baccf650"
      },
      "execution_count": null,
      "outputs": [
        {
          "output_type": "execute_result",
          "data": {
            "text/plain": [
              "tensor([ 88, 127])"
            ]
          },
          "metadata": {},
          "execution_count": 209
        }
      ]
    },
    {
      "cell_type": "markdown",
      "source": [
        "UMAP и визуализация train эмбеддинга"
      ],
      "metadata": {
        "id": "1ayBeYyJzqF1"
      }
    },
    {
      "cell_type": "code",
      "source": [
        "!pip install umap-learn"
      ],
      "metadata": {
        "id": "e6409lkdJycJ"
      },
      "execution_count": null,
      "outputs": []
    },
    {
      "cell_type": "code",
      "source": [
        "import numpy as np\n",
        "from sklearn.datasets import load_digits\n",
        "from sklearn.model_selection import train_test_split, cross_val_score\n",
        "from sklearn.neighbors import KNeighborsClassifier\n",
        "from sklearn.svm import SVC\n",
        "\n",
        "import matplotlib.pyplot as plt\n",
        "import seaborn as sns\n",
        "%matplotlib inline"
      ],
      "metadata": {
        "id": "kOQWWeINOIiD"
      },
      "execution_count": null,
      "outputs": []
    },
    {
      "cell_type": "code",
      "source": [
        "import umap"
      ],
      "metadata": {
        "id": "8D9pwhuUJye2"
      },
      "execution_count": null,
      "outputs": []
    },
    {
      "cell_type": "code",
      "source": [
        "umap_embeddings = umap.UMAP(n_neighbors=5, random_state=42).fit(embeddings).embedding_"
      ],
      "metadata": {
        "id": "G5yAt8MsJyh5"
      },
      "execution_count": null,
      "outputs": []
    },
    {
      "cell_type": "code",
      "source": [
        "umap_embeddings.shape"
      ],
      "metadata": {
        "colab": {
          "base_uri": "https://localhost:8080/"
        },
        "id": "fJgQkl-ElS7a",
        "outputId": "cf13e35f-def0-49ad-d8f2-6896bfdb545e"
      },
      "execution_count": null,
      "outputs": [
        {
          "output_type": "execute_result",
          "data": {
            "text/plain": [
              "(128, 2)"
            ]
          },
          "metadata": {},
          "execution_count": 136
        }
      ]
    },
    {
      "cell_type": "code",
      "source": [
        "from cycler import cycler"
      ],
      "metadata": {
        "id": "hnCunMQ7jv9w"
      },
      "execution_count": null,
      "outputs": []
    },
    {
      "cell_type": "code",
      "source": [
        "labels = df_train['label'].values\n",
        "df_train=df_train.set_index([pd.Index(range(len(y_train)))])"
      ],
      "metadata": {
        "id": "ArbMdG-kmShJ"
      },
      "execution_count": null,
      "outputs": []
    },
    {
      "cell_type": "code",
      "source": [
        "label_set = np.unique(df_val['label'].values)\n",
        "num_classes = len(label_set)\n",
        "plt.figure(figsize=(20, 15))\n",
        "plt.gca().set_prop_cycle(\n",
        "    cycler(\n",
        "        \"color\", [plt.cm.nipy_spectral(i) for i in np.linspace(0, 0.9, num_classes)]\n",
        "    )\n",
        ")\n",
        "for i in range(num_classes):\n",
        "  idx = train[train['label'] == label_set[i]].index.values\n",
        "  #print(idx)\n",
        "  plt.plot(umap_embeddings[idx, 0], umap_embeddings[idx, 1], \".\", markersize=10)\n",
        "plt.show()"
      ],
      "metadata": {
        "colab": {
          "base_uri": "https://localhost:8080/",
          "height": 505
        },
        "id": "YQ3AUcjNiJ_1",
        "outputId": "9e37c0c4-2236-415a-c966-0e7476abc1b5"
      },
      "execution_count": null,
      "outputs": [
        {
          "output_type": "display_data",
          "data": {
            "text/plain": [
              "<Figure size 1440x1080 with 1 Axes>"
            ],
            "image/png": "[encoded data removed]"
          },
          "metadata": {
            "needs_background": "light"
          }
        }
      ]
    },
    {
      "cell_type": "code",
      "source": [
        "print(list(ViTExtractor.pretrained_models.keys()))"
      ],
      "metadata": {
        "colab": {
          "base_uri": "https://localhost:8080/"
        },
        "id": "95_jXTIOJP0q",
        "outputId": "063b6b65-0389-4327-d199-e8fc83b29f67"
      },
      "execution_count": null,
      "outputs": [
        {
          "output_type": "stream",
          "name": "stdout",
          "text": [
            "['vits16_dino', 'vits8_dino', 'vitb16_dino', 'vitb8_dino', 'vits16_inshop', 'vits16_sop', 'vits16_cub', 'vits16_cars']\n"
          ]
        }
      ]
    }
  ]
}