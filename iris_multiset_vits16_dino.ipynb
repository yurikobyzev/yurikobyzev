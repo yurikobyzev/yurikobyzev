{
  "nbformat": 4,
  "nbformat_minor": 0,
  "metadata": {
    "colab": {
      "provenance": [],
      "toc_visible": true,
      "mount_file_id": "1F4mdxDl7FZTteMFOVjM-YQFkpzMh_mG1",
      "authorship_tag": "ABX9TyONyW8AmpgZc68HfEdxgq8I",
      "include_colab_link": true
    },
    "kernelspec": {
      "name": "python3",
      "display_name": "Python 3"
    },
    "language_info": {
      "name": "python"
    },
    "gpuClass": "standard",
    "accelerator": "GPU"
  },
  "cells": [
    {
      "cell_type": "markdown",
      "metadata": {
        "id": "view-in-github",
        "colab_type": "text"
      },
      "source": [
        "<a href=\"https://colab.research.google.com/github/yurikobyzev/yurikobyzev/blob/main/iris_multiset_vits16_dino.ipynb\" target=\"_parent\"><img src=\"https://colab.research.google.com/assets/colab-badge.svg\" alt=\"Open In Colab\"/></a>"
      ]
    },
    {
      "cell_type": "markdown",
      "source": [],
      "metadata": {
        "id": "Jwgtg4ktLGB5"
      }
    },
    {
      "cell_type": "code",
      "source": [
        "!! pip install open-metric-learning\n",
        "!! pip install pytorch-metric-learning\n",
        "!! pip install pillow==9.0.0"
      ],
      "metadata": {
        "id": "eiKmNjzGXL-m"
      },
      "execution_count": null,
      "outputs": []
    },
    {
      "cell_type": "code",
      "source": [
        "%cd /content/drive/MyDrive/iris"
      ],
      "metadata": {
        "colab": {
          "base_uri": "https://localhost:8080/"
        },
        "id": "fUrqgzVGG4pw",
        "outputId": "62dc563b-e0aa-42c3-d19d-6c177a54239c"
      },
      "execution_count": null,
      "outputs": [
        {
          "output_type": "stream",
          "name": "stdout",
          "text": [
            "/content/drive/MyDrive/iris\n"
          ]
        }
      ]
    },
    {
      "cell_type": "code",
      "source": [
        "import oml\n",
        "print(oml.__version__)\n",
        "from oml.models.meta.siamese import ConcatSiamese"
      ],
      "metadata": {
        "id": "I9NhW-fq9vRU",
        "colab": {
          "base_uri": "https://localhost:8080/"
        },
        "outputId": "fe5de24c-3f42-40b5-b4f1-463962545041"
      },
      "execution_count": null,
      "outputs": [
        {
          "output_type": "stream",
          "name": "stdout",
          "text": [
            "0.3.14\n"
          ]
        }
      ]
    },
    {
      "cell_type": "code",
      "source": [
        "import torch\n",
        "from tqdm import tqdm\n",
        "\n",
        "from oml.datasets.base import DatasetWithLabels\n",
        "from oml.losses.triplet import TripletLossWithMiner\n",
        "from oml.miners.inbatch_all_tri import AllTripletsMiner\n",
        "from oml.models.vit.vit import ViTExtractor\n",
        "from oml.samplers.balance import BalanceSampler\n",
        "from oml.datasets.base import DatasetQueryGallery\n",
        "from oml.metrics.embeddings import EmbeddingMetrics\n",
        "from oml.utils.dataframe_format import check_retrieval_dataframe_format\n",
        "from oml.utils.misc_torch import PCA\n",
        "from oml.inference.flat import inference_on_images\n",
        "from oml.registry.transforms import get_transforms_for_pretrained\n",
        "from oml.utils.misc_torch import pairwise_dist\n",
        "from pytorch_metric_learning import losses, distances, reducers, miners\n",
        "import pandas as pd\n",
        "from oml.transforms.images.torchvision import get_normalisation_resize_torch\n",
        "from oml.models.meta.siamese import ConcatSiamese\n",
        "from oml.miners.pairs import PairsMiner\n",
        "from oml.inference.flat import inference_on_dataframe\n",
        "from torch.nn import BCEWithLogitsLoss\n",
        "from torch.utils.data import DataLoader\n",
        "from oml.retrieval.postprocessors.pairwise import PairwiseImagesPostprocessor\n",
        "from pprint import pprint\n",
        "\n"
      ],
      "metadata": {
        "id": "d2Yx4ydPXRcI"
      },
      "execution_count": null,
      "outputs": []
    },
    {
      "cell_type": "code",
      "source": [
        "import pandas as pd\n",
        "from pathlib import Path\n",
        "import pathlib\n",
        "\n",
        "iris_path='/content/drive/MyDrive/iris'\n",
        "iris_path=pathlib.PosixPath(iris_path)\n",
        "\n",
        "\n",
        "root_iris_id='iris_dataset'\n",
        "iris_id_csv=\"/content/drive/MyDrive/iris/df_iris_dataset_LR.csv\"\n",
        "\n",
        "root_iris_amf='AMF_Iris_Dataset'\n",
        "iris_amf='/content/drive/MyDrive/iris/AMF_Iris_Dataset'\n",
        "iris_amf_csv='/content/drive/MyDrive/iris/df_amf_LR.csv'\n",
        "\n",
        "root_iris_mmu ='MMU-Iris-Database'\n",
        "iris_mmu ='/content/drive/MyDrive/iris/MMU-Iris-Database'\n",
        "iris_mmu_csv = '/content/drive/MyDrive/iris/df_mmu_LR.csv'\n",
        "\n",
        "# open metric learning format for datasets and pipelines...\n",
        "df_iris_id = pd.read_csv(iris_id_csv)\n",
        "df_iris_mmu = pd.read_csv(iris_mmu_csv)\n",
        "df_iris_amf = pd.read_csv(iris_amf_csv)"
      ],
      "metadata": {
        "id": "EyLObTLZWGhb"
      },
      "execution_count": null,
      "outputs": []
    },
    {
      "cell_type": "markdown",
      "source": [],
      "metadata": {
        "id": "kdam6wiFdDXV"
      }
    },
    {
      "cell_type": "code",
      "source": [
        "df_iris_mmu"
      ],
      "metadata": {
        "id": "EXnpyRFkUkyB"
      },
      "execution_count": null,
      "outputs": []
    },
    {
      "cell_type": "markdown",
      "source": [
        "<H3>Формируем датафреймы с 3мя базами"
      ],
      "metadata": {
        "id": "S79NyyqHdGqd"
      }
    },
    {
      "cell_type": "code",
      "source": [
        "header=\"label,src_file,split,is_query,is_gallery,eye,ds,path\""
      ],
      "metadata": {
        "id": "BviGNlrBYNLH"
      },
      "execution_count": null,
      "outputs": []
    },
    {
      "cell_type": "code",
      "source": [
        "\n",
        "!ls {iris_mmu}"
      ],
      "metadata": {
        "colab": {
          "base_uri": "https://localhost:8080/"
        },
        "id": "HBgZ_W3gYC-r",
        "outputId": "70bfa2bc-693b-418a-ec09-6de87fbc64b6"
      },
      "execution_count": null,
      "outputs": [
        {
          "output_type": "stream",
          "name": "stdout",
          "text": [
            "1   12\t15  18\t20  23\t26  29\t31  34\t37  40\t43  46\t7  ReadMe.txt\n",
            "10  13\t16  19\t21  24\t27  3\t32  35\t38  41\t44  5\t8\n",
            "11  14\t17  2\t22  25\t28  30\t33  36\t39  42\t45  6\t9\n"
          ]
        }
      ]
    },
    {
      "cell_type": "code",
      "source": [
        "!ls {iris_amf}"
      ],
      "metadata": {
        "colab": {
          "base_uri": "https://localhost:8080/"
        },
        "id": "dralk9AFdQpU",
        "outputId": "c9ca8738-b877-46c7-c460-4a66bcfe90f5"
      },
      "execution_count": null,
      "outputs": [
        {
          "output_type": "stream",
          "name": "stdout",
          "text": [
            "aadil  ameer   ayad    elaf   israa    mahmood\tomar   saldar\twisam\n",
            "abas   ameina  azam    fars   kamal    maria\trafa   sirag\tyaseen\n",
            "abeer  anas    aziz    fuaad  kareem   marwan\trasha  sundos\tzafer\n",
            "adnan  arwa    basam   ghazi  khaleel  mazin\tsaad   tabarak\tzahraa\n",
            "ahmed  asmaa   baydaa  hamza  khalid   mohamad\tsaadi  taha\tzaid\n",
            "ali    assem   daood   huda   loai     muhand\tsalam  wathah\tzakaria\n"
          ]
        }
      ]
    },
    {
      "cell_type": "markdown",
      "source": [
        "<H3>MMU"
      ],
      "metadata": {
        "id": "JtY-VskldSw4"
      }
    },
    {
      "cell_type": "code",
      "source": [
        "from os import walk\n",
        "\n",
        "labels_mmu = []\n",
        "print(iris_mmu)\n",
        "for (dirpath, dirnames, filenames) in walk(iris_mmu):\n",
        "  print(dirnames)\n",
        "  labels_mmu.extend(dirnames)\n",
        "  break\n",
        "\n",
        "mmulabels=[i for i in range(len(labels_mmu))]   \n",
        "print(labels_mmu)\n",
        "print(mmulabels)"
      ],
      "metadata": {
        "colab": {
          "base_uri": "https://localhost:8080/"
        },
        "id": "j_IizYlfN9F7",
        "outputId": "b322e2ce-29ec-424c-e7be-b03594055568"
      },
      "execution_count": null,
      "outputs": [
        {
          "output_type": "stream",
          "name": "stdout",
          "text": [
            "/content/drive/MyDrive/iris/MMU-Iris-Database\n",
            "['1', '10', '11', '12', '13', '14', '15', '16', '17', '18', '19', '2', '20', '21', '22', '23', '24', '25', '26', '27', '28', '29', '3', '30', '31', '32', '33', '34', '35', '36', '37', '38', '39', '40', '41', '42', '43', '44', '45', '46', '5', '6', '7', '8', '9']\n",
            "['1', '10', '11', '12', '13', '14', '15', '16', '17', '18', '19', '2', '20', '21', '22', '23', '24', '25', '26', '27', '28', '29', '3', '30', '31', '32', '33', '34', '35', '36', '37', '38', '39', '40', '41', '42', '43', '44', '45', '46', '5', '6', '7', '8', '9']\n",
            "[0, 1, 2, 3, 4, 5, 6, 7, 8, 9, 10, 11, 12, 13, 14, 15, 16, 17, 18, 19, 20, 21, 22, 23, 24, 25, 26, 27, 28, 29, 30, 31, 32, 33, 34, 35, 36, 37, 38, 39, 40, 41, 42, 43, 44]\n"
          ]
        }
      ]
    },
    {
      "cell_type": "code",
      "source": [
        "from os import walk\n",
        "\n",
        "labels_amf = []\n",
        "print(iris_amf)\n",
        "for (dirpath, dirnames, filenames) in walk(iris_amf):\n",
        "  print(dirnames)\n",
        "  labels_amf.extend(dirnames)\n",
        "  break\n",
        "print(labels_amf)\n",
        "amflabels=[i for i in range(len(labels_amf))]    "
      ],
      "metadata": {
        "id": "hTK9KzNWdGni"
      },
      "execution_count": null,
      "outputs": []
    },
    {
      "cell_type": "code",
      "source": [
        "from os import walk\n",
        "import pandas as pd\n",
        " \n",
        "# Create a sample DataFrame\n",
        "data = {'label': [],\n",
        "        'src_file': [],\n",
        "        'split': [],\n",
        "        'is_query': [],        \n",
        "        'is_gallery': [],\n",
        "        'eye': [],\n",
        "        'ds': [],\n",
        "        'path': []\n",
        "        }\n",
        "df_mmu = pd.DataFrame(data)\n",
        " \n",
        "\n",
        "\n",
        "is_query=1\n",
        "is_gallery=0.0\n",
        "for mmu_lab,label in zip(labels_mmu, mmulabels):\n",
        "  lr='L'\n",
        "  path=iris_mmu+'/'+mmu_lab+'/left'\n",
        "  for (dirpath, dirnames, filenames) in walk(path):\n",
        "    for filename in (filenames):\n",
        "      fpath=root_iris_mmu+'/'+mmu_lab+'/left/'+filename\n",
        "      fn,ext = filename.split('.')\n",
        "      print(fn,ext)\n",
        "      if ext!='bmp':\n",
        "        break\n",
        "\n",
        "      if (is_query==1.0):\n",
        "         is_query=0.0\n",
        "         is_gallery=1.0\n",
        "      else:\n",
        "         is_query=1.0\n",
        "         is_gallery=0.0 \n",
        "\n",
        "\n",
        "      new_row = {'label': label, \n",
        "             'src_file': filename, \n",
        "             'split': 'validation',\n",
        "             'is_query': is_query, \n",
        "             'is_gallery': is_gallery,\n",
        "             'eye': lr,\n",
        "             'ds': 'mmu',\n",
        "             'path': fpath\n",
        "             }\n",
        "\n",
        "      df_mmu.loc[len(df_mmu)] = new_row           \n",
        "  "
      ],
      "metadata": {
        "id": "Ojg53UpQO1qG"
      },
      "execution_count": null,
      "outputs": []
    },
    {
      "cell_type": "code",
      "source": [
        "is_query=1\n",
        "is_gallery=0.0\n",
        "for mmu_lab,label in zip(labels_mmu, mmulabels):\n",
        "  lr='R'\n",
        "  path=iris_mmu+'/'+mmu_lab+'/right'\n",
        "  for (dirpath, dirnames, filenames) in walk(path):\n",
        "    for filename in (filenames):\n",
        "      fpath=root_iris_mmu+'/'+mmu_lab+'/right/'+filename\n",
        "      fn,ext = filename.split('.')\n",
        "      print(fn,ext)\n",
        "      if ext!='bmp':\n",
        "        break\n",
        "\n",
        "      if (is_query==1.0):\n",
        "         is_query=0.0\n",
        "         is_gallery=1.0\n",
        "      else:\n",
        "         is_query=1.0\n",
        "         is_gallery=0.0 \n",
        "\n",
        "\n",
        "      new_row = {'label': label, \n",
        "             'src_file': filename, \n",
        "             'split': 'validation',\n",
        "             'is_query': is_query, \n",
        "             'is_gallery': is_gallery,\n",
        "             'eye': lr,\n",
        "             'ds': 'mmu',\n",
        "             'path': fpath\n",
        "             }\n",
        "\n",
        "      df_mmu.loc[len(df_mmu)] = new_row     "
      ],
      "metadata": {
        "id": "bumgqtbZRVWx"
      },
      "execution_count": null,
      "outputs": []
    },
    {
      "cell_type": "code",
      "source": [
        "df_mmu.sort_values(by=['eye','label'], inplace=True)"
      ],
      "metadata": {
        "id": "CQX8D8nlRB-D"
      },
      "execution_count": null,
      "outputs": []
    },
    {
      "cell_type": "code",
      "source": [
        "df_mmu.to_csv(iris_mmu_csv,index=False)"
      ],
      "metadata": {
        "id": "X5DwwjhiRCA6"
      },
      "execution_count": null,
      "outputs": []
    },
    {
      "cell_type": "code",
      "source": [
        "df_mmu"
      ],
      "metadata": {
        "colab": {
          "base_uri": "https://localhost:8080/",
          "height": 423
        },
        "id": "B4fLuC5aRCDx",
        "outputId": "a78ba850-7123-4836-b5b1-2182250781af"
      },
      "execution_count": null,
      "outputs": [
        {
          "output_type": "execute_result",
          "data": {
            "text/plain": [
              "     label     src_file       split  is_query  is_gallery eye   ds  \\\n",
              "0        1  fional3.bmp  validation       0.0         1.0   L  mmu   \n",
              "1        1  fional2.bmp  validation       1.0         0.0   L  mmu   \n",
              "2        1  fional5.bmp  validation       0.0         1.0   L  mmu   \n",
              "3        2   hockl2.bmp  validation       1.0         0.0   L  mmu   \n",
              "4        2   hockl5.bmp  validation       0.0         1.0   L  mmu   \n",
              "..     ...          ...         ...       ...         ...  ..  ...   \n",
              "423     44  fatmar3.bmp  validation       1.0         0.0   R  mmu   \n",
              "424     44  fatmar1.bmp  validation       0.0         1.0   R  mmu   \n",
              "425     44  fatmar4.bmp  validation       1.0         0.0   R  mmu   \n",
              "426     44  fatmar2.bmp  validation       0.0         1.0   R  mmu   \n",
              "427     44  fatmar5.bmp  validation       1.0         0.0   R  mmu   \n",
              "\n",
              "                                      path  \n",
              "0    MMU-Iris-Database/10/left/fional3.bmp  \n",
              "1    MMU-Iris-Database/10/left/fional2.bmp  \n",
              "2    MMU-Iris-Database/10/left/fional5.bmp  \n",
              "3     MMU-Iris-Database/11/left/hockl2.bmp  \n",
              "4     MMU-Iris-Database/11/left/hockl5.bmp  \n",
              "..                                     ...  \n",
              "423  MMU-Iris-Database/9/right/fatmar3.bmp  \n",
              "424  MMU-Iris-Database/9/right/fatmar1.bmp  \n",
              "425  MMU-Iris-Database/9/right/fatmar4.bmp  \n",
              "426  MMU-Iris-Database/9/right/fatmar2.bmp  \n",
              "427  MMU-Iris-Database/9/right/fatmar5.bmp  \n",
              "\n",
              "[428 rows x 8 columns]"
            ],
            "text/html": [
              "\n",
              "  <div id=\"df-6b6326fa-f162-46db-b2a4-8f50fdb520f0\">\n",
              "    <div class=\"colab-df-container\">\n",
              "      <div>\n",
              "<style scoped>\n",
              "    .dataframe tbody tr th:only-of-type {\n",
              "        vertical-align: middle;\n",
              "    }\n",
              "\n",
              "    .dataframe tbody tr th {\n",
              "        vertical-align: top;\n",
              "    }\n",
              "\n",
              "    .dataframe thead th {\n",
              "        text-align: right;\n",
              "    }\n",
              "</style>\n",
              "<table border=\"1\" class=\"dataframe\">\n",
              "  <thead>\n",
              "    <tr style=\"text-align: right;\">\n",
              "      <th></th>\n",
              "      <th>label</th>\n",
              "      <th>src_file</th>\n",
              "      <th>split</th>\n",
              "      <th>is_query</th>\n",
              "      <th>is_gallery</th>\n",
              "      <th>eye</th>\n",
              "      <th>ds</th>\n",
              "      <th>path</th>\n",
              "    </tr>\n",
              "  </thead>\n",
              "  <tbody>\n",
              "    <tr>\n",
              "      <th>0</th>\n",
              "      <td>1</td>\n",
              "      <td>fional3.bmp</td>\n",
              "      <td>validation</td>\n",
              "      <td>0.0</td>\n",
              "      <td>1.0</td>\n",
              "      <td>L</td>\n",
              "      <td>mmu</td>\n",
              "      <td>MMU-Iris-Database/10/left/fional3.bmp</td>\n",
              "    </tr>\n",
              "    <tr>\n",
              "      <th>1</th>\n",
              "      <td>1</td>\n",
              "      <td>fional2.bmp</td>\n",
              "      <td>validation</td>\n",
              "      <td>1.0</td>\n",
              "      <td>0.0</td>\n",
              "      <td>L</td>\n",
              "      <td>mmu</td>\n",
              "      <td>MMU-Iris-Database/10/left/fional2.bmp</td>\n",
              "    </tr>\n",
              "    <tr>\n",
              "      <th>2</th>\n",
              "      <td>1</td>\n",
              "      <td>fional5.bmp</td>\n",
              "      <td>validation</td>\n",
              "      <td>0.0</td>\n",
              "      <td>1.0</td>\n",
              "      <td>L</td>\n",
              "      <td>mmu</td>\n",
              "      <td>MMU-Iris-Database/10/left/fional5.bmp</td>\n",
              "    </tr>\n",
              "    <tr>\n",
              "      <th>3</th>\n",
              "      <td>2</td>\n",
              "      <td>hockl2.bmp</td>\n",
              "      <td>validation</td>\n",
              "      <td>1.0</td>\n",
              "      <td>0.0</td>\n",
              "      <td>L</td>\n",
              "      <td>mmu</td>\n",
              "      <td>MMU-Iris-Database/11/left/hockl2.bmp</td>\n",
              "    </tr>\n",
              "    <tr>\n",
              "      <th>4</th>\n",
              "      <td>2</td>\n",
              "      <td>hockl5.bmp</td>\n",
              "      <td>validation</td>\n",
              "      <td>0.0</td>\n",
              "      <td>1.0</td>\n",
              "      <td>L</td>\n",
              "      <td>mmu</td>\n",
              "      <td>MMU-Iris-Database/11/left/hockl5.bmp</td>\n",
              "    </tr>\n",
              "    <tr>\n",
              "      <th>...</th>\n",
              "      <td>...</td>\n",
              "      <td>...</td>\n",
              "      <td>...</td>\n",
              "      <td>...</td>\n",
              "      <td>...</td>\n",
              "      <td>...</td>\n",
              "      <td>...</td>\n",
              "      <td>...</td>\n",
              "    </tr>\n",
              "    <tr>\n",
              "      <th>423</th>\n",
              "      <td>44</td>\n",
              "      <td>fatmar3.bmp</td>\n",
              "      <td>validation</td>\n",
              "      <td>1.0</td>\n",
              "      <td>0.0</td>\n",
              "      <td>R</td>\n",
              "      <td>mmu</td>\n",
              "      <td>MMU-Iris-Database/9/right/fatmar3.bmp</td>\n",
              "    </tr>\n",
              "    <tr>\n",
              "      <th>424</th>\n",
              "      <td>44</td>\n",
              "      <td>fatmar1.bmp</td>\n",
              "      <td>validation</td>\n",
              "      <td>0.0</td>\n",
              "      <td>1.0</td>\n",
              "      <td>R</td>\n",
              "      <td>mmu</td>\n",
              "      <td>MMU-Iris-Database/9/right/fatmar1.bmp</td>\n",
              "    </tr>\n",
              "    <tr>\n",
              "      <th>425</th>\n",
              "      <td>44</td>\n",
              "      <td>fatmar4.bmp</td>\n",
              "      <td>validation</td>\n",
              "      <td>1.0</td>\n",
              "      <td>0.0</td>\n",
              "      <td>R</td>\n",
              "      <td>mmu</td>\n",
              "      <td>MMU-Iris-Database/9/right/fatmar4.bmp</td>\n",
              "    </tr>\n",
              "    <tr>\n",
              "      <th>426</th>\n",
              "      <td>44</td>\n",
              "      <td>fatmar2.bmp</td>\n",
              "      <td>validation</td>\n",
              "      <td>0.0</td>\n",
              "      <td>1.0</td>\n",
              "      <td>R</td>\n",
              "      <td>mmu</td>\n",
              "      <td>MMU-Iris-Database/9/right/fatmar2.bmp</td>\n",
              "    </tr>\n",
              "    <tr>\n",
              "      <th>427</th>\n",
              "      <td>44</td>\n",
              "      <td>fatmar5.bmp</td>\n",
              "      <td>validation</td>\n",
              "      <td>1.0</td>\n",
              "      <td>0.0</td>\n",
              "      <td>R</td>\n",
              "      <td>mmu</td>\n",
              "      <td>MMU-Iris-Database/9/right/fatmar5.bmp</td>\n",
              "    </tr>\n",
              "  </tbody>\n",
              "</table>\n",
              "<p>428 rows × 8 columns</p>\n",
              "</div>\n",
              "      <button class=\"colab-df-convert\" onclick=\"convertToInteractive('df-6b6326fa-f162-46db-b2a4-8f50fdb520f0')\"\n",
              "              title=\"Convert this dataframe to an interactive table.\"\n",
              "              style=\"display:none;\">\n",
              "        \n",
              "  <svg xmlns=\"http://www.w3.org/2000/svg\" height=\"24px\"viewBox=\"0 0 24 24\"\n",
              "       width=\"24px\">\n",
              "    <path d=\"M0 0h24v24H0V0z\" fill=\"none\"/>\n",
              "    <path d=\"M18.56 5.44l.94 2.06.94-2.06 2.06-.94-2.06-.94-.94-2.06-.94 2.06-2.06.94zm-11 1L8.5 8.5l.94-2.06 2.06-.94-2.06-.94L8.5 2.5l-.94 2.06-2.06.94zm10 10l.94 2.06.94-2.06 2.06-.94-2.06-.94-.94-2.06-.94 2.06-2.06.94z\"/><path d=\"M17.41 7.96l-1.37-1.37c-.4-.4-.92-.59-1.43-.59-.52 0-1.04.2-1.43.59L10.3 9.45l-7.72 7.72c-.78.78-.78 2.05 0 2.83L4 21.41c.39.39.9.59 1.41.59.51 0 1.02-.2 1.41-.59l7.78-7.78 2.81-2.81c.8-.78.8-2.07 0-2.86zM5.41 20L4 18.59l7.72-7.72 1.47 1.35L5.41 20z\"/>\n",
              "  </svg>\n",
              "      </button>\n",
              "      \n",
              "  <style>\n",
              "    .colab-df-container {\n",
              "      display:flex;\n",
              "      flex-wrap:wrap;\n",
              "      gap: 12px;\n",
              "    }\n",
              "\n",
              "    .colab-df-convert {\n",
              "      background-color: #E8F0FE;\n",
              "      border: none;\n",
              "      border-radius: 50%;\n",
              "      cursor: pointer;\n",
              "      display: none;\n",
              "      fill: #1967D2;\n",
              "      height: 32px;\n",
              "      padding: 0 0 0 0;\n",
              "      width: 32px;\n",
              "    }\n",
              "\n",
              "    .colab-df-convert:hover {\n",
              "      background-color: #E2EBFA;\n",
              "      box-shadow: 0px 1px 2px rgba(60, 64, 67, 0.3), 0px 1px 3px 1px rgba(60, 64, 67, 0.15);\n",
              "      fill: #174EA6;\n",
              "    }\n",
              "\n",
              "    [theme=dark] .colab-df-convert {\n",
              "      background-color: #3B4455;\n",
              "      fill: #D2E3FC;\n",
              "    }\n",
              "\n",
              "    [theme=dark] .colab-df-convert:hover {\n",
              "      background-color: #434B5C;\n",
              "      box-shadow: 0px 1px 3px 1px rgba(0, 0, 0, 0.15);\n",
              "      filter: drop-shadow(0px 1px 2px rgba(0, 0, 0, 0.3));\n",
              "      fill: #FFFFFF;\n",
              "    }\n",
              "  </style>\n",
              "\n",
              "      <script>\n",
              "        const buttonEl =\n",
              "          document.querySelector('#df-6b6326fa-f162-46db-b2a4-8f50fdb520f0 button.colab-df-convert');\n",
              "        buttonEl.style.display =\n",
              "          google.colab.kernel.accessAllowed ? 'block' : 'none';\n",
              "\n",
              "        async function convertToInteractive(key) {\n",
              "          const element = document.querySelector('#df-6b6326fa-f162-46db-b2a4-8f50fdb520f0');\n",
              "          const dataTable =\n",
              "            await google.colab.kernel.invokeFunction('convertToInteractive',\n",
              "                                                     [key], {});\n",
              "          if (!dataTable) return;\n",
              "\n",
              "          const docLinkHtml = 'Like what you see? Visit the ' +\n",
              "            '<a target=\"_blank\" href=https://colab.research.google.com/notebooks/data_table.ipynb>data table notebook</a>'\n",
              "            + ' to learn more about interactive tables.';\n",
              "          element.innerHTML = '';\n",
              "          dataTable['output_type'] = 'display_data';\n",
              "          await google.colab.output.renderOutput(dataTable, element);\n",
              "          const docLink = document.createElement('div');\n",
              "          docLink.innerHTML = docLinkHtml;\n",
              "          element.appendChild(docLink);\n",
              "        }\n",
              "      </script>\n",
              "    </div>\n",
              "  </div>\n",
              "  "
            ]
          },
          "metadata": {},
          "execution_count": 246
        }
      ]
    },
    {
      "cell_type": "markdown",
      "source": [
        "<h3>AMF"
      ],
      "metadata": {
        "id": "89XkxymhdnhX"
      }
    },
    {
      "cell_type": "code",
      "source": [
        "from os import walk\n",
        "import pandas as pd\n",
        " \n",
        "# Create a sample DataFrame\n",
        "data = {'label': [],\n",
        "        'src_file': [],\n",
        "        'split': [],\n",
        "        'is_query': [],        \n",
        "        'is_gallery': [],\n",
        "        'eye': [],\n",
        "        'ds': [],\n",
        "        'path': []\n",
        "        }\n",
        "df_amf = pd.DataFrame(data)\n",
        " \n",
        "\n",
        "\n",
        "is_query=1\n",
        "is_gallery=0.0\n",
        "for amf_lab,label in zip(labels_amf, amflabels):\n",
        "  path=iris_amf+'/'+amf_lab\n",
        "  for (dirpath, dirnames, filenames) in walk(path):\n",
        "    for filename in (filenames):\n",
        "      fpath=root_iris_amf+'/'+amf_lab+'/'+filename\n",
        "      fn,ext = filename.split('.')\n",
        "      print(fn,ext)\n",
        "      if ext!='bmp':\n",
        "        next\n",
        "        try:\n",
        "          iris, fdate, ftime, lr = fn.split('_')\n",
        "        except:\n",
        "          iris, fdate, ftime, lr, _ = fn.split('_')   \n",
        "      if (lr=='Left'):\n",
        "        lr='L'\n",
        "      else:\n",
        "        lr='R'\n",
        "\n",
        "      if (is_query==1.0):\n",
        "         is_query=0.0\n",
        "         is_gallery=1.0\n",
        "      else:\n",
        "         is_query=1.0\n",
        "         is_gallery=0.0 \n",
        "\n",
        "\n",
        "      new_row = {'label': label, \n",
        "             'src_file': filename, \n",
        "             'split': 'validation',\n",
        "             'is_query': is_query, \n",
        "             'is_gallery': is_gallery,\n",
        "             'eye': lr,\n",
        "             'ds': 'amf',\n",
        "             'path': fpath\n",
        "             }\n",
        "\n",
        "      df_amf.loc[len(df_amf)] = new_row           \n",
        "  \n"
      ],
      "metadata": {
        "id": "FZ7-w9H3WGla"
      },
      "execution_count": null,
      "outputs": []
    },
    {
      "cell_type": "code",
      "source": [
        "df_amf.sort_values(by=['eye','label'], inplace=True)\n",
        "\n"
      ],
      "metadata": {
        "id": "YFSLEZxWWGpJ"
      },
      "execution_count": null,
      "outputs": []
    },
    {
      "cell_type": "code",
      "source": [
        "df_amf.to_csv(iris_amf_csv,index=False)"
      ],
      "metadata": {
        "id": "AMVX7hspkZX1"
      },
      "execution_count": null,
      "outputs": []
    },
    {
      "cell_type": "code",
      "source": [
        "df_amf"
      ],
      "metadata": {
        "colab": {
          "base_uri": "https://localhost:8080/",
          "height": 423
        },
        "id": "0iJJSxKbWGsM",
        "outputId": "2ebc3c79-781c-47a6-d59d-b592daac6054"
      },
      "execution_count": null,
      "outputs": [
        {
          "output_type": "execute_result",
          "data": {
            "text/plain": [
              "     label                        src_file       split  is_query  is_gallery  \\\n",
              "0        0  Iris_20220818_122818_Right.bmp  validation       0.0         1.0   \n",
              "1        0   Iris_20220818_122827_Left.bmp  validation       1.0         0.0   \n",
              "2        0  Iris_20220818_122821_Right.bmp  validation       0.0         1.0   \n",
              "3        0  Iris_20220818_122825_Right.bmp  validation       1.0         0.0   \n",
              "4        0   Iris_20220818_122825_Left.bmp  validation       0.0         1.0   \n",
              "..     ...                             ...         ...       ...         ...   \n",
              "535     53  Iris_20220818_122409_Right.bmp  validation       1.0         0.0   \n",
              "536     53  Iris_20220818_122413_Right.bmp  validation       0.0         1.0   \n",
              "537     53   Iris_20220818_122416_Left.bmp  validation       1.0         0.0   \n",
              "538     53  Iris_20220818_122416_Right.bmp  validation       0.0         1.0   \n",
              "539     53   Iris_20220818_122420_Left.bmp  validation       1.0         0.0   \n",
              "\n",
              "    eye   ds                                               path  \n",
              "0     R  amf  AMF_Iris_Dataset/aadil/Iris_20220818_122818_Ri...  \n",
              "1     R  amf  AMF_Iris_Dataset/aadil/Iris_20220818_122827_Le...  \n",
              "2     R  amf  AMF_Iris_Dataset/aadil/Iris_20220818_122821_Ri...  \n",
              "3     R  amf  AMF_Iris_Dataset/aadil/Iris_20220818_122825_Ri...  \n",
              "4     R  amf  AMF_Iris_Dataset/aadil/Iris_20220818_122825_Le...  \n",
              "..   ..  ...                                                ...  \n",
              "535   R  amf  AMF_Iris_Dataset/zakaria/Iris_20220818_122409_...  \n",
              "536   R  amf  AMF_Iris_Dataset/zakaria/Iris_20220818_122413_...  \n",
              "537   R  amf  AMF_Iris_Dataset/zakaria/Iris_20220818_122416_...  \n",
              "538   R  amf  AMF_Iris_Dataset/zakaria/Iris_20220818_122416_...  \n",
              "539   R  amf  AMF_Iris_Dataset/zakaria/Iris_20220818_122420_...  \n",
              "\n",
              "[540 rows x 8 columns]"
            ],
            "text/html": [
              "\n",
              "  <div id=\"df-048a96ed-2ce2-44de-9c52-cb4620001afe\">\n",
              "    <div class=\"colab-df-container\">\n",
              "      <div>\n",
              "<style scoped>\n",
              "    .dataframe tbody tr th:only-of-type {\n",
              "        vertical-align: middle;\n",
              "    }\n",
              "\n",
              "    .dataframe tbody tr th {\n",
              "        vertical-align: top;\n",
              "    }\n",
              "\n",
              "    .dataframe thead th {\n",
              "        text-align: right;\n",
              "    }\n",
              "</style>\n",
              "<table border=\"1\" class=\"dataframe\">\n",
              "  <thead>\n",
              "    <tr style=\"text-align: right;\">\n",
              "      <th></th>\n",
              "      <th>label</th>\n",
              "      <th>src_file</th>\n",
              "      <th>split</th>\n",
              "      <th>is_query</th>\n",
              "      <th>is_gallery</th>\n",
              "      <th>eye</th>\n",
              "      <th>ds</th>\n",
              "      <th>path</th>\n",
              "    </tr>\n",
              "  </thead>\n",
              "  <tbody>\n",
              "    <tr>\n",
              "      <th>0</th>\n",
              "      <td>0</td>\n",
              "      <td>Iris_20220818_122818_Right.bmp</td>\n",
              "      <td>validation</td>\n",
              "      <td>0.0</td>\n",
              "      <td>1.0</td>\n",
              "      <td>R</td>\n",
              "      <td>amf</td>\n",
              "      <td>AMF_Iris_Dataset/aadil/Iris_20220818_122818_Ri...</td>\n",
              "    </tr>\n",
              "    <tr>\n",
              "      <th>1</th>\n",
              "      <td>0</td>\n",
              "      <td>Iris_20220818_122827_Left.bmp</td>\n",
              "      <td>validation</td>\n",
              "      <td>1.0</td>\n",
              "      <td>0.0</td>\n",
              "      <td>R</td>\n",
              "      <td>amf</td>\n",
              "      <td>AMF_Iris_Dataset/aadil/Iris_20220818_122827_Le...</td>\n",
              "    </tr>\n",
              "    <tr>\n",
              "      <th>2</th>\n",
              "      <td>0</td>\n",
              "      <td>Iris_20220818_122821_Right.bmp</td>\n",
              "      <td>validation</td>\n",
              "      <td>0.0</td>\n",
              "      <td>1.0</td>\n",
              "      <td>R</td>\n",
              "      <td>amf</td>\n",
              "      <td>AMF_Iris_Dataset/aadil/Iris_20220818_122821_Ri...</td>\n",
              "    </tr>\n",
              "    <tr>\n",
              "      <th>3</th>\n",
              "      <td>0</td>\n",
              "      <td>Iris_20220818_122825_Right.bmp</td>\n",
              "      <td>validation</td>\n",
              "      <td>1.0</td>\n",
              "      <td>0.0</td>\n",
              "      <td>R</td>\n",
              "      <td>amf</td>\n",
              "      <td>AMF_Iris_Dataset/aadil/Iris_20220818_122825_Ri...</td>\n",
              "    </tr>\n",
              "    <tr>\n",
              "      <th>4</th>\n",
              "      <td>0</td>\n",
              "      <td>Iris_20220818_122825_Left.bmp</td>\n",
              "      <td>validation</td>\n",
              "      <td>0.0</td>\n",
              "      <td>1.0</td>\n",
              "      <td>R</td>\n",
              "      <td>amf</td>\n",
              "      <td>AMF_Iris_Dataset/aadil/Iris_20220818_122825_Le...</td>\n",
              "    </tr>\n",
              "    <tr>\n",
              "      <th>...</th>\n",
              "      <td>...</td>\n",
              "      <td>...</td>\n",
              "      <td>...</td>\n",
              "      <td>...</td>\n",
              "      <td>...</td>\n",
              "      <td>...</td>\n",
              "      <td>...</td>\n",
              "      <td>...</td>\n",
              "    </tr>\n",
              "    <tr>\n",
              "      <th>535</th>\n",
              "      <td>53</td>\n",
              "      <td>Iris_20220818_122409_Right.bmp</td>\n",
              "      <td>validation</td>\n",
              "      <td>1.0</td>\n",
              "      <td>0.0</td>\n",
              "      <td>R</td>\n",
              "      <td>amf</td>\n",
              "      <td>AMF_Iris_Dataset/zakaria/Iris_20220818_122409_...</td>\n",
              "    </tr>\n",
              "    <tr>\n",
              "      <th>536</th>\n",
              "      <td>53</td>\n",
              "      <td>Iris_20220818_122413_Right.bmp</td>\n",
              "      <td>validation</td>\n",
              "      <td>0.0</td>\n",
              "      <td>1.0</td>\n",
              "      <td>R</td>\n",
              "      <td>amf</td>\n",
              "      <td>AMF_Iris_Dataset/zakaria/Iris_20220818_122413_...</td>\n",
              "    </tr>\n",
              "    <tr>\n",
              "      <th>537</th>\n",
              "      <td>53</td>\n",
              "      <td>Iris_20220818_122416_Left.bmp</td>\n",
              "      <td>validation</td>\n",
              "      <td>1.0</td>\n",
              "      <td>0.0</td>\n",
              "      <td>R</td>\n",
              "      <td>amf</td>\n",
              "      <td>AMF_Iris_Dataset/zakaria/Iris_20220818_122416_...</td>\n",
              "    </tr>\n",
              "    <tr>\n",
              "      <th>538</th>\n",
              "      <td>53</td>\n",
              "      <td>Iris_20220818_122416_Right.bmp</td>\n",
              "      <td>validation</td>\n",
              "      <td>0.0</td>\n",
              "      <td>1.0</td>\n",
              "      <td>R</td>\n",
              "      <td>amf</td>\n",
              "      <td>AMF_Iris_Dataset/zakaria/Iris_20220818_122416_...</td>\n",
              "    </tr>\n",
              "    <tr>\n",
              "      <th>539</th>\n",
              "      <td>53</td>\n",
              "      <td>Iris_20220818_122420_Left.bmp</td>\n",
              "      <td>validation</td>\n",
              "      <td>1.0</td>\n",
              "      <td>0.0</td>\n",
              "      <td>R</td>\n",
              "      <td>amf</td>\n",
              "      <td>AMF_Iris_Dataset/zakaria/Iris_20220818_122420_...</td>\n",
              "    </tr>\n",
              "  </tbody>\n",
              "</table>\n",
              "<p>540 rows × 8 columns</p>\n",
              "</div>\n",
              "      <button class=\"colab-df-convert\" onclick=\"convertToInteractive('df-048a96ed-2ce2-44de-9c52-cb4620001afe')\"\n",
              "              title=\"Convert this dataframe to an interactive table.\"\n",
              "              style=\"display:none;\">\n",
              "        \n",
              "  <svg xmlns=\"http://www.w3.org/2000/svg\" height=\"24px\"viewBox=\"0 0 24 24\"\n",
              "       width=\"24px\">\n",
              "    <path d=\"M0 0h24v24H0V0z\" fill=\"none\"/>\n",
              "    <path d=\"M18.56 5.44l.94 2.06.94-2.06 2.06-.94-2.06-.94-.94-2.06-.94 2.06-2.06.94zm-11 1L8.5 8.5l.94-2.06 2.06-.94-2.06-.94L8.5 2.5l-.94 2.06-2.06.94zm10 10l.94 2.06.94-2.06 2.06-.94-2.06-.94-.94-2.06-.94 2.06-2.06.94z\"/><path d=\"M17.41 7.96l-1.37-1.37c-.4-.4-.92-.59-1.43-.59-.52 0-1.04.2-1.43.59L10.3 9.45l-7.72 7.72c-.78.78-.78 2.05 0 2.83L4 21.41c.39.39.9.59 1.41.59.51 0 1.02-.2 1.41-.59l7.78-7.78 2.81-2.81c.8-.78.8-2.07 0-2.86zM5.41 20L4 18.59l7.72-7.72 1.47 1.35L5.41 20z\"/>\n",
              "  </svg>\n",
              "      </button>\n",
              "      \n",
              "  <style>\n",
              "    .colab-df-container {\n",
              "      display:flex;\n",
              "      flex-wrap:wrap;\n",
              "      gap: 12px;\n",
              "    }\n",
              "\n",
              "    .colab-df-convert {\n",
              "      background-color: #E8F0FE;\n",
              "      border: none;\n",
              "      border-radius: 50%;\n",
              "      cursor: pointer;\n",
              "      display: none;\n",
              "      fill: #1967D2;\n",
              "      height: 32px;\n",
              "      padding: 0 0 0 0;\n",
              "      width: 32px;\n",
              "    }\n",
              "\n",
              "    .colab-df-convert:hover {\n",
              "      background-color: #E2EBFA;\n",
              "      box-shadow: 0px 1px 2px rgba(60, 64, 67, 0.3), 0px 1px 3px 1px rgba(60, 64, 67, 0.15);\n",
              "      fill: #174EA6;\n",
              "    }\n",
              "\n",
              "    [theme=dark] .colab-df-convert {\n",
              "      background-color: #3B4455;\n",
              "      fill: #D2E3FC;\n",
              "    }\n",
              "\n",
              "    [theme=dark] .colab-df-convert:hover {\n",
              "      background-color: #434B5C;\n",
              "      box-shadow: 0px 1px 3px 1px rgba(0, 0, 0, 0.15);\n",
              "      filter: drop-shadow(0px 1px 2px rgba(0, 0, 0, 0.3));\n",
              "      fill: #FFFFFF;\n",
              "    }\n",
              "  </style>\n",
              "\n",
              "      <script>\n",
              "        const buttonEl =\n",
              "          document.querySelector('#df-048a96ed-2ce2-44de-9c52-cb4620001afe button.colab-df-convert');\n",
              "        buttonEl.style.display =\n",
              "          google.colab.kernel.accessAllowed ? 'block' : 'none';\n",
              "\n",
              "        async function convertToInteractive(key) {\n",
              "          const element = document.querySelector('#df-048a96ed-2ce2-44de-9c52-cb4620001afe');\n",
              "          const dataTable =\n",
              "            await google.colab.kernel.invokeFunction('convertToInteractive',\n",
              "                                                     [key], {});\n",
              "          if (!dataTable) return;\n",
              "\n",
              "          const docLinkHtml = 'Like what you see? Visit the ' +\n",
              "            '<a target=\"_blank\" href=https://colab.research.google.com/notebooks/data_table.ipynb>data table notebook</a>'\n",
              "            + ' to learn more about interactive tables.';\n",
              "          element.innerHTML = '';\n",
              "          dataTable['output_type'] = 'display_data';\n",
              "          await google.colab.output.renderOutput(dataTable, element);\n",
              "          const docLink = document.createElement('div');\n",
              "          docLink.innerHTML = docLinkHtml;\n",
              "          element.appendChild(docLink);\n",
              "        }\n",
              "      </script>\n",
              "    </div>\n",
              "  </div>\n",
              "  "
            ]
          },
          "metadata": {},
          "execution_count": 73
        }
      ]
    },
    {
      "cell_type": "code",
      "source": [],
      "metadata": {
        "id": "akNw7WtvWGyB"
      },
      "execution_count": null,
      "outputs": []
    },
    {
      "cell_type": "markdown",
      "source": [
        "<H3> Iris_id dataset"
      ],
      "metadata": {
        "id": "Xnost1N3omR5"
      }
    },
    {
      "cell_type": "code",
      "execution_count": null,
      "metadata": {
        "id": "GyscL0fkJOCr"
      },
      "outputs": [],
      "source": [
        "iris_dataset_path='/content/drive/MyDrive/iris/iris_dataset'"
      ]
    },
    {
      "cell_type": "code",
      "source": [
        "#columns=['label','path','split','is_query', 'is_gallery','category','x_1','x_2','y_1','y_2']"
      ],
      "metadata": {
        "id": "1e8jgLbaJ3Zp"
      },
      "execution_count": null,
      "outputs": []
    },
    {
      "cell_type": "code",
      "source": [
        "#csvpath=\"/content/drive/MyDrive/iris/iris_id.cs\n",
        "csvpath=\"/content/drive/MyDrive/iris/df_iris_dataset_LR.csv\"\n",
        "iris_dataset_csvpath = csvpath\n",
        "\n"
      ],
      "metadata": {
        "id": "9KmKA52POHyf"
      },
      "execution_count": null,
      "outputs": []
    },
    {
      "cell_type": "markdown",
      "source": [
        "RE for iris_rf "
      ],
      "metadata": {
        "id": "9U-5D64V3fie"
      }
    },
    {
      "cell_type": "code",
      "source": [
        "# import iris_id dataset\n",
        "import os\n",
        "\n",
        "# folder path\n",
        "#dir_path = iris_id_path\n",
        "dir_path=iris_dataset_path\n",
        "print(dir_path)\n",
        "\n",
        "# list to store files\n",
        "res = []\n",
        "\n",
        "# Iterate directory\n",
        "for path in os.listdir(dir_path):\n",
        "    # check if current path is a file\n",
        "    if os.path.isfile(os.path.join(dir_path, path)):\n",
        "        res.append(path)\n",
        "\n",
        "###############################################\n",
        "header=\"label,src_file,split,is_query,is_gallery,eye,ds,path\"\n",
        "print(csvpath)\n",
        "with open(csvpath, 'w') as f:\n",
        "  f.write(header)\n",
        "  f.write('\\n')\n",
        "  for i in range(len(res)):\n",
        "    path=res[i]\n",
        "    print(path)\n",
        "    a,ext=path.split('.')\n",
        "    path='iris_dataset/'+path\n",
        "    l1,n=a.split('_')\n",
        "    #l1,n,ext=path.split('_') # iris_rf\n",
        "    src_file=l1+'_'+n\n",
        "    n=int(n)\n",
        "    label=str(int(l1[0:len(l1)-1])-1)\n",
        "    lr=l1[-1:]\n",
        "    f.write(label)\n",
        "    f.write(',')\n",
        "    f.write(src_file)\n",
        "    f.write(',')\n",
        "    if (n<2):\n",
        "      f.write('train,')\n",
        "      f.write(\",\") \n",
        "    else:  \n",
        "       f.write('validation,')\n",
        "       f.write('1,1') \n",
        "    f.write(',')  \n",
        "    f.write(lr) \n",
        "    f.write(',')  \n",
        "    #f.write('iris_rf')\n",
        "    f.write('iris_idt')\n",
        "    f.write(',')  \n",
        "    f.write(path)  \n",
        "    f.write('\\n')"
      ],
      "metadata": {
        "id": "wJoXDM0jJXhK"
      },
      "execution_count": null,
      "outputs": []
    },
    {
      "cell_type": "code",
      "source": [
        "# import iris_id dataset\n",
        "from os import walk\n",
        "import pandas as pd\n",
        "import os\n",
        "\n",
        "# folder path\n",
        "#dir_path = iris_id_path\n",
        "dir_path=iris_dataset_path\n",
        "print(dir_path)\n",
        "\n",
        "# list to store files\n",
        "res = []\n",
        "\n",
        "# Iterate directory\n",
        "for path in os.listdir(dir_path):\n",
        "    # check if current path is a file\n",
        "    if os.path.isfile(os.path.join(dir_path, path)):\n",
        "        res.append(path)\n",
        "\n",
        "###############################################\n",
        "header=\"label,src_file,split,is_query,is_gallery,eye,ds,path\"\n",
        "\n",
        "# Create a sample DataFrame\n",
        "data = {'label': [],\n",
        "        'src_file': [],\n",
        "        'split': [],\n",
        "        'is_query': [],        \n",
        "        'is_gallery': [],\n",
        "        'eye': [],\n",
        "        'ds': [],\n",
        "        'path': []\n",
        "        }\n",
        "df_iris = pd.DataFrame(data)\n",
        "\n",
        "for i in range(len(res)):\n",
        "  path=res[i]\n",
        "  print(path)\n",
        "  a,ext=path.split('.')\n",
        "  fpath='iris_dataset/'+path\n",
        "  l1,n=a.split('_')\n",
        "  src_file=l1+'_'+n\n",
        "  n=int(n)\n",
        "  label=str(int(l1[0:len(l1)-1])-1)\n",
        "  lr=l1[-1:]\n",
        "  if (n<2):\n",
        "    split='train'\n",
        "    is_query=None\n",
        "    is_gallery=None\n",
        "  else:\n",
        "    split='validation'  \n",
        "    is_query=1.0\n",
        "    is_gallery=1.0\n",
        "  new_row = {'label': label, \n",
        "           'src_file': src_file, \n",
        "           'split': split,\n",
        "           'is_query': is_query, \n",
        "           'is_gallery': is_gallery,\n",
        "           'eye': lr,\n",
        "           'ds': 'iris_id',\n",
        "           'path': fpath\n",
        "           }\n",
        "\n",
        "  df_iris.loc[len(df_iris)] = new_row    \n"
      ],
      "metadata": {
        "id": "63hXsBXW3reA"
      },
      "execution_count": null,
      "outputs": []
    },
    {
      "cell_type": "code",
      "source": [
        "\n",
        "df_iris.sort_values(by=['eye','label'], inplace=True)\n",
        "df=df_iris"
      ],
      "metadata": {
        "id": "BT340QbANcuy"
      },
      "execution_count": null,
      "outputs": []
    },
    {
      "cell_type": "code",
      "source": [
        "df_iris"
      ],
      "metadata": {
        "colab": {
          "base_uri": "https://localhost:8080/",
          "height": 423
        },
        "id": "KwglVD-KVWSB",
        "outputId": "c41ac704-6b09-49b3-a462-793b92d8c1dd"
      },
      "execution_count": null,
      "outputs": [
        {
          "output_type": "execute_result",
          "data": {
            "text/plain": [
              "   label src_file       split  is_query  is_gallery eye       ds  \\\n",
              "0      0   001L_1       train       NaN         NaN   L  iris_id   \n",
              "1      0   001L_2  validation       1.0         1.0   L  iris_id   \n",
              "3      0   001L_3  validation       1.0         1.0   L  iris_id   \n",
              "6      1   002L_1       train       NaN         NaN   L  iris_id   \n",
              "7      1   002L_2  validation       1.0         1.0   L  iris_id   \n",
              "..   ...      ...         ...       ...         ...  ..      ...   \n",
              "52     8   009R_1       train       NaN         NaN   R  iris_id   \n",
              "53     8   009R_3  validation       1.0         1.0   R  iris_id   \n",
              "57     9   010R_1       train       NaN         NaN   R  iris_id   \n",
              "58     9   010R_3  validation       1.0         1.0   R  iris_id   \n",
              "59     9   010R_2  validation       1.0         1.0   R  iris_id   \n",
              "\n",
              "                       path  \n",
              "0   iris_dataset/001L_1.png  \n",
              "1   iris_dataset/001L_2.png  \n",
              "3   iris_dataset/001L_3.png  \n",
              "6   iris_dataset/002L_1.png  \n",
              "7   iris_dataset/002L_2.png  \n",
              "..                      ...  \n",
              "52  iris_dataset/009R_1.png  \n",
              "53  iris_dataset/009R_3.png  \n",
              "57  iris_dataset/010R_1.png  \n",
              "58  iris_dataset/010R_3.png  \n",
              "59  iris_dataset/010R_2.png  \n",
              "\n",
              "[384 rows x 8 columns]"
            ],
            "text/html": [
              "\n",
              "  <div id=\"df-8addbe4f-a971-4aa3-9cf0-56bce0e2510a\">\n",
              "    <div class=\"colab-df-container\">\n",
              "      <div>\n",
              "<style scoped>\n",
              "    .dataframe tbody tr th:only-of-type {\n",
              "        vertical-align: middle;\n",
              "    }\n",
              "\n",
              "    .dataframe tbody tr th {\n",
              "        vertical-align: top;\n",
              "    }\n",
              "\n",
              "    .dataframe thead th {\n",
              "        text-align: right;\n",
              "    }\n",
              "</style>\n",
              "<table border=\"1\" class=\"dataframe\">\n",
              "  <thead>\n",
              "    <tr style=\"text-align: right;\">\n",
              "      <th></th>\n",
              "      <th>label</th>\n",
              "      <th>src_file</th>\n",
              "      <th>split</th>\n",
              "      <th>is_query</th>\n",
              "      <th>is_gallery</th>\n",
              "      <th>eye</th>\n",
              "      <th>ds</th>\n",
              "      <th>path</th>\n",
              "    </tr>\n",
              "  </thead>\n",
              "  <tbody>\n",
              "    <tr>\n",
              "      <th>0</th>\n",
              "      <td>0</td>\n",
              "      <td>001L_1</td>\n",
              "      <td>train</td>\n",
              "      <td>NaN</td>\n",
              "      <td>NaN</td>\n",
              "      <td>L</td>\n",
              "      <td>iris_id</td>\n",
              "      <td>iris_dataset/001L_1.png</td>\n",
              "    </tr>\n",
              "    <tr>\n",
              "      <th>1</th>\n",
              "      <td>0</td>\n",
              "      <td>001L_2</td>\n",
              "      <td>validation</td>\n",
              "      <td>1.0</td>\n",
              "      <td>1.0</td>\n",
              "      <td>L</td>\n",
              "      <td>iris_id</td>\n",
              "      <td>iris_dataset/001L_2.png</td>\n",
              "    </tr>\n",
              "    <tr>\n",
              "      <th>3</th>\n",
              "      <td>0</td>\n",
              "      <td>001L_3</td>\n",
              "      <td>validation</td>\n",
              "      <td>1.0</td>\n",
              "      <td>1.0</td>\n",
              "      <td>L</td>\n",
              "      <td>iris_id</td>\n",
              "      <td>iris_dataset/001L_3.png</td>\n",
              "    </tr>\n",
              "    <tr>\n",
              "      <th>6</th>\n",
              "      <td>1</td>\n",
              "      <td>002L_1</td>\n",
              "      <td>train</td>\n",
              "      <td>NaN</td>\n",
              "      <td>NaN</td>\n",
              "      <td>L</td>\n",
              "      <td>iris_id</td>\n",
              "      <td>iris_dataset/002L_1.png</td>\n",
              "    </tr>\n",
              "    <tr>\n",
              "      <th>7</th>\n",
              "      <td>1</td>\n",
              "      <td>002L_2</td>\n",
              "      <td>validation</td>\n",
              "      <td>1.0</td>\n",
              "      <td>1.0</td>\n",
              "      <td>L</td>\n",
              "      <td>iris_id</td>\n",
              "      <td>iris_dataset/002L_2.png</td>\n",
              "    </tr>\n",
              "    <tr>\n",
              "      <th>...</th>\n",
              "      <td>...</td>\n",
              "      <td>...</td>\n",
              "      <td>...</td>\n",
              "      <td>...</td>\n",
              "      <td>...</td>\n",
              "      <td>...</td>\n",
              "      <td>...</td>\n",
              "      <td>...</td>\n",
              "    </tr>\n",
              "    <tr>\n",
              "      <th>52</th>\n",
              "      <td>8</td>\n",
              "      <td>009R_1</td>\n",
              "      <td>train</td>\n",
              "      <td>NaN</td>\n",
              "      <td>NaN</td>\n",
              "      <td>R</td>\n",
              "      <td>iris_id</td>\n",
              "      <td>iris_dataset/009R_1.png</td>\n",
              "    </tr>\n",
              "    <tr>\n",
              "      <th>53</th>\n",
              "      <td>8</td>\n",
              "      <td>009R_3</td>\n",
              "      <td>validation</td>\n",
              "      <td>1.0</td>\n",
              "      <td>1.0</td>\n",
              "      <td>R</td>\n",
              "      <td>iris_id</td>\n",
              "      <td>iris_dataset/009R_3.png</td>\n",
              "    </tr>\n",
              "    <tr>\n",
              "      <th>57</th>\n",
              "      <td>9</td>\n",
              "      <td>010R_1</td>\n",
              "      <td>train</td>\n",
              "      <td>NaN</td>\n",
              "      <td>NaN</td>\n",
              "      <td>R</td>\n",
              "      <td>iris_id</td>\n",
              "      <td>iris_dataset/010R_1.png</td>\n",
              "    </tr>\n",
              "    <tr>\n",
              "      <th>58</th>\n",
              "      <td>9</td>\n",
              "      <td>010R_3</td>\n",
              "      <td>validation</td>\n",
              "      <td>1.0</td>\n",
              "      <td>1.0</td>\n",
              "      <td>R</td>\n",
              "      <td>iris_id</td>\n",
              "      <td>iris_dataset/010R_3.png</td>\n",
              "    </tr>\n",
              "    <tr>\n",
              "      <th>59</th>\n",
              "      <td>9</td>\n",
              "      <td>010R_2</td>\n",
              "      <td>validation</td>\n",
              "      <td>1.0</td>\n",
              "      <td>1.0</td>\n",
              "      <td>R</td>\n",
              "      <td>iris_id</td>\n",
              "      <td>iris_dataset/010R_2.png</td>\n",
              "    </tr>\n",
              "  </tbody>\n",
              "</table>\n",
              "<p>384 rows × 8 columns</p>\n",
              "</div>\n",
              "      <button class=\"colab-df-convert\" onclick=\"convertToInteractive('df-8addbe4f-a971-4aa3-9cf0-56bce0e2510a')\"\n",
              "              title=\"Convert this dataframe to an interactive table.\"\n",
              "              style=\"display:none;\">\n",
              "        \n",
              "  <svg xmlns=\"http://www.w3.org/2000/svg\" height=\"24px\"viewBox=\"0 0 24 24\"\n",
              "       width=\"24px\">\n",
              "    <path d=\"M0 0h24v24H0V0z\" fill=\"none\"/>\n",
              "    <path d=\"M18.56 5.44l.94 2.06.94-2.06 2.06-.94-2.06-.94-.94-2.06-.94 2.06-2.06.94zm-11 1L8.5 8.5l.94-2.06 2.06-.94-2.06-.94L8.5 2.5l-.94 2.06-2.06.94zm10 10l.94 2.06.94-2.06 2.06-.94-2.06-.94-.94-2.06-.94 2.06-2.06.94z\"/><path d=\"M17.41 7.96l-1.37-1.37c-.4-.4-.92-.59-1.43-.59-.52 0-1.04.2-1.43.59L10.3 9.45l-7.72 7.72c-.78.78-.78 2.05 0 2.83L4 21.41c.39.39.9.59 1.41.59.51 0 1.02-.2 1.41-.59l7.78-7.78 2.81-2.81c.8-.78.8-2.07 0-2.86zM5.41 20L4 18.59l7.72-7.72 1.47 1.35L5.41 20z\"/>\n",
              "  </svg>\n",
              "      </button>\n",
              "      \n",
              "  <style>\n",
              "    .colab-df-container {\n",
              "      display:flex;\n",
              "      flex-wrap:wrap;\n",
              "      gap: 12px;\n",
              "    }\n",
              "\n",
              "    .colab-df-convert {\n",
              "      background-color: #E8F0FE;\n",
              "      border: none;\n",
              "      border-radius: 50%;\n",
              "      cursor: pointer;\n",
              "      display: none;\n",
              "      fill: #1967D2;\n",
              "      height: 32px;\n",
              "      padding: 0 0 0 0;\n",
              "      width: 32px;\n",
              "    }\n",
              "\n",
              "    .colab-df-convert:hover {\n",
              "      background-color: #E2EBFA;\n",
              "      box-shadow: 0px 1px 2px rgba(60, 64, 67, 0.3), 0px 1px 3px 1px rgba(60, 64, 67, 0.15);\n",
              "      fill: #174EA6;\n",
              "    }\n",
              "\n",
              "    [theme=dark] .colab-df-convert {\n",
              "      background-color: #3B4455;\n",
              "      fill: #D2E3FC;\n",
              "    }\n",
              "\n",
              "    [theme=dark] .colab-df-convert:hover {\n",
              "      background-color: #434B5C;\n",
              "      box-shadow: 0px 1px 3px 1px rgba(0, 0, 0, 0.15);\n",
              "      filter: drop-shadow(0px 1px 2px rgba(0, 0, 0, 0.3));\n",
              "      fill: #FFFFFF;\n",
              "    }\n",
              "  </style>\n",
              "\n",
              "      <script>\n",
              "        const buttonEl =\n",
              "          document.querySelector('#df-8addbe4f-a971-4aa3-9cf0-56bce0e2510a button.colab-df-convert');\n",
              "        buttonEl.style.display =\n",
              "          google.colab.kernel.accessAllowed ? 'block' : 'none';\n",
              "\n",
              "        async function convertToInteractive(key) {\n",
              "          const element = document.querySelector('#df-8addbe4f-a971-4aa3-9cf0-56bce0e2510a');\n",
              "          const dataTable =\n",
              "            await google.colab.kernel.invokeFunction('convertToInteractive',\n",
              "                                                     [key], {});\n",
              "          if (!dataTable) return;\n",
              "\n",
              "          const docLinkHtml = 'Like what you see? Visit the ' +\n",
              "            '<a target=\"_blank\" href=https://colab.research.google.com/notebooks/data_table.ipynb>data table notebook</a>'\n",
              "            + ' to learn more about interactive tables.';\n",
              "          element.innerHTML = '';\n",
              "          dataTable['output_type'] = 'display_data';\n",
              "          await google.colab.output.renderOutput(dataTable, element);\n",
              "          const docLink = document.createElement('div');\n",
              "          docLink.innerHTML = docLinkHtml;\n",
              "          element.appendChild(docLink);\n",
              "        }\n",
              "      </script>\n",
              "    </div>\n",
              "  </div>\n",
              "  "
            ]
          },
          "metadata": {},
          "execution_count": 143
        }
      ]
    },
    {
      "cell_type": "markdown",
      "source": [
        "<H3> Разбиваем Iris Id на 1/3 - train\n",
        "1/3 validation query (запросы)\n",
        "1/3 validation gallery (ответы в которых ищутся запросы)\n",
        "на запрос для метрики нужен хотя б один ответ с той же меткой\n",
        "но для инференса не обязательно\n",
        "<p>\n",
        "Я не стал одинаковые файлы оставлять и в запросах и ответах иначе это слишком легко\n",
        "у нас если левый глаз найдет снимок другого левого или правого глаза того же человека - это цель!"
      ],
      "metadata": {
        "id": "QUyqnAZZd01B"
      }
    },
    {
      "cell_type": "code",
      "source": [
        "df_val=df[df['split']=='validation']\n",
        "for i in range(64):\n",
        "  dfl=df_val[df_val['label']==i]\n",
        "  L=dfl[dfl['eye']=='L']\n",
        "  l=len(L)\n",
        "  k=0\n",
        "  for j in L.index:\n",
        "    if (k<l//2):\n",
        "      # print('set 1,0',j)\n",
        "      df.loc[j,'is_query']=1.0\n",
        "      df.loc[j,'is_gallery']=0.0  \n",
        "      k+=1\n",
        "    else:\n",
        "      df.loc[j,'is_query']=0.0\n",
        "      df.loc[j,'is_gallery']=1.0\n",
        "      k+=1    \n",
        "\n",
        "  R=dfl[dfl['eye']=='R']\n",
        "  r=len(R)\n",
        "  k=0\n",
        "  for j in R.index:\n",
        "    if (k<r//2):\n",
        "      # print('set 1,0',j)\n",
        "      df.loc[j,'is_query']=1.0\n",
        "      df.loc[j,'is_gallery']=0.0  \n",
        "      k+=1\n",
        "    else:\n",
        "      df.loc[j,'is_query']=0.0\n",
        "      df.loc[j,'is_gallery']=1.0\n",
        "      k+=1    \n",
        "  \n",
        "\n"
      ],
      "metadata": {
        "id": "9aSRhZYb8f-h"
      },
      "execution_count": null,
      "outputs": []
    },
    {
      "cell_type": "code",
      "source": [
        "df"
      ],
      "metadata": {
        "colab": {
          "base_uri": "https://localhost:8080/",
          "height": 423
        },
        "id": "juOniM5wViZu",
        "outputId": "266f8d35-8c7e-4d30-ba9a-4ac14c5fcfbd"
      },
      "execution_count": null,
      "outputs": [
        {
          "output_type": "execute_result",
          "data": {
            "text/plain": [
              "     label src_file       split  is_query  is_gallery eye       ds  \\\n",
              "0        0   001L_1       train       NaN         NaN   L  iris_id   \n",
              "1        0   001L_2  validation       1.0         0.0   L  iris_id   \n",
              "2        0   001L_3  validation       0.0         1.0   L  iris_id   \n",
              "3        1   002L_1       train       NaN         NaN   L  iris_id   \n",
              "4        1   002L_2  validation       1.0         0.0   L  iris_id   \n",
              "..     ...      ...         ...       ...         ...  ..      ...   \n",
              "379      8   009R_1       train       NaN         NaN   R  iris_id   \n",
              "380      8   009R_3  validation       0.0         1.0   R  iris_id   \n",
              "381      9   010R_1       train       NaN         NaN   R  iris_id   \n",
              "382      9   010R_3  validation       1.0         0.0   R  iris_id   \n",
              "383      9   010R_2  validation       0.0         1.0   R  iris_id   \n",
              "\n",
              "                        path  \n",
              "0    iris_dataset/001L_1.png  \n",
              "1    iris_dataset/001L_2.png  \n",
              "2    iris_dataset/001L_3.png  \n",
              "3    iris_dataset/002L_1.png  \n",
              "4    iris_dataset/002L_2.png  \n",
              "..                       ...  \n",
              "379  iris_dataset/009R_1.png  \n",
              "380  iris_dataset/009R_3.png  \n",
              "381  iris_dataset/010R_1.png  \n",
              "382  iris_dataset/010R_3.png  \n",
              "383  iris_dataset/010R_2.png  \n",
              "\n",
              "[384 rows x 8 columns]"
            ],
            "text/html": [
              "\n",
              "  <div id=\"df-d47617f0-e644-4879-b513-d4ee993f32ea\">\n",
              "    <div class=\"colab-df-container\">\n",
              "      <div>\n",
              "<style scoped>\n",
              "    .dataframe tbody tr th:only-of-type {\n",
              "        vertical-align: middle;\n",
              "    }\n",
              "\n",
              "    .dataframe tbody tr th {\n",
              "        vertical-align: top;\n",
              "    }\n",
              "\n",
              "    .dataframe thead th {\n",
              "        text-align: right;\n",
              "    }\n",
              "</style>\n",
              "<table border=\"1\" class=\"dataframe\">\n",
              "  <thead>\n",
              "    <tr style=\"text-align: right;\">\n",
              "      <th></th>\n",
              "      <th>label</th>\n",
              "      <th>src_file</th>\n",
              "      <th>split</th>\n",
              "      <th>is_query</th>\n",
              "      <th>is_gallery</th>\n",
              "      <th>eye</th>\n",
              "      <th>ds</th>\n",
              "      <th>path</th>\n",
              "    </tr>\n",
              "  </thead>\n",
              "  <tbody>\n",
              "    <tr>\n",
              "      <th>0</th>\n",
              "      <td>0</td>\n",
              "      <td>001L_1</td>\n",
              "      <td>train</td>\n",
              "      <td>NaN</td>\n",
              "      <td>NaN</td>\n",
              "      <td>L</td>\n",
              "      <td>iris_id</td>\n",
              "      <td>iris_dataset/001L_1.png</td>\n",
              "    </tr>\n",
              "    <tr>\n",
              "      <th>1</th>\n",
              "      <td>0</td>\n",
              "      <td>001L_2</td>\n",
              "      <td>validation</td>\n",
              "      <td>1.0</td>\n",
              "      <td>0.0</td>\n",
              "      <td>L</td>\n",
              "      <td>iris_id</td>\n",
              "      <td>iris_dataset/001L_2.png</td>\n",
              "    </tr>\n",
              "    <tr>\n",
              "      <th>2</th>\n",
              "      <td>0</td>\n",
              "      <td>001L_3</td>\n",
              "      <td>validation</td>\n",
              "      <td>0.0</td>\n",
              "      <td>1.0</td>\n",
              "      <td>L</td>\n",
              "      <td>iris_id</td>\n",
              "      <td>iris_dataset/001L_3.png</td>\n",
              "    </tr>\n",
              "    <tr>\n",
              "      <th>3</th>\n",
              "      <td>1</td>\n",
              "      <td>002L_1</td>\n",
              "      <td>train</td>\n",
              "      <td>NaN</td>\n",
              "      <td>NaN</td>\n",
              "      <td>L</td>\n",
              "      <td>iris_id</td>\n",
              "      <td>iris_dataset/002L_1.png</td>\n",
              "    </tr>\n",
              "    <tr>\n",
              "      <th>4</th>\n",
              "      <td>1</td>\n",
              "      <td>002L_2</td>\n",
              "      <td>validation</td>\n",
              "      <td>1.0</td>\n",
              "      <td>0.0</td>\n",
              "      <td>L</td>\n",
              "      <td>iris_id</td>\n",
              "      <td>iris_dataset/002L_2.png</td>\n",
              "    </tr>\n",
              "    <tr>\n",
              "      <th>...</th>\n",
              "      <td>...</td>\n",
              "      <td>...</td>\n",
              "      <td>...</td>\n",
              "      <td>...</td>\n",
              "      <td>...</td>\n",
              "      <td>...</td>\n",
              "      <td>...</td>\n",
              "      <td>...</td>\n",
              "    </tr>\n",
              "    <tr>\n",
              "      <th>379</th>\n",
              "      <td>8</td>\n",
              "      <td>009R_1</td>\n",
              "      <td>train</td>\n",
              "      <td>NaN</td>\n",
              "      <td>NaN</td>\n",
              "      <td>R</td>\n",
              "      <td>iris_id</td>\n",
              "      <td>iris_dataset/009R_1.png</td>\n",
              "    </tr>\n",
              "    <tr>\n",
              "      <th>380</th>\n",
              "      <td>8</td>\n",
              "      <td>009R_3</td>\n",
              "      <td>validation</td>\n",
              "      <td>0.0</td>\n",
              "      <td>1.0</td>\n",
              "      <td>R</td>\n",
              "      <td>iris_id</td>\n",
              "      <td>iris_dataset/009R_3.png</td>\n",
              "    </tr>\n",
              "    <tr>\n",
              "      <th>381</th>\n",
              "      <td>9</td>\n",
              "      <td>010R_1</td>\n",
              "      <td>train</td>\n",
              "      <td>NaN</td>\n",
              "      <td>NaN</td>\n",
              "      <td>R</td>\n",
              "      <td>iris_id</td>\n",
              "      <td>iris_dataset/010R_1.png</td>\n",
              "    </tr>\n",
              "    <tr>\n",
              "      <th>382</th>\n",
              "      <td>9</td>\n",
              "      <td>010R_3</td>\n",
              "      <td>validation</td>\n",
              "      <td>1.0</td>\n",
              "      <td>0.0</td>\n",
              "      <td>R</td>\n",
              "      <td>iris_id</td>\n",
              "      <td>iris_dataset/010R_3.png</td>\n",
              "    </tr>\n",
              "    <tr>\n",
              "      <th>383</th>\n",
              "      <td>9</td>\n",
              "      <td>010R_2</td>\n",
              "      <td>validation</td>\n",
              "      <td>0.0</td>\n",
              "      <td>1.0</td>\n",
              "      <td>R</td>\n",
              "      <td>iris_id</td>\n",
              "      <td>iris_dataset/010R_2.png</td>\n",
              "    </tr>\n",
              "  </tbody>\n",
              "</table>\n",
              "<p>384 rows × 8 columns</p>\n",
              "</div>\n",
              "      <button class=\"colab-df-convert\" onclick=\"convertToInteractive('df-d47617f0-e644-4879-b513-d4ee993f32ea')\"\n",
              "              title=\"Convert this dataframe to an interactive table.\"\n",
              "              style=\"display:none;\">\n",
              "        \n",
              "  <svg xmlns=\"http://www.w3.org/2000/svg\" height=\"24px\"viewBox=\"0 0 24 24\"\n",
              "       width=\"24px\">\n",
              "    <path d=\"M0 0h24v24H0V0z\" fill=\"none\"/>\n",
              "    <path d=\"M18.56 5.44l.94 2.06.94-2.06 2.06-.94-2.06-.94-.94-2.06-.94 2.06-2.06.94zm-11 1L8.5 8.5l.94-2.06 2.06-.94-2.06-.94L8.5 2.5l-.94 2.06-2.06.94zm10 10l.94 2.06.94-2.06 2.06-.94-2.06-.94-.94-2.06-.94 2.06-2.06.94z\"/><path d=\"M17.41 7.96l-1.37-1.37c-.4-.4-.92-.59-1.43-.59-.52 0-1.04.2-1.43.59L10.3 9.45l-7.72 7.72c-.78.78-.78 2.05 0 2.83L4 21.41c.39.39.9.59 1.41.59.51 0 1.02-.2 1.41-.59l7.78-7.78 2.81-2.81c.8-.78.8-2.07 0-2.86zM5.41 20L4 18.59l7.72-7.72 1.47 1.35L5.41 20z\"/>\n",
              "  </svg>\n",
              "      </button>\n",
              "      \n",
              "  <style>\n",
              "    .colab-df-container {\n",
              "      display:flex;\n",
              "      flex-wrap:wrap;\n",
              "      gap: 12px;\n",
              "    }\n",
              "\n",
              "    .colab-df-convert {\n",
              "      background-color: #E8F0FE;\n",
              "      border: none;\n",
              "      border-radius: 50%;\n",
              "      cursor: pointer;\n",
              "      display: none;\n",
              "      fill: #1967D2;\n",
              "      height: 32px;\n",
              "      padding: 0 0 0 0;\n",
              "      width: 32px;\n",
              "    }\n",
              "\n",
              "    .colab-df-convert:hover {\n",
              "      background-color: #E2EBFA;\n",
              "      box-shadow: 0px 1px 2px rgba(60, 64, 67, 0.3), 0px 1px 3px 1px rgba(60, 64, 67, 0.15);\n",
              "      fill: #174EA6;\n",
              "    }\n",
              "\n",
              "    [theme=dark] .colab-df-convert {\n",
              "      background-color: #3B4455;\n",
              "      fill: #D2E3FC;\n",
              "    }\n",
              "\n",
              "    [theme=dark] .colab-df-convert:hover {\n",
              "      background-color: #434B5C;\n",
              "      box-shadow: 0px 1px 3px 1px rgba(0, 0, 0, 0.15);\n",
              "      filter: drop-shadow(0px 1px 2px rgba(0, 0, 0, 0.3));\n",
              "      fill: #FFFFFF;\n",
              "    }\n",
              "  </style>\n",
              "\n",
              "      <script>\n",
              "        const buttonEl =\n",
              "          document.querySelector('#df-d47617f0-e644-4879-b513-d4ee993f32ea button.colab-df-convert');\n",
              "        buttonEl.style.display =\n",
              "          google.colab.kernel.accessAllowed ? 'block' : 'none';\n",
              "\n",
              "        async function convertToInteractive(key) {\n",
              "          const element = document.querySelector('#df-d47617f0-e644-4879-b513-d4ee993f32ea');\n",
              "          const dataTable =\n",
              "            await google.colab.kernel.invokeFunction('convertToInteractive',\n",
              "                                                     [key], {});\n",
              "          if (!dataTable) return;\n",
              "\n",
              "          const docLinkHtml = 'Like what you see? Visit the ' +\n",
              "            '<a target=\"_blank\" href=https://colab.research.google.com/notebooks/data_table.ipynb>data table notebook</a>'\n",
              "            + ' to learn more about interactive tables.';\n",
              "          element.innerHTML = '';\n",
              "          dataTable['output_type'] = 'display_data';\n",
              "          await google.colab.output.renderOutput(dataTable, element);\n",
              "          const docLink = document.createElement('div');\n",
              "          docLink.innerHTML = docLinkHtml;\n",
              "          element.appendChild(docLink);\n",
              "        }\n",
              "      </script>\n",
              "    </div>\n",
              "  </div>\n",
              "  "
            ]
          },
          "metadata": {},
          "execution_count": 164
        }
      ]
    },
    {
      "cell_type": "code",
      "source": [
        "csvpath"
      ],
      "metadata": {
        "colab": {
          "base_uri": "https://localhost:8080/",
          "height": 36
        },
        "id": "uoB6RQih2GfB",
        "outputId": "43f8b0d5-1f03-4bb1-d1dd-c6efc32870e4"
      },
      "execution_count": null,
      "outputs": [
        {
          "output_type": "execute_result",
          "data": {
            "text/plain": [
              "'/content/drive/MyDrive/iris/df_iris_dataset_LR.csv'"
            ],
            "application/vnd.google.colaboratory.intrinsic+json": {
              "type": "string"
            }
          },
          "metadata": {},
          "execution_count": 230
        }
      ]
    },
    {
      "cell_type": "code",
      "source": [
        "df.to_csv(csvpath,index=False)\n",
        "df = pd.read_csv(csvpath)"
      ],
      "metadata": {
        "id": "kC-8TQVHMPQG"
      },
      "execution_count": null,
      "outputs": []
    },
    {
      "cell_type": "code",
      "source": [
        "df_iris = pd.read_csv(csvpath)"
      ],
      "metadata": {
        "id": "lm79ngl-qOBL"
      },
      "execution_count": null,
      "outputs": []
    },
    {
      "cell_type": "code",
      "source": [
        "df_iris"
      ],
      "metadata": {
        "colab": {
          "base_uri": "https://localhost:8080/",
          "height": 423
        },
        "id": "WjpDRIfG1udy",
        "outputId": "84a7eaca-4345-4c4c-d2ea-b5f3e6c50f27"
      },
      "execution_count": null,
      "outputs": [
        {
          "output_type": "execute_result",
          "data": {
            "text/plain": [
              "     label src_file       split  is_query  is_gallery eye       ds  \\\n",
              "0        0   001L_1       train       NaN         NaN   L  iris_id   \n",
              "1        0   001L_2  validation       1.0         0.0   L  iris_id   \n",
              "2        0   001L_3  validation       0.0         1.0   L  iris_id   \n",
              "3        1   002L_1       train       NaN         NaN   L  iris_id   \n",
              "4        1   002L_2  validation       1.0         0.0   L  iris_id   \n",
              "..     ...      ...         ...       ...         ...  ..      ...   \n",
              "379      8   009R_1       train       NaN         NaN   R  iris_id   \n",
              "380      8   009R_3  validation       0.0         1.0   R  iris_id   \n",
              "381      9   010R_1       train       NaN         NaN   R  iris_id   \n",
              "382      9   010R_3  validation       1.0         0.0   R  iris_id   \n",
              "383      9   010R_2  validation       0.0         1.0   R  iris_id   \n",
              "\n",
              "                        path  \n",
              "0    iris_dataset/001L_1.png  \n",
              "1    iris_dataset/001L_2.png  \n",
              "2    iris_dataset/001L_3.png  \n",
              "3    iris_dataset/002L_1.png  \n",
              "4    iris_dataset/002L_2.png  \n",
              "..                       ...  \n",
              "379  iris_dataset/009R_1.png  \n",
              "380  iris_dataset/009R_3.png  \n",
              "381  iris_dataset/010R_1.png  \n",
              "382  iris_dataset/010R_3.png  \n",
              "383  iris_dataset/010R_2.png  \n",
              "\n",
              "[384 rows x 8 columns]"
            ],
            "text/html": [
              "\n",
              "  <div id=\"df-03cb9415-55d0-4441-b6a9-131aaa4febc5\">\n",
              "    <div class=\"colab-df-container\">\n",
              "      <div>\n",
              "<style scoped>\n",
              "    .dataframe tbody tr th:only-of-type {\n",
              "        vertical-align: middle;\n",
              "    }\n",
              "\n",
              "    .dataframe tbody tr th {\n",
              "        vertical-align: top;\n",
              "    }\n",
              "\n",
              "    .dataframe thead th {\n",
              "        text-align: right;\n",
              "    }\n",
              "</style>\n",
              "<table border=\"1\" class=\"dataframe\">\n",
              "  <thead>\n",
              "    <tr style=\"text-align: right;\">\n",
              "      <th></th>\n",
              "      <th>label</th>\n",
              "      <th>src_file</th>\n",
              "      <th>split</th>\n",
              "      <th>is_query</th>\n",
              "      <th>is_gallery</th>\n",
              "      <th>eye</th>\n",
              "      <th>ds</th>\n",
              "      <th>path</th>\n",
              "    </tr>\n",
              "  </thead>\n",
              "  <tbody>\n",
              "    <tr>\n",
              "      <th>0</th>\n",
              "      <td>0</td>\n",
              "      <td>001L_1</td>\n",
              "      <td>train</td>\n",
              "      <td>NaN</td>\n",
              "      <td>NaN</td>\n",
              "      <td>L</td>\n",
              "      <td>iris_id</td>\n",
              "      <td>iris_dataset/001L_1.png</td>\n",
              "    </tr>\n",
              "    <tr>\n",
              "      <th>1</th>\n",
              "      <td>0</td>\n",
              "      <td>001L_2</td>\n",
              "      <td>validation</td>\n",
              "      <td>1.0</td>\n",
              "      <td>0.0</td>\n",
              "      <td>L</td>\n",
              "      <td>iris_id</td>\n",
              "      <td>iris_dataset/001L_2.png</td>\n",
              "    </tr>\n",
              "    <tr>\n",
              "      <th>2</th>\n",
              "      <td>0</td>\n",
              "      <td>001L_3</td>\n",
              "      <td>validation</td>\n",
              "      <td>0.0</td>\n",
              "      <td>1.0</td>\n",
              "      <td>L</td>\n",
              "      <td>iris_id</td>\n",
              "      <td>iris_dataset/001L_3.png</td>\n",
              "    </tr>\n",
              "    <tr>\n",
              "      <th>3</th>\n",
              "      <td>1</td>\n",
              "      <td>002L_1</td>\n",
              "      <td>train</td>\n",
              "      <td>NaN</td>\n",
              "      <td>NaN</td>\n",
              "      <td>L</td>\n",
              "      <td>iris_id</td>\n",
              "      <td>iris_dataset/002L_1.png</td>\n",
              "    </tr>\n",
              "    <tr>\n",
              "      <th>4</th>\n",
              "      <td>1</td>\n",
              "      <td>002L_2</td>\n",
              "      <td>validation</td>\n",
              "      <td>1.0</td>\n",
              "      <td>0.0</td>\n",
              "      <td>L</td>\n",
              "      <td>iris_id</td>\n",
              "      <td>iris_dataset/002L_2.png</td>\n",
              "    </tr>\n",
              "    <tr>\n",
              "      <th>...</th>\n",
              "      <td>...</td>\n",
              "      <td>...</td>\n",
              "      <td>...</td>\n",
              "      <td>...</td>\n",
              "      <td>...</td>\n",
              "      <td>...</td>\n",
              "      <td>...</td>\n",
              "      <td>...</td>\n",
              "    </tr>\n",
              "    <tr>\n",
              "      <th>379</th>\n",
              "      <td>8</td>\n",
              "      <td>009R_1</td>\n",
              "      <td>train</td>\n",
              "      <td>NaN</td>\n",
              "      <td>NaN</td>\n",
              "      <td>R</td>\n",
              "      <td>iris_id</td>\n",
              "      <td>iris_dataset/009R_1.png</td>\n",
              "    </tr>\n",
              "    <tr>\n",
              "      <th>380</th>\n",
              "      <td>8</td>\n",
              "      <td>009R_3</td>\n",
              "      <td>validation</td>\n",
              "      <td>0.0</td>\n",
              "      <td>1.0</td>\n",
              "      <td>R</td>\n",
              "      <td>iris_id</td>\n",
              "      <td>iris_dataset/009R_3.png</td>\n",
              "    </tr>\n",
              "    <tr>\n",
              "      <th>381</th>\n",
              "      <td>9</td>\n",
              "      <td>010R_1</td>\n",
              "      <td>train</td>\n",
              "      <td>NaN</td>\n",
              "      <td>NaN</td>\n",
              "      <td>R</td>\n",
              "      <td>iris_id</td>\n",
              "      <td>iris_dataset/010R_1.png</td>\n",
              "    </tr>\n",
              "    <tr>\n",
              "      <th>382</th>\n",
              "      <td>9</td>\n",
              "      <td>010R_3</td>\n",
              "      <td>validation</td>\n",
              "      <td>1.0</td>\n",
              "      <td>0.0</td>\n",
              "      <td>R</td>\n",
              "      <td>iris_id</td>\n",
              "      <td>iris_dataset/010R_3.png</td>\n",
              "    </tr>\n",
              "    <tr>\n",
              "      <th>383</th>\n",
              "      <td>9</td>\n",
              "      <td>010R_2</td>\n",
              "      <td>validation</td>\n",
              "      <td>0.0</td>\n",
              "      <td>1.0</td>\n",
              "      <td>R</td>\n",
              "      <td>iris_id</td>\n",
              "      <td>iris_dataset/010R_2.png</td>\n",
              "    </tr>\n",
              "  </tbody>\n",
              "</table>\n",
              "<p>384 rows × 8 columns</p>\n",
              "</div>\n",
              "      <button class=\"colab-df-convert\" onclick=\"convertToInteractive('df-03cb9415-55d0-4441-b6a9-131aaa4febc5')\"\n",
              "              title=\"Convert this dataframe to an interactive table.\"\n",
              "              style=\"display:none;\">\n",
              "        \n",
              "  <svg xmlns=\"http://www.w3.org/2000/svg\" height=\"24px\"viewBox=\"0 0 24 24\"\n",
              "       width=\"24px\">\n",
              "    <path d=\"M0 0h24v24H0V0z\" fill=\"none\"/>\n",
              "    <path d=\"M18.56 5.44l.94 2.06.94-2.06 2.06-.94-2.06-.94-.94-2.06-.94 2.06-2.06.94zm-11 1L8.5 8.5l.94-2.06 2.06-.94-2.06-.94L8.5 2.5l-.94 2.06-2.06.94zm10 10l.94 2.06.94-2.06 2.06-.94-2.06-.94-.94-2.06-.94 2.06-2.06.94z\"/><path d=\"M17.41 7.96l-1.37-1.37c-.4-.4-.92-.59-1.43-.59-.52 0-1.04.2-1.43.59L10.3 9.45l-7.72 7.72c-.78.78-.78 2.05 0 2.83L4 21.41c.39.39.9.59 1.41.59.51 0 1.02-.2 1.41-.59l7.78-7.78 2.81-2.81c.8-.78.8-2.07 0-2.86zM5.41 20L4 18.59l7.72-7.72 1.47 1.35L5.41 20z\"/>\n",
              "  </svg>\n",
              "      </button>\n",
              "      \n",
              "  <style>\n",
              "    .colab-df-container {\n",
              "      display:flex;\n",
              "      flex-wrap:wrap;\n",
              "      gap: 12px;\n",
              "    }\n",
              "\n",
              "    .colab-df-convert {\n",
              "      background-color: #E8F0FE;\n",
              "      border: none;\n",
              "      border-radius: 50%;\n",
              "      cursor: pointer;\n",
              "      display: none;\n",
              "      fill: #1967D2;\n",
              "      height: 32px;\n",
              "      padding: 0 0 0 0;\n",
              "      width: 32px;\n",
              "    }\n",
              "\n",
              "    .colab-df-convert:hover {\n",
              "      background-color: #E2EBFA;\n",
              "      box-shadow: 0px 1px 2px rgba(60, 64, 67, 0.3), 0px 1px 3px 1px rgba(60, 64, 67, 0.15);\n",
              "      fill: #174EA6;\n",
              "    }\n",
              "\n",
              "    [theme=dark] .colab-df-convert {\n",
              "      background-color: #3B4455;\n",
              "      fill: #D2E3FC;\n",
              "    }\n",
              "\n",
              "    [theme=dark] .colab-df-convert:hover {\n",
              "      background-color: #434B5C;\n",
              "      box-shadow: 0px 1px 3px 1px rgba(0, 0, 0, 0.15);\n",
              "      filter: drop-shadow(0px 1px 2px rgba(0, 0, 0, 0.3));\n",
              "      fill: #FFFFFF;\n",
              "    }\n",
              "  </style>\n",
              "\n",
              "      <script>\n",
              "        const buttonEl =\n",
              "          document.querySelector('#df-03cb9415-55d0-4441-b6a9-131aaa4febc5 button.colab-df-convert');\n",
              "        buttonEl.style.display =\n",
              "          google.colab.kernel.accessAllowed ? 'block' : 'none';\n",
              "\n",
              "        async function convertToInteractive(key) {\n",
              "          const element = document.querySelector('#df-03cb9415-55d0-4441-b6a9-131aaa4febc5');\n",
              "          const dataTable =\n",
              "            await google.colab.kernel.invokeFunction('convertToInteractive',\n",
              "                                                     [key], {});\n",
              "          if (!dataTable) return;\n",
              "\n",
              "          const docLinkHtml = 'Like what you see? Visit the ' +\n",
              "            '<a target=\"_blank\" href=https://colab.research.google.com/notebooks/data_table.ipynb>data table notebook</a>'\n",
              "            + ' to learn more about interactive tables.';\n",
              "          element.innerHTML = '';\n",
              "          dataTable['output_type'] = 'display_data';\n",
              "          await google.colab.output.renderOutput(dataTable, element);\n",
              "          const docLink = document.createElement('div');\n",
              "          docLink.innerHTML = docLinkHtml;\n",
              "          element.appendChild(docLink);\n",
              "        }\n",
              "      </script>\n",
              "    </div>\n",
              "  </div>\n",
              "  "
            ]
          },
          "metadata": {},
          "execution_count": 167
        }
      ]
    },
    {
      "cell_type": "markdown",
      "source": [
        "save is_query is_gallery"
      ],
      "metadata": {
        "id": "NXtOf8W5dEH7"
      }
    },
    {
      "cell_type": "markdown",
      "source": [
        "<h3> Теперь берем предобученную на огромном датасете (что то из торговли) модель для эмбеддингов и тренируем ее 1 эпоху (больше не надо!) на iris_id train"
      ],
      "metadata": {
        "id": "AVqc7Sooelpq"
      }
    },
    {
      "cell_type": "code",
      "source": [
        "model_types=['vits16_dino', 'vits8_dino', 'vitb16_dino', 'vitb8_dino', 'vits16_inshop', 'vits16_sop', 'vits16_cub', 'vits16_cars']\n",
        "modeltype='vits16_dino'\n",
        "arch='vits16'"
      ],
      "metadata": {
        "id": "Ra0x5Podeni_"
      },
      "execution_count": null,
      "outputs": []
    },
    {
      "cell_type": "code",
      "source": [
        "device = torch.device(\"cuda\")"
      ],
      "metadata": {
        "id": "Y3_aHCGOtRjp"
      },
      "execution_count": null,
      "outputs": []
    },
    {
      "cell_type": "markdown",
      "source": [
        "<H3> Валидность датасета проверяется тут "
      ],
      "metadata": {
        "id": "fpBmnedtcmbw"
      }
    },
    {
      "cell_type": "code",
      "source": [
        "from pathlib import Path\n",
        "from oml.utils.dataframe_format import check_retrieval_dataframe_format\n",
        "p=Path(iris_path)\n",
        "\n",
        "check_retrieval_dataframe_format(df=pd.read_csv(csvpath), dataset_root=p)"
      ],
      "metadata": {
        "id": "czWraz6yW4fg"
      },
      "execution_count": null,
      "outputs": []
    },
    {
      "cell_type": "code",
      "source": [
        "p"
      ],
      "metadata": {
        "colab": {
          "base_uri": "https://localhost:8080/"
        },
        "id": "9VU-s5pKrzrN",
        "outputId": "ebb88c9c-1c73-42be-9d8f-593a051774c8"
      },
      "execution_count": null,
      "outputs": [
        {
          "output_type": "execute_result",
          "data": {
            "text/plain": [
              "PosixPath('/content/drive/MyDrive/iris')"
            ]
          },
          "metadata": {},
          "execution_count": 156
        }
      ]
    },
    {
      "cell_type": "code",
      "source": [
        "check_retrieval_dataframe_format(df=df_amf, dataset_root=p)"
      ],
      "metadata": {
        "id": "8PfE8Gl0yP8n"
      },
      "execution_count": null,
      "outputs": []
    },
    {
      "cell_type": "markdown",
      "source": [
        "Восстановим модель с диска по весам для инференса? Тогда обучение пропускаем"
      ],
      "metadata": {
        "id": "pBYrpSEFMLSr"
      }
    },
    {
      "cell_type": "code",
      "source": [
        "# для левой модели хорошее предсказание для amf - 3%]\n",
        "#modelpath='/content/drive/MyDrive/iris/iris_dataset_LR1.pt'\n",
        "#model=ViTExtractor(weights=modelpath,arch=arch, normalise_features=False)\n",
        "#model.eval()"
      ],
      "metadata": {
        "id": "IU-7iItqNcxc"
      },
      "execution_count": null,
      "outputs": []
    },
    {
      "cell_type": "markdown",
      "source": [
        "<H3>Обучение с нуля (но предобученные веса загружаются автоматом)"
      ],
      "metadata": {
        "id": "iDZGuZ1gc5A6"
      }
    },
    {
      "cell_type": "markdown",
      "source": [
        "Triple loss on embeddings"
      ],
      "metadata": {
        "id": "CRrTGraFapaK"
      }
    },
    {
      "cell_type": "code",
      "source": [
        "im_size=128 # меньше не стоит\n",
        "threshold=200 # порог пеохоже не важен - можно и 0.4 как было вначале взять\n",
        "transform = get_normalisation_resize_torch(im_size=im_size)"
      ],
      "metadata": {
        "id": "CCneueGy_20S"
      },
      "execution_count": null,
      "outputs": []
    },
    {
      "cell_type": "markdown",
      "source": [
        "<H3>одна эпоха"
      ],
      "metadata": {
        "id": "-947rJrHdMWt"
      }
    },
    {
      "cell_type": "code",
      "source": [
        "# тут НЕ сохраненные на зрачках веса грузятся\n",
        "model = ViTExtractor(modeltype, arch=arch, normalise_features=False).train()\n",
        "optimizer = torch.optim.SGD(model.parameters(), lr=1e-6)\n",
        "transform = get_normalisation_resize_torch(im_size=im_size)\n",
        "train_dataset = DatasetWithLabels(df, dataset_root=p,transform=transform)\n",
        "device = torch.device(\"cuda\")\n",
        "model.to(device)\n",
        "\n",
        "# PML specific\n",
        "distance = distances.LpDistance(p=2)\n",
        "reducer = reducers.ThresholdReducer(low=0)\n",
        "criterion = losses.TripletMarginLoss()\n",
        "miner = miners.TripletMarginMiner(margin=threshold, distance=distance, type_of_triplets=\"hard\")\n",
        "\n",
        "sampler = BalanceSampler(train_dataset.get_labels(), n_labels=2, n_instances=2)\n",
        "train_loader = torch.utils.data.DataLoader(train_dataset, batch_sampler=sampler)\n",
        "\n",
        "# Одна эпоха потом посмотрим когда метрики построим может и еще надо \n",
        "n_epoch=1\n",
        "\n",
        "for i in range(n_epoch):\n",
        "  for batch in tqdm(train_loader): \n",
        "    embeddings = model(batch[\"input_tensors\"].to(device))\n",
        "    loss = criterion(embeddings, batch[\"labels\"], miner(embeddings, batch[\"labels\"]))  # PML specific\n",
        "    loss.backward()\n",
        "    optimizer.step()\n",
        "    optimizer.zero_grad()\n",
        "    \n",
        "\n",
        "    "
      ],
      "metadata": {
        "colab": {
          "base_uri": "https://localhost:8080/"
        },
        "id": "9YYoCleHIwIj",
        "outputId": "fa46175e-bb87-41a6-ed70-9ff989675467"
      },
      "execution_count": null,
      "outputs": [
        {
          "output_type": "stream",
          "name": "stdout",
          "text": [
            "https://dl.fbaipublicfiles.com/dino/dino_deitsmall16_pretrain/dino_deitsmall16_pretrain.pth\n",
            "Checkpoint is already here.\n"
          ]
        },
        {
          "output_type": "stream",
          "name": "stderr",
          "text": [
            "100%|██████████| 32/32 [00:04<00:00,  6.51it/s]\n"
          ]
        }
      ]
    },
    {
      "cell_type": "markdown",
      "source": [
        "<h3>еще 30 эпох (в наем случае улучшать нечего)"
      ],
      "metadata": {
        "id": "hDdAFtnEdZuS"
      }
    },
    {
      "cell_type": "code",
      "source": [
        "# это не пригодилось - потренировать - итак хорошая метрика\n",
        "n_epoch=30\n",
        "\n",
        "for i in range(n_epoch):\n",
        "  for batch in tqdm(train_loader): \n",
        "    embeddings = model(batch[\"input_tensors\"].to(device))\n",
        "    loss = criterion(embeddings, batch[\"labels\"], miner(embeddings, batch[\"labels\"]))  # PML specific\n",
        "    loss.backward()\n",
        "    optimizer.step()\n",
        "    optimizer.zero_grad()"
      ],
      "metadata": {
        "colab": {
          "base_uri": "https://localhost:8080/"
        },
        "id": "9NGbNN5ke79k",
        "outputId": "2f85102c-f0ad-4a52-dccb-2370dbd35189"
      },
      "execution_count": null,
      "outputs": [
        {
          "output_type": "stream",
          "name": "stderr",
          "text": [
            "100%|██████████| 32/32 [00:03<00:00,  8.73it/s]\n",
            "100%|██████████| 32/32 [00:08<00:00,  3.93it/s]\n",
            "100%|██████████| 32/32 [00:03<00:00,  8.82it/s]\n",
            "100%|██████████| 32/32 [00:03<00:00,  8.54it/s]\n",
            "100%|██████████| 32/32 [00:07<00:00,  4.15it/s]\n",
            "100%|██████████| 32/32 [00:04<00:00,  7.83it/s]\n",
            "100%|██████████| 32/32 [00:03<00:00,  8.96it/s]\n",
            "100%|██████████| 32/32 [00:05<00:00,  5.43it/s]\n",
            "100%|██████████| 32/32 [00:05<00:00,  5.35it/s]\n",
            "100%|██████████| 32/32 [00:03<00:00,  8.35it/s]\n",
            "100%|██████████| 32/32 [00:05<00:00,  6.07it/s]\n",
            "100%|██████████| 32/32 [00:06<00:00,  4.84it/s]\n",
            "100%|██████████| 32/32 [00:03<00:00,  8.74it/s]\n",
            "100%|██████████| 32/32 [00:03<00:00,  8.53it/s]\n",
            "100%|██████████| 32/32 [00:08<00:00,  3.88it/s]\n",
            "100%|██████████| 32/32 [00:03<00:00,  8.56it/s]\n",
            "100%|██████████| 32/32 [00:03<00:00,  8.65it/s]\n",
            "100%|██████████| 32/32 [00:08<00:00,  3.94it/s]\n",
            "100%|██████████| 32/32 [00:03<00:00,  8.62it/s]\n",
            "100%|██████████| 32/32 [00:03<00:00,  8.54it/s]\n",
            "100%|██████████| 32/32 [00:08<00:00,  3.96it/s]\n",
            "100%|██████████| 32/32 [00:03<00:00,  8.81it/s]\n",
            "100%|██████████| 32/32 [00:03<00:00,  8.80it/s]\n",
            "100%|██████████| 32/32 [00:05<00:00,  5.43it/s]\n",
            "100%|██████████| 32/32 [00:05<00:00,  5.60it/s]\n",
            "100%|██████████| 32/32 [00:03<00:00,  8.61it/s]\n",
            "100%|██████████| 32/32 [00:03<00:00,  8.62it/s]\n",
            "100%|██████████| 32/32 [00:08<00:00,  3.90it/s]\n",
            "100%|██████████| 32/32 [00:03<00:00,  8.47it/s]\n",
            "100%|██████████| 32/32 [00:03<00:00,  8.49it/s]\n"
          ]
        }
      ]
    },
    {
      "cell_type": "markdown",
      "source": [
        "<H3> По слегка оттренированной\n",
        " модели смотрим какие метрики в валидации получились\n",
        " в калькуляторе"
      ],
      "metadata": {
        "id": "y3AfK71ZiOLl"
      }
    },
    {
      "cell_type": "code",
      "source": [
        "miner = miners.TripletMarginMiner(margin=threshold, distance=distance, type_of_triplets=\"all\")"
      ],
      "metadata": {
        "id": "6BQiR22Wf4mx"
      },
      "execution_count": null,
      "outputs": []
    },
    {
      "cell_type": "code",
      "source": [
        "# создаем калькулятор метрик, в котором будем накапливать вектора\n",
        "\n",
        "val_dataset = DatasetQueryGallery(df, dataset_root=p,transform=transform)\n",
        "val_loader = torch.utils.data.DataLoader(val_dataset, batch_size=4)\n",
        "\n",
        "calculator = EmbeddingMetrics(map_top_k=(5,3,2,1),cmc_top_k =(5,3,2,1),precision_top_k =(5,3,2,1) )\n",
        "calculator.setup(num_samples=len(train_dataset))\n",
        "\n",
        "with torch.no_grad():\n",
        "    for batch in tqdm(val_loader):\n",
        "        batch[\"embeddings\"] = model(batch[\"input_tensors\"].to(device))\n",
        "        calculator.update_data(batch)  # накапливаем вектора\n",
        "\n"
      ],
      "metadata": {
        "colab": {
          "base_uri": "https://localhost:8080/"
        },
        "id": "8Cz7nDDGxQCS",
        "outputId": "a7ba198f-9d64-43fc-ed78-15502ae184d0"
      },
      "execution_count": null,
      "outputs": [
        {
          "output_type": "stream",
          "name": "stderr",
          "text": [
            "100%|██████████| 96/96 [00:09<00:00, 10.37it/s]\n"
          ]
        }
      ]
    },
    {
      "cell_type": "code",
      "source": [
        "metrics = calculator.compute_metrics()  # вычисляем метрики: cmc@k, precision@k, map@k"
      ],
      "metadata": {
        "colab": {
          "base_uri": "https://localhost:8080/"
        },
        "id": "yryYULrTkR7Z",
        "outputId": "bdfaf26a-f414-4dbd-d39e-7c62b37dfe52"
      },
      "execution_count": null,
      "outputs": [
        {
          "output_type": "stream",
          "name": "stdout",
          "text": [
            "\n",
            "Metrics:\n",
            "{'OVERALL': {'cmc': {1: tensor(0.9961),\n",
            "                     2: tensor(0.9961),\n",
            "                     3: tensor(1.),\n",
            "                     5: tensor(1.)},\n",
            "             'map': {1: tensor(0.9961),\n",
            "                     2: tensor(0.9961),\n",
            "                     3: tensor(0.9915),\n",
            "                     5: tensor(0.9724)},\n",
            "             'pcf': {0.5: tensor(0.0104)},\n",
            "             'precision': {1: tensor(0.9961),\n",
            "                           2: tensor(0.9551),\n",
            "                           3: tensor(0.8893),\n",
            "                           5: tensor(0.9007)}}}\n"
          ]
        }
      ]
    },
    {
      "cell_type": "markdown",
      "source": [
        "<H3> Метрики свиду ОТЛИЧНЫЕ - спасибо за веса автору"
      ],
      "metadata": {
        "id": "drb-yEwBfUl2"
      }
    },
    {
      "cell_type": "code",
      "source": [],
      "metadata": {
        "id": "qu_n_Qqdp6N2"
      },
      "execution_count": null,
      "outputs": []
    },
    {
      "cell_type": "markdown",
      "source": [
        "<h3>Сохраним веса (по факту обучение на iris_id причем лишь на 1/3 train) и в дальнейшем инференс запускаем с нее"
      ],
      "metadata": {
        "id": "3i9acYFDfyKH"
      }
    },
    {
      "cell_type": "code",
      "source": [
        "#modelpathLR='/content/drive/MyDrive/iris/iris_dataset_LR1.pt'\n",
        "#torch.save(model.state_dict(), modelpathLR)\n"
      ],
      "metadata": {
        "id": "WMUL9scnTIsU"
      },
      "execution_count": null,
      "outputs": []
    },
    {
      "cell_type": "markdown",
      "source": [
        "<H3> Inference на AMF (про нее модель ничего не знает) В самом датасете все помечено как validation и разбито на query (test) / gallery - база уже имеющихся фото"
      ],
      "metadata": {
        "id": "HqQqDoUik9r2"
      }
    },
    {
      "cell_type": "code",
      "source": [
        "df=df_amf"
      ],
      "metadata": {
        "id": "TXkSgW3CseWi"
      },
      "execution_count": null,
      "outputs": []
    },
    {
      "cell_type": "code",
      "source": [
        "# Смысл такой что по запросам query мы ищем ближайший (похоже 1) \n",
        "# но только среди элементов gallery\n",
        "queries=[]\n",
        "df_val=df[df['split']=='validation']\n",
        "lquery=df_val[df_val[\"is_query\"]==1.0][\"label\"].tolist()\n",
        "lgallery=df_val[df_val[\"is_gallery\"]==1.0][\"label\"].tolist()\n",
        "squeries = df_val[df_val[\"is_query\"]==1.0][\"path\"].tolist()\n",
        "sgalleries = df_val[df_val[\"is_gallery\"]==1.0][\"path\"].tolist()\n",
        "\n",
        "df_val[\"path\"] = df_val[\"path\"].apply(lambda x: pamf / x)\n",
        "\n",
        "queries = df_val[df_val[\"is_query\"]==1.0][\"path\"].tolist()\n",
        "galleries = df_val[df_val[\"is_gallery\"]==1.0][\"path\"].tolist()\n",
        "\n",
        "#queries.extend(df_new[\"path\"].values) \n",
        "####transform, _ = get_transforms_for_pretrained(modeltype)\n",
        "\n",
        "args = {\"num_workers\": 0, \"batch_size\": 8}\n",
        "# эмбеддинги запросов и галереи\n",
        "features_queries = inference_on_images(model, paths=queries, transform=transform, **args)\n",
        "features_galleries = inference_on_images(model, paths=galleries, transform=transform, **args)\n",
        "# евклидово расстояние между ними - то есть по строкам расстояния галерей от фиксированного запроса\n",
        "dist_mat = pairwise_dist(x1=features_queries, x2=features_galleries)\n",
        "ii_closest = torch.argmin(dist_mat, dim=1)\n",
        "#dist_queries = pairwise_dist(x1=features_queries, x2=features_queries)\n",
        "\n",
        "print(f\"Indices of the items closest to queries: {ii_closest}\")"
      ],
      "metadata": {
        "id": "RIUBm_u2VOBj",
        "colab": {
          "base_uri": "https://localhost:8080/"
        },
        "outputId": "68919248-7492-47e3-c863-b13deb23bda6"
      },
      "execution_count": null,
      "outputs": [
        {
          "output_type": "stream",
          "name": "stdout",
          "text": [
            "Indices of the items closest to queries: tensor([  4,   1,   1,   4,   1,   7,   6,   8,   6,   7,  12,  14,  12,  11,\n",
            "         14,  19,  19,  18,  19,  19,  22,  20, 162,  24,  23,  25,  28,  26,\n",
            "         28,  29,  34,  31,  32,  30,  32,  37,  35,  35,  39,  35,  40,  44,\n",
            "         43,  43,  43,  46,  46,  48,  48,  45,  50,  53,  50,  50,  50,  55,\n",
            "         55,  58,  59,  59,  62,  62,  64,  61,  63, 143, 142,  67, 143,  65,\n",
            "         73,  73,  73,  71,  73,  79,  78,  78,  77,  77,  84,  81,  83,  84,\n",
            "         84,  87,  87,  88,  88,  85,  94,  94,  90,  94,  93,  96,  96,  96,\n",
            "         96,  99, 103, 102, 104, 103, 104, 105, 109, 109, 109, 107, 114, 114,\n",
            "        112, 114, 114, 118, 116, 119, 115, 119, 123, 120, 124, 120, 122, 125,\n",
            "        127, 127, 128, 126, 133, 130, 133, 130, 131, 138, 135, 139, 136, 138,\n",
            "        140, 140, 140, 141, 140, 145, 147, 147, 145, 148, 153, 153, 151, 152,\n",
            "        151, 158, 157, 155, 157, 157, 160, 160, 160, 163, 162, 169, 165, 165,\n",
            "        167, 169, 174, 173, 174, 174, 170, 179, 178, 179, 175, 179, 182, 181,\n",
            "        182, 180, 182, 188, 185, 189, 189, 186, 193, 190, 194, 193, 193, 196,\n",
            "        198, 199, 199, 196, 202, 204, 200, 202, 202, 208, 208, 208, 208, 207,\n",
            "        211, 214, 211, 214, 211, 216, 215, 218, 216, 217, 222, 222, 222, 222,\n",
            "        221, 228, 228, 229, 229, 228, 233, 234, 230, 230, 232, 132, 235, 235,\n",
            "        238, 239, 242, 244, 242, 244, 242, 199, 247, 236, 249, 245, 254, 251,\n",
            "        250, 254, 253, 258, 258, 259, 255, 257, 262, 260, 264, 261, 260, 267,\n",
            "        269, 268, 266, 266])\n"
          ]
        }
      ]
    },
    {
      "cell_type": "markdown",
      "source": [
        "Получаем по матрице L2 расстояний (dist_mat) набор индексов (лучших из gallery) ближайших к query ii_closest"
      ],
      "metadata": {
        "id": "lIK3c9eze5iq"
      }
    },
    {
      "cell_type": "code",
      "source": [],
      "metadata": {
        "id": "qddN_hwEfn2B"
      },
      "execution_count": null,
      "outputs": []
    },
    {
      "cell_type": "code",
      "source": [
        "mat=torch.Tensor.numpy(dist_mat)"
      ],
      "metadata": {
        "id": "niFNEAN4XvRa"
      },
      "execution_count": null,
      "outputs": []
    },
    {
      "cell_type": "code",
      "source": [
        "for i in range(len(lquery)):\n",
        "  m = mat[i,ii_closest[i]]\n",
        "  print(i,'path: ',squeries[i],'query: ',str(lquery[i]),' predict: ',str(lgallery[ii_closest[i]]),'closest:',ii_closest[i],' distance: ',m,'path:',sgalleries[ii_closest[i]])\n"
      ],
      "metadata": {
        "id": "htbm1JMhyZxE"
      },
      "execution_count": null,
      "outputs": []
    },
    {
      "cell_type": "code",
      "source": [],
      "metadata": {
        "id": "D5VmY1bAIwMj"
      },
      "execution_count": null,
      "outputs": []
    },
    {
      "cell_type": "code",
      "source": [
        "df_queries = df_val[df_val[\"is_query\"]==1.0]\n",
        "df_galleries = df_val[df_val[\"is_gallery\"]==1.0]"
      ],
      "metadata": {
        "id": "091iqpTq47Ly"
      },
      "execution_count": null,
      "outputs": []
    },
    {
      "cell_type": "markdown",
      "source": [
        "ii_closest содержит индексы классов в галерее предсказанных для запросов is_query. И мы сравниваем метки запросов с предсказанными"
      ],
      "metadata": {
        "id": "w17JQzVhmayl"
      }
    },
    {
      "cell_type": "code",
      "source": [
        "predict=[]\n",
        "ppath=[]\n",
        "dst=[]\n",
        "j=0\n",
        "for i in ii_closest.tolist():\n",
        "  predict.append(df_galleries.iloc[i]['label'])\n",
        "  ppath.append((df_galleries.iloc[i]['src_file']))\n",
        "  dst.append(mat[i,j])\n",
        "\n"
      ],
      "metadata": {
        "id": "FR3VyzARmwTx"
      },
      "execution_count": null,
      "outputs": []
    },
    {
      "cell_type": "code",
      "source": [
        "df_queries['predict']=predict\n",
        "df_queries['ppath']=ppath\n",
        "df_queries['dst']=dst"
      ],
      "metadata": {
        "id": "y2Q8RtoW47Oh",
        "colab": {
          "base_uri": "https://localhost:8080/"
        },
        "outputId": "70e0b052-b558-449f-84a2-db0842886702"
      },
      "execution_count": null,
      "outputs": [
        {
          "output_type": "stream",
          "name": "stderr",
          "text": [
            "<ipython-input-181-17f3fc0ec0f3>:1: SettingWithCopyWarning: \n",
            "A value is trying to be set on a copy of a slice from a DataFrame.\n",
            "Try using .loc[row_indexer,col_indexer] = value instead\n",
            "\n",
            "See the caveats in the documentation: https://pandas.pydata.org/pandas-docs/stable/user_guide/indexing.html#returning-a-view-versus-a-copy\n",
            "  df_queries['predict']=predict\n",
            "<ipython-input-181-17f3fc0ec0f3>:2: SettingWithCopyWarning: \n",
            "A value is trying to be set on a copy of a slice from a DataFrame.\n",
            "Try using .loc[row_indexer,col_indexer] = value instead\n",
            "\n",
            "See the caveats in the documentation: https://pandas.pydata.org/pandas-docs/stable/user_guide/indexing.html#returning-a-view-versus-a-copy\n",
            "  df_queries['ppath']=ppath\n",
            "<ipython-input-181-17f3fc0ec0f3>:3: SettingWithCopyWarning: \n",
            "A value is trying to be set on a copy of a slice from a DataFrame.\n",
            "Try using .loc[row_indexer,col_indexer] = value instead\n",
            "\n",
            "See the caveats in the documentation: https://pandas.pydata.org/pandas-docs/stable/user_guide/indexing.html#returning-a-view-versus-a-copy\n",
            "  df_queries['dst']=dst\n"
          ]
        }
      ]
    },
    {
      "cell_type": "code",
      "source": [
        "df_queries"
      ],
      "metadata": {
        "colab": {
          "base_uri": "https://localhost:8080/",
          "height": 487
        },
        "id": "L6CxiGbsgmum",
        "outputId": "4b8d4aa7-cc8b-46b4-b279-005b316db52e"
      },
      "execution_count": null,
      "outputs": [
        {
          "output_type": "execute_result",
          "data": {
            "text/plain": [
              "     label                        src_file       split  is_query  is_gallery  \\\n",
              "1        0   Iris_20220818_122827_Left.bmp  validation       1.0         0.0   \n",
              "3        0  Iris_20220818_122825_Right.bmp  validation       1.0         0.0   \n",
              "5        0  Iris_20220818_122827_Right.bmp  validation       1.0         0.0   \n",
              "7        0   Iris_20220818_122818_Left.bmp  validation       1.0         0.0   \n",
              "9        0  Iris_20220818_122823_Right.bmp  validation       1.0         0.0   \n",
              "..     ...                             ...         ...       ...         ...   \n",
              "531     53   Iris_20220818_122405_Left.bmp  validation       1.0         0.0   \n",
              "533     53  Iris_20220818_122420_Right.bmp  validation       1.0         0.0   \n",
              "535     53  Iris_20220818_122409_Right.bmp  validation       1.0         0.0   \n",
              "537     53   Iris_20220818_122416_Left.bmp  validation       1.0         0.0   \n",
              "539     53   Iris_20220818_122420_Left.bmp  validation       1.0         0.0   \n",
              "\n",
              "    eye   ds                                               path  predict  \\\n",
              "1     R  amf  /content/drive/MyDrive/iris/AMF_Iris_Dataset/a...        0   \n",
              "3     R  amf  /content/drive/MyDrive/iris/AMF_Iris_Dataset/a...        0   \n",
              "5     R  amf  /content/drive/MyDrive/iris/AMF_Iris_Dataset/a...        0   \n",
              "7     R  amf  /content/drive/MyDrive/iris/AMF_Iris_Dataset/a...        0   \n",
              "9     R  amf  /content/drive/MyDrive/iris/AMF_Iris_Dataset/a...        0   \n",
              "..   ..  ...                                                ...      ...   \n",
              "531   R  amf  /content/drive/MyDrive/iris/AMF_Iris_Dataset/z...       53   \n",
              "533   R  amf  /content/drive/MyDrive/iris/AMF_Iris_Dataset/z...       53   \n",
              "535   R  amf  /content/drive/MyDrive/iris/AMF_Iris_Dataset/z...       53   \n",
              "537   R  amf  /content/drive/MyDrive/iris/AMF_Iris_Dataset/z...       53   \n",
              "539   R  amf  /content/drive/MyDrive/iris/AMF_Iris_Dataset/z...       53   \n",
              "\n",
              "                              ppath        dst  \n",
              "1     Iris_20220818_122823_Left.bmp  14.645152  \n",
              "3    Iris_20220818_122821_Right.bmp  16.312859  \n",
              "5    Iris_20220818_122821_Right.bmp  16.312859  \n",
              "7     Iris_20220818_122823_Left.bmp  14.645152  \n",
              "9    Iris_20220818_122821_Right.bmp  16.312859  \n",
              "..                              ...        ...  \n",
              "531   Iris_20220818_122409_Left.bmp  54.595421  \n",
              "533  Iris_20220818_122416_Right.bmp  50.369553  \n",
              "535  Iris_20220818_122413_Right.bmp  51.164886  \n",
              "537   Iris_20220818_122413_Left.bmp  51.447277  \n",
              "539   Iris_20220818_122413_Left.bmp  51.447277  \n",
              "\n",
              "[270 rows x 11 columns]"
            ],
            "text/html": [
              "\n",
              "  <div id=\"df-cce29df0-11e0-445c-9f80-787d34ebd400\">\n",
              "    <div class=\"colab-df-container\">\n",
              "      <div>\n",
              "<style scoped>\n",
              "    .dataframe tbody tr th:only-of-type {\n",
              "        vertical-align: middle;\n",
              "    }\n",
              "\n",
              "    .dataframe tbody tr th {\n",
              "        vertical-align: top;\n",
              "    }\n",
              "\n",
              "    .dataframe thead th {\n",
              "        text-align: right;\n",
              "    }\n",
              "</style>\n",
              "<table border=\"1\" class=\"dataframe\">\n",
              "  <thead>\n",
              "    <tr style=\"text-align: right;\">\n",
              "      <th></th>\n",
              "      <th>label</th>\n",
              "      <th>src_file</th>\n",
              "      <th>split</th>\n",
              "      <th>is_query</th>\n",
              "      <th>is_gallery</th>\n",
              "      <th>eye</th>\n",
              "      <th>ds</th>\n",
              "      <th>path</th>\n",
              "      <th>predict</th>\n",
              "      <th>ppath</th>\n",
              "      <th>dst</th>\n",
              "    </tr>\n",
              "  </thead>\n",
              "  <tbody>\n",
              "    <tr>\n",
              "      <th>1</th>\n",
              "      <td>0</td>\n",
              "      <td>Iris_20220818_122827_Left.bmp</td>\n",
              "      <td>validation</td>\n",
              "      <td>1.0</td>\n",
              "      <td>0.0</td>\n",
              "      <td>R</td>\n",
              "      <td>amf</td>\n",
              "      <td>/content/drive/MyDrive/iris/AMF_Iris_Dataset/a...</td>\n",
              "      <td>0</td>\n",
              "      <td>Iris_20220818_122823_Left.bmp</td>\n",
              "      <td>14.645152</td>\n",
              "    </tr>\n",
              "    <tr>\n",
              "      <th>3</th>\n",
              "      <td>0</td>\n",
              "      <td>Iris_20220818_122825_Right.bmp</td>\n",
              "      <td>validation</td>\n",
              "      <td>1.0</td>\n",
              "      <td>0.0</td>\n",
              "      <td>R</td>\n",
              "      <td>amf</td>\n",
              "      <td>/content/drive/MyDrive/iris/AMF_Iris_Dataset/a...</td>\n",
              "      <td>0</td>\n",
              "      <td>Iris_20220818_122821_Right.bmp</td>\n",
              "      <td>16.312859</td>\n",
              "    </tr>\n",
              "    <tr>\n",
              "      <th>5</th>\n",
              "      <td>0</td>\n",
              "      <td>Iris_20220818_122827_Right.bmp</td>\n",
              "      <td>validation</td>\n",
              "      <td>1.0</td>\n",
              "      <td>0.0</td>\n",
              "      <td>R</td>\n",
              "      <td>amf</td>\n",
              "      <td>/content/drive/MyDrive/iris/AMF_Iris_Dataset/a...</td>\n",
              "      <td>0</td>\n",
              "      <td>Iris_20220818_122821_Right.bmp</td>\n",
              "      <td>16.312859</td>\n",
              "    </tr>\n",
              "    <tr>\n",
              "      <th>7</th>\n",
              "      <td>0</td>\n",
              "      <td>Iris_20220818_122818_Left.bmp</td>\n",
              "      <td>validation</td>\n",
              "      <td>1.0</td>\n",
              "      <td>0.0</td>\n",
              "      <td>R</td>\n",
              "      <td>amf</td>\n",
              "      <td>/content/drive/MyDrive/iris/AMF_Iris_Dataset/a...</td>\n",
              "      <td>0</td>\n",
              "      <td>Iris_20220818_122823_Left.bmp</td>\n",
              "      <td>14.645152</td>\n",
              "    </tr>\n",
              "    <tr>\n",
              "      <th>9</th>\n",
              "      <td>0</td>\n",
              "      <td>Iris_20220818_122823_Right.bmp</td>\n",
              "      <td>validation</td>\n",
              "      <td>1.0</td>\n",
              "      <td>0.0</td>\n",
              "      <td>R</td>\n",
              "      <td>amf</td>\n",
              "      <td>/content/drive/MyDrive/iris/AMF_Iris_Dataset/a...</td>\n",
              "      <td>0</td>\n",
              "      <td>Iris_20220818_122821_Right.bmp</td>\n",
              "      <td>16.312859</td>\n",
              "    </tr>\n",
              "    <tr>\n",
              "      <th>...</th>\n",
              "      <td>...</td>\n",
              "      <td>...</td>\n",
              "      <td>...</td>\n",
              "      <td>...</td>\n",
              "      <td>...</td>\n",
              "      <td>...</td>\n",
              "      <td>...</td>\n",
              "      <td>...</td>\n",
              "      <td>...</td>\n",
              "      <td>...</td>\n",
              "      <td>...</td>\n",
              "    </tr>\n",
              "    <tr>\n",
              "      <th>531</th>\n",
              "      <td>53</td>\n",
              "      <td>Iris_20220818_122405_Left.bmp</td>\n",
              "      <td>validation</td>\n",
              "      <td>1.0</td>\n",
              "      <td>0.0</td>\n",
              "      <td>R</td>\n",
              "      <td>amf</td>\n",
              "      <td>/content/drive/MyDrive/iris/AMF_Iris_Dataset/z...</td>\n",
              "      <td>53</td>\n",
              "      <td>Iris_20220818_122409_Left.bmp</td>\n",
              "      <td>54.595421</td>\n",
              "    </tr>\n",
              "    <tr>\n",
              "      <th>533</th>\n",
              "      <td>53</td>\n",
              "      <td>Iris_20220818_122420_Right.bmp</td>\n",
              "      <td>validation</td>\n",
              "      <td>1.0</td>\n",
              "      <td>0.0</td>\n",
              "      <td>R</td>\n",
              "      <td>amf</td>\n",
              "      <td>/content/drive/MyDrive/iris/AMF_Iris_Dataset/z...</td>\n",
              "      <td>53</td>\n",
              "      <td>Iris_20220818_122416_Right.bmp</td>\n",
              "      <td>50.369553</td>\n",
              "    </tr>\n",
              "    <tr>\n",
              "      <th>535</th>\n",
              "      <td>53</td>\n",
              "      <td>Iris_20220818_122409_Right.bmp</td>\n",
              "      <td>validation</td>\n",
              "      <td>1.0</td>\n",
              "      <td>0.0</td>\n",
              "      <td>R</td>\n",
              "      <td>amf</td>\n",
              "      <td>/content/drive/MyDrive/iris/AMF_Iris_Dataset/z...</td>\n",
              "      <td>53</td>\n",
              "      <td>Iris_20220818_122413_Right.bmp</td>\n",
              "      <td>51.164886</td>\n",
              "    </tr>\n",
              "    <tr>\n",
              "      <th>537</th>\n",
              "      <td>53</td>\n",
              "      <td>Iris_20220818_122416_Left.bmp</td>\n",
              "      <td>validation</td>\n",
              "      <td>1.0</td>\n",
              "      <td>0.0</td>\n",
              "      <td>R</td>\n",
              "      <td>amf</td>\n",
              "      <td>/content/drive/MyDrive/iris/AMF_Iris_Dataset/z...</td>\n",
              "      <td>53</td>\n",
              "      <td>Iris_20220818_122413_Left.bmp</td>\n",
              "      <td>51.447277</td>\n",
              "    </tr>\n",
              "    <tr>\n",
              "      <th>539</th>\n",
              "      <td>53</td>\n",
              "      <td>Iris_20220818_122420_Left.bmp</td>\n",
              "      <td>validation</td>\n",
              "      <td>1.0</td>\n",
              "      <td>0.0</td>\n",
              "      <td>R</td>\n",
              "      <td>amf</td>\n",
              "      <td>/content/drive/MyDrive/iris/AMF_Iris_Dataset/z...</td>\n",
              "      <td>53</td>\n",
              "      <td>Iris_20220818_122413_Left.bmp</td>\n",
              "      <td>51.447277</td>\n",
              "    </tr>\n",
              "  </tbody>\n",
              "</table>\n",
              "<p>270 rows × 11 columns</p>\n",
              "</div>\n",
              "      <button class=\"colab-df-convert\" onclick=\"convertToInteractive('df-cce29df0-11e0-445c-9f80-787d34ebd400')\"\n",
              "              title=\"Convert this dataframe to an interactive table.\"\n",
              "              style=\"display:none;\">\n",
              "        \n",
              "  <svg xmlns=\"http://www.w3.org/2000/svg\" height=\"24px\"viewBox=\"0 0 24 24\"\n",
              "       width=\"24px\">\n",
              "    <path d=\"M0 0h24v24H0V0z\" fill=\"none\"/>\n",
              "    <path d=\"M18.56 5.44l.94 2.06.94-2.06 2.06-.94-2.06-.94-.94-2.06-.94 2.06-2.06.94zm-11 1L8.5 8.5l.94-2.06 2.06-.94-2.06-.94L8.5 2.5l-.94 2.06-2.06.94zm10 10l.94 2.06.94-2.06 2.06-.94-2.06-.94-.94-2.06-.94 2.06-2.06.94z\"/><path d=\"M17.41 7.96l-1.37-1.37c-.4-.4-.92-.59-1.43-.59-.52 0-1.04.2-1.43.59L10.3 9.45l-7.72 7.72c-.78.78-.78 2.05 0 2.83L4 21.41c.39.39.9.59 1.41.59.51 0 1.02-.2 1.41-.59l7.78-7.78 2.81-2.81c.8-.78.8-2.07 0-2.86zM5.41 20L4 18.59l7.72-7.72 1.47 1.35L5.41 20z\"/>\n",
              "  </svg>\n",
              "      </button>\n",
              "      \n",
              "  <style>\n",
              "    .colab-df-container {\n",
              "      display:flex;\n",
              "      flex-wrap:wrap;\n",
              "      gap: 12px;\n",
              "    }\n",
              "\n",
              "    .colab-df-convert {\n",
              "      background-color: #E8F0FE;\n",
              "      border: none;\n",
              "      border-radius: 50%;\n",
              "      cursor: pointer;\n",
              "      display: none;\n",
              "      fill: #1967D2;\n",
              "      height: 32px;\n",
              "      padding: 0 0 0 0;\n",
              "      width: 32px;\n",
              "    }\n",
              "\n",
              "    .colab-df-convert:hover {\n",
              "      background-color: #E2EBFA;\n",
              "      box-shadow: 0px 1px 2px rgba(60, 64, 67, 0.3), 0px 1px 3px 1px rgba(60, 64, 67, 0.15);\n",
              "      fill: #174EA6;\n",
              "    }\n",
              "\n",
              "    [theme=dark] .colab-df-convert {\n",
              "      background-color: #3B4455;\n",
              "      fill: #D2E3FC;\n",
              "    }\n",
              "\n",
              "    [theme=dark] .colab-df-convert:hover {\n",
              "      background-color: #434B5C;\n",
              "      box-shadow: 0px 1px 3px 1px rgba(0, 0, 0, 0.15);\n",
              "      filter: drop-shadow(0px 1px 2px rgba(0, 0, 0, 0.3));\n",
              "      fill: #FFFFFF;\n",
              "    }\n",
              "  </style>\n",
              "\n",
              "      <script>\n",
              "        const buttonEl =\n",
              "          document.querySelector('#df-cce29df0-11e0-445c-9f80-787d34ebd400 button.colab-df-convert');\n",
              "        buttonEl.style.display =\n",
              "          google.colab.kernel.accessAllowed ? 'block' : 'none';\n",
              "\n",
              "        async function convertToInteractive(key) {\n",
              "          const element = document.querySelector('#df-cce29df0-11e0-445c-9f80-787d34ebd400');\n",
              "          const dataTable =\n",
              "            await google.colab.kernel.invokeFunction('convertToInteractive',\n",
              "                                                     [key], {});\n",
              "          if (!dataTable) return;\n",
              "\n",
              "          const docLinkHtml = 'Like what you see? Visit the ' +\n",
              "            '<a target=\"_blank\" href=https://colab.research.google.com/notebooks/data_table.ipynb>data table notebook</a>'\n",
              "            + ' to learn more about interactive tables.';\n",
              "          element.innerHTML = '';\n",
              "          dataTable['output_type'] = 'display_data';\n",
              "          await google.colab.output.renderOutput(dataTable, element);\n",
              "          const docLink = document.createElement('div');\n",
              "          docLink.innerHTML = docLinkHtml;\n",
              "          element.appendChild(docLink);\n",
              "        }\n",
              "      </script>\n",
              "    </div>\n",
              "  </div>\n",
              "  "
            ]
          },
          "metadata": {},
          "execution_count": 182
        }
      ]
    },
    {
      "cell_type": "code",
      "source": [
        "df_match=df_queries[df_queries['label']==df_queries['predict']]"
      ],
      "metadata": {
        "id": "W9P7izECEsEz"
      },
      "execution_count": null,
      "outputs": []
    },
    {
      "cell_type": "code",
      "source": [
        "df_match\n"
      ],
      "metadata": {
        "colab": {
          "base_uri": "https://localhost:8080/",
          "height": 487
        },
        "id": "LUQefbEyEyE4",
        "outputId": "6982391a-b9fa-470b-fc21-b4009d8141e4"
      },
      "execution_count": null,
      "outputs": [
        {
          "output_type": "execute_result",
          "data": {
            "text/plain": [
              "     label                        src_file       split  is_query  is_gallery  \\\n",
              "1        0   Iris_20220818_122827_Left.bmp  validation       1.0         0.0   \n",
              "3        0  Iris_20220818_122825_Right.bmp  validation       1.0         0.0   \n",
              "5        0  Iris_20220818_122827_Right.bmp  validation       1.0         0.0   \n",
              "7        0   Iris_20220818_122818_Left.bmp  validation       1.0         0.0   \n",
              "9        0  Iris_20220818_122823_Right.bmp  validation       1.0         0.0   \n",
              "..     ...                             ...         ...       ...         ...   \n",
              "531     53   Iris_20220818_122405_Left.bmp  validation       1.0         0.0   \n",
              "533     53  Iris_20220818_122420_Right.bmp  validation       1.0         0.0   \n",
              "535     53  Iris_20220818_122409_Right.bmp  validation       1.0         0.0   \n",
              "537     53   Iris_20220818_122416_Left.bmp  validation       1.0         0.0   \n",
              "539     53   Iris_20220818_122420_Left.bmp  validation       1.0         0.0   \n",
              "\n",
              "    eye   ds                                               path  predict  \\\n",
              "1     R  amf  /content/drive/MyDrive/iris/AMF_Iris_Dataset/a...        0   \n",
              "3     R  amf  /content/drive/MyDrive/iris/AMF_Iris_Dataset/a...        0   \n",
              "5     R  amf  /content/drive/MyDrive/iris/AMF_Iris_Dataset/a...        0   \n",
              "7     R  amf  /content/drive/MyDrive/iris/AMF_Iris_Dataset/a...        0   \n",
              "9     R  amf  /content/drive/MyDrive/iris/AMF_Iris_Dataset/a...        0   \n",
              "..   ..  ...                                                ...      ...   \n",
              "531   R  amf  /content/drive/MyDrive/iris/AMF_Iris_Dataset/z...       53   \n",
              "533   R  amf  /content/drive/MyDrive/iris/AMF_Iris_Dataset/z...       53   \n",
              "535   R  amf  /content/drive/MyDrive/iris/AMF_Iris_Dataset/z...       53   \n",
              "537   R  amf  /content/drive/MyDrive/iris/AMF_Iris_Dataset/z...       53   \n",
              "539   R  amf  /content/drive/MyDrive/iris/AMF_Iris_Dataset/z...       53   \n",
              "\n",
              "                              ppath        dst  \n",
              "1     Iris_20220818_122823_Left.bmp  14.645152  \n",
              "3    Iris_20220818_122821_Right.bmp  16.312859  \n",
              "5    Iris_20220818_122821_Right.bmp  16.312859  \n",
              "7     Iris_20220818_122823_Left.bmp  14.645152  \n",
              "9    Iris_20220818_122821_Right.bmp  16.312859  \n",
              "..                              ...        ...  \n",
              "531   Iris_20220818_122409_Left.bmp  54.595421  \n",
              "533  Iris_20220818_122416_Right.bmp  50.369553  \n",
              "535  Iris_20220818_122413_Right.bmp  51.164886  \n",
              "537   Iris_20220818_122413_Left.bmp  51.447277  \n",
              "539   Iris_20220818_122413_Left.bmp  51.447277  \n",
              "\n",
              "[263 rows x 11 columns]"
            ],
            "text/html": [
              "\n",
              "  <div id=\"df-8fb37f78-0082-4abc-88a1-309298365bda\">\n",
              "    <div class=\"colab-df-container\">\n",
              "      <div>\n",
              "<style scoped>\n",
              "    .dataframe tbody tr th:only-of-type {\n",
              "        vertical-align: middle;\n",
              "    }\n",
              "\n",
              "    .dataframe tbody tr th {\n",
              "        vertical-align: top;\n",
              "    }\n",
              "\n",
              "    .dataframe thead th {\n",
              "        text-align: right;\n",
              "    }\n",
              "</style>\n",
              "<table border=\"1\" class=\"dataframe\">\n",
              "  <thead>\n",
              "    <tr style=\"text-align: right;\">\n",
              "      <th></th>\n",
              "      <th>label</th>\n",
              "      <th>src_file</th>\n",
              "      <th>split</th>\n",
              "      <th>is_query</th>\n",
              "      <th>is_gallery</th>\n",
              "      <th>eye</th>\n",
              "      <th>ds</th>\n",
              "      <th>path</th>\n",
              "      <th>predict</th>\n",
              "      <th>ppath</th>\n",
              "      <th>dst</th>\n",
              "    </tr>\n",
              "  </thead>\n",
              "  <tbody>\n",
              "    <tr>\n",
              "      <th>1</th>\n",
              "      <td>0</td>\n",
              "      <td>Iris_20220818_122827_Left.bmp</td>\n",
              "      <td>validation</td>\n",
              "      <td>1.0</td>\n",
              "      <td>0.0</td>\n",
              "      <td>R</td>\n",
              "      <td>amf</td>\n",
              "      <td>/content/drive/MyDrive/iris/AMF_Iris_Dataset/a...</td>\n",
              "      <td>0</td>\n",
              "      <td>Iris_20220818_122823_Left.bmp</td>\n",
              "      <td>14.645152</td>\n",
              "    </tr>\n",
              "    <tr>\n",
              "      <th>3</th>\n",
              "      <td>0</td>\n",
              "      <td>Iris_20220818_122825_Right.bmp</td>\n",
              "      <td>validation</td>\n",
              "      <td>1.0</td>\n",
              "      <td>0.0</td>\n",
              "      <td>R</td>\n",
              "      <td>amf</td>\n",
              "      <td>/content/drive/MyDrive/iris/AMF_Iris_Dataset/a...</td>\n",
              "      <td>0</td>\n",
              "      <td>Iris_20220818_122821_Right.bmp</td>\n",
              "      <td>16.312859</td>\n",
              "    </tr>\n",
              "    <tr>\n",
              "      <th>5</th>\n",
              "      <td>0</td>\n",
              "      <td>Iris_20220818_122827_Right.bmp</td>\n",
              "      <td>validation</td>\n",
              "      <td>1.0</td>\n",
              "      <td>0.0</td>\n",
              "      <td>R</td>\n",
              "      <td>amf</td>\n",
              "      <td>/content/drive/MyDrive/iris/AMF_Iris_Dataset/a...</td>\n",
              "      <td>0</td>\n",
              "      <td>Iris_20220818_122821_Right.bmp</td>\n",
              "      <td>16.312859</td>\n",
              "    </tr>\n",
              "    <tr>\n",
              "      <th>7</th>\n",
              "      <td>0</td>\n",
              "      <td>Iris_20220818_122818_Left.bmp</td>\n",
              "      <td>validation</td>\n",
              "      <td>1.0</td>\n",
              "      <td>0.0</td>\n",
              "      <td>R</td>\n",
              "      <td>amf</td>\n",
              "      <td>/content/drive/MyDrive/iris/AMF_Iris_Dataset/a...</td>\n",
              "      <td>0</td>\n",
              "      <td>Iris_20220818_122823_Left.bmp</td>\n",
              "      <td>14.645152</td>\n",
              "    </tr>\n",
              "    <tr>\n",
              "      <th>9</th>\n",
              "      <td>0</td>\n",
              "      <td>Iris_20220818_122823_Right.bmp</td>\n",
              "      <td>validation</td>\n",
              "      <td>1.0</td>\n",
              "      <td>0.0</td>\n",
              "      <td>R</td>\n",
              "      <td>amf</td>\n",
              "      <td>/content/drive/MyDrive/iris/AMF_Iris_Dataset/a...</td>\n",
              "      <td>0</td>\n",
              "      <td>Iris_20220818_122821_Right.bmp</td>\n",
              "      <td>16.312859</td>\n",
              "    </tr>\n",
              "    <tr>\n",
              "      <th>...</th>\n",
              "      <td>...</td>\n",
              "      <td>...</td>\n",
              "      <td>...</td>\n",
              "      <td>...</td>\n",
              "      <td>...</td>\n",
              "      <td>...</td>\n",
              "      <td>...</td>\n",
              "      <td>...</td>\n",
              "      <td>...</td>\n",
              "      <td>...</td>\n",
              "      <td>...</td>\n",
              "    </tr>\n",
              "    <tr>\n",
              "      <th>531</th>\n",
              "      <td>53</td>\n",
              "      <td>Iris_20220818_122405_Left.bmp</td>\n",
              "      <td>validation</td>\n",
              "      <td>1.0</td>\n",
              "      <td>0.0</td>\n",
              "      <td>R</td>\n",
              "      <td>amf</td>\n",
              "      <td>/content/drive/MyDrive/iris/AMF_Iris_Dataset/z...</td>\n",
              "      <td>53</td>\n",
              "      <td>Iris_20220818_122409_Left.bmp</td>\n",
              "      <td>54.595421</td>\n",
              "    </tr>\n",
              "    <tr>\n",
              "      <th>533</th>\n",
              "      <td>53</td>\n",
              "      <td>Iris_20220818_122420_Right.bmp</td>\n",
              "      <td>validation</td>\n",
              "      <td>1.0</td>\n",
              "      <td>0.0</td>\n",
              "      <td>R</td>\n",
              "      <td>amf</td>\n",
              "      <td>/content/drive/MyDrive/iris/AMF_Iris_Dataset/z...</td>\n",
              "      <td>53</td>\n",
              "      <td>Iris_20220818_122416_Right.bmp</td>\n",
              "      <td>50.369553</td>\n",
              "    </tr>\n",
              "    <tr>\n",
              "      <th>535</th>\n",
              "      <td>53</td>\n",
              "      <td>Iris_20220818_122409_Right.bmp</td>\n",
              "      <td>validation</td>\n",
              "      <td>1.0</td>\n",
              "      <td>0.0</td>\n",
              "      <td>R</td>\n",
              "      <td>amf</td>\n",
              "      <td>/content/drive/MyDrive/iris/AMF_Iris_Dataset/z...</td>\n",
              "      <td>53</td>\n",
              "      <td>Iris_20220818_122413_Right.bmp</td>\n",
              "      <td>51.164886</td>\n",
              "    </tr>\n",
              "    <tr>\n",
              "      <th>537</th>\n",
              "      <td>53</td>\n",
              "      <td>Iris_20220818_122416_Left.bmp</td>\n",
              "      <td>validation</td>\n",
              "      <td>1.0</td>\n",
              "      <td>0.0</td>\n",
              "      <td>R</td>\n",
              "      <td>amf</td>\n",
              "      <td>/content/drive/MyDrive/iris/AMF_Iris_Dataset/z...</td>\n",
              "      <td>53</td>\n",
              "      <td>Iris_20220818_122413_Left.bmp</td>\n",
              "      <td>51.447277</td>\n",
              "    </tr>\n",
              "    <tr>\n",
              "      <th>539</th>\n",
              "      <td>53</td>\n",
              "      <td>Iris_20220818_122420_Left.bmp</td>\n",
              "      <td>validation</td>\n",
              "      <td>1.0</td>\n",
              "      <td>0.0</td>\n",
              "      <td>R</td>\n",
              "      <td>amf</td>\n",
              "      <td>/content/drive/MyDrive/iris/AMF_Iris_Dataset/z...</td>\n",
              "      <td>53</td>\n",
              "      <td>Iris_20220818_122413_Left.bmp</td>\n",
              "      <td>51.447277</td>\n",
              "    </tr>\n",
              "  </tbody>\n",
              "</table>\n",
              "<p>263 rows × 11 columns</p>\n",
              "</div>\n",
              "      <button class=\"colab-df-convert\" onclick=\"convertToInteractive('df-8fb37f78-0082-4abc-88a1-309298365bda')\"\n",
              "              title=\"Convert this dataframe to an interactive table.\"\n",
              "              style=\"display:none;\">\n",
              "        \n",
              "  <svg xmlns=\"http://www.w3.org/2000/svg\" height=\"24px\"viewBox=\"0 0 24 24\"\n",
              "       width=\"24px\">\n",
              "    <path d=\"M0 0h24v24H0V0z\" fill=\"none\"/>\n",
              "    <path d=\"M18.56 5.44l.94 2.06.94-2.06 2.06-.94-2.06-.94-.94-2.06-.94 2.06-2.06.94zm-11 1L8.5 8.5l.94-2.06 2.06-.94-2.06-.94L8.5 2.5l-.94 2.06-2.06.94zm10 10l.94 2.06.94-2.06 2.06-.94-2.06-.94-.94-2.06-.94 2.06-2.06.94z\"/><path d=\"M17.41 7.96l-1.37-1.37c-.4-.4-.92-.59-1.43-.59-.52 0-1.04.2-1.43.59L10.3 9.45l-7.72 7.72c-.78.78-.78 2.05 0 2.83L4 21.41c.39.39.9.59 1.41.59.51 0 1.02-.2 1.41-.59l7.78-7.78 2.81-2.81c.8-.78.8-2.07 0-2.86zM5.41 20L4 18.59l7.72-7.72 1.47 1.35L5.41 20z\"/>\n",
              "  </svg>\n",
              "      </button>\n",
              "      \n",
              "  <style>\n",
              "    .colab-df-container {\n",
              "      display:flex;\n",
              "      flex-wrap:wrap;\n",
              "      gap: 12px;\n",
              "    }\n",
              "\n",
              "    .colab-df-convert {\n",
              "      background-color: #E8F0FE;\n",
              "      border: none;\n",
              "      border-radius: 50%;\n",
              "      cursor: pointer;\n",
              "      display: none;\n",
              "      fill: #1967D2;\n",
              "      height: 32px;\n",
              "      padding: 0 0 0 0;\n",
              "      width: 32px;\n",
              "    }\n",
              "\n",
              "    .colab-df-convert:hover {\n",
              "      background-color: #E2EBFA;\n",
              "      box-shadow: 0px 1px 2px rgba(60, 64, 67, 0.3), 0px 1px 3px 1px rgba(60, 64, 67, 0.15);\n",
              "      fill: #174EA6;\n",
              "    }\n",
              "\n",
              "    [theme=dark] .colab-df-convert {\n",
              "      background-color: #3B4455;\n",
              "      fill: #D2E3FC;\n",
              "    }\n",
              "\n",
              "    [theme=dark] .colab-df-convert:hover {\n",
              "      background-color: #434B5C;\n",
              "      box-shadow: 0px 1px 3px 1px rgba(0, 0, 0, 0.15);\n",
              "      filter: drop-shadow(0px 1px 2px rgba(0, 0, 0, 0.3));\n",
              "      fill: #FFFFFF;\n",
              "    }\n",
              "  </style>\n",
              "\n",
              "      <script>\n",
              "        const buttonEl =\n",
              "          document.querySelector('#df-8fb37f78-0082-4abc-88a1-309298365bda button.colab-df-convert');\n",
              "        buttonEl.style.display =\n",
              "          google.colab.kernel.accessAllowed ? 'block' : 'none';\n",
              "\n",
              "        async function convertToInteractive(key) {\n",
              "          const element = document.querySelector('#df-8fb37f78-0082-4abc-88a1-309298365bda');\n",
              "          const dataTable =\n",
              "            await google.colab.kernel.invokeFunction('convertToInteractive',\n",
              "                                                     [key], {});\n",
              "          if (!dataTable) return;\n",
              "\n",
              "          const docLinkHtml = 'Like what you see? Visit the ' +\n",
              "            '<a target=\"_blank\" href=https://colab.research.google.com/notebooks/data_table.ipynb>data table notebook</a>'\n",
              "            + ' to learn more about interactive tables.';\n",
              "          element.innerHTML = '';\n",
              "          dataTable['output_type'] = 'display_data';\n",
              "          await google.colab.output.renderOutput(dataTable, element);\n",
              "          const docLink = document.createElement('div');\n",
              "          docLink.innerHTML = docLinkHtml;\n",
              "          element.appendChild(docLink);\n",
              "        }\n",
              "      </script>\n",
              "    </div>\n",
              "  </div>\n",
              "  "
            ]
          },
          "metadata": {},
          "execution_count": 206
        }
      ]
    },
    {
      "cell_type": "markdown",
      "source": [
        "Ищем несовпадение меток предсказаний с исходными"
      ],
      "metadata": {
        "id": "vr2eW1-um6MV"
      }
    },
    {
      "cell_type": "code",
      "source": [
        "df_err=df_queries[df_queries['label']!=df_queries['predict']]"
      ],
      "metadata": {
        "id": "WXKNJCN882d8"
      },
      "execution_count": null,
      "outputs": []
    },
    {
      "cell_type": "code",
      "source": [
        "# ошибок 5!!!\n",
        "df_err.head()"
      ],
      "metadata": {
        "colab": {
          "base_uri": "https://localhost:8080/",
          "height": 270
        },
        "id": "PbtMKHFc9hIG",
        "outputId": "187b4360-4569-4871-9a1b-64bee3748b52"
      },
      "execution_count": null,
      "outputs": [
        {
          "output_type": "execute_result",
          "data": {
            "text/plain": [
              "     label                        src_file       split  is_query  is_gallery  \\\n",
              "45       4   Iris_20220817_115959_Left.bmp  validation       1.0         0.0   \n",
              "131     13   Iris_20220818_121033_Left.bmp  validation       1.0         0.0   \n",
              "133     13   Iris_20220818_121040_Left.bmp  validation       1.0         0.0   \n",
              "137     13   Iris_20220818_121035_Left.bmp  validation       1.0         0.0   \n",
              "471     47  Iris_20220817_121508_Right.bmp  validation       1.0         0.0   \n",
              "\n",
              "    eye   ds                                               path  predict  \\\n",
              "45    R  amf  /content/drive/MyDrive/iris/AMF_Iris_Dataset/a...       32   \n",
              "131   R  amf  /content/drive/MyDrive/iris/AMF_Iris_Dataset/a...       28   \n",
              "133   R  amf  /content/drive/MyDrive/iris/AMF_Iris_Dataset/a...       28   \n",
              "137   R  amf  /content/drive/MyDrive/iris/AMF_Iris_Dataset/a...       28   \n",
              "471   R  amf  /content/drive/MyDrive/iris/AMF_Iris_Dataset/w...       26   \n",
              "\n",
              "                             ppath        dst  \n",
              "45   Iris_20220818_121836_Left.bmp  46.793346  \n",
              "131  Iris_20220818_105949_Left.bmp  55.429008  \n",
              "133  Iris_20220818_105951_Left.bmp  49.441166  \n",
              "137  Iris_20220818_105949_Left.bmp  55.429008  \n",
              "471  Iris_20220818_113217_Left.bmp  46.720695  "
            ],
            "text/html": [
              "\n",
              "  <div id=\"df-aed60807-794a-4ce0-85f2-9b5c6fb80bd2\">\n",
              "    <div class=\"colab-df-container\">\n",
              "      <div>\n",
              "<style scoped>\n",
              "    .dataframe tbody tr th:only-of-type {\n",
              "        vertical-align: middle;\n",
              "    }\n",
              "\n",
              "    .dataframe tbody tr th {\n",
              "        vertical-align: top;\n",
              "    }\n",
              "\n",
              "    .dataframe thead th {\n",
              "        text-align: right;\n",
              "    }\n",
              "</style>\n",
              "<table border=\"1\" class=\"dataframe\">\n",
              "  <thead>\n",
              "    <tr style=\"text-align: right;\">\n",
              "      <th></th>\n",
              "      <th>label</th>\n",
              "      <th>src_file</th>\n",
              "      <th>split</th>\n",
              "      <th>is_query</th>\n",
              "      <th>is_gallery</th>\n",
              "      <th>eye</th>\n",
              "      <th>ds</th>\n",
              "      <th>path</th>\n",
              "      <th>predict</th>\n",
              "      <th>ppath</th>\n",
              "      <th>dst</th>\n",
              "    </tr>\n",
              "  </thead>\n",
              "  <tbody>\n",
              "    <tr>\n",
              "      <th>45</th>\n",
              "      <td>4</td>\n",
              "      <td>Iris_20220817_115959_Left.bmp</td>\n",
              "      <td>validation</td>\n",
              "      <td>1.0</td>\n",
              "      <td>0.0</td>\n",
              "      <td>R</td>\n",
              "      <td>amf</td>\n",
              "      <td>/content/drive/MyDrive/iris/AMF_Iris_Dataset/a...</td>\n",
              "      <td>32</td>\n",
              "      <td>Iris_20220818_121836_Left.bmp</td>\n",
              "      <td>46.793346</td>\n",
              "    </tr>\n",
              "    <tr>\n",
              "      <th>131</th>\n",
              "      <td>13</td>\n",
              "      <td>Iris_20220818_121033_Left.bmp</td>\n",
              "      <td>validation</td>\n",
              "      <td>1.0</td>\n",
              "      <td>0.0</td>\n",
              "      <td>R</td>\n",
              "      <td>amf</td>\n",
              "      <td>/content/drive/MyDrive/iris/AMF_Iris_Dataset/a...</td>\n",
              "      <td>28</td>\n",
              "      <td>Iris_20220818_105949_Left.bmp</td>\n",
              "      <td>55.429008</td>\n",
              "    </tr>\n",
              "    <tr>\n",
              "      <th>133</th>\n",
              "      <td>13</td>\n",
              "      <td>Iris_20220818_121040_Left.bmp</td>\n",
              "      <td>validation</td>\n",
              "      <td>1.0</td>\n",
              "      <td>0.0</td>\n",
              "      <td>R</td>\n",
              "      <td>amf</td>\n",
              "      <td>/content/drive/MyDrive/iris/AMF_Iris_Dataset/a...</td>\n",
              "      <td>28</td>\n",
              "      <td>Iris_20220818_105951_Left.bmp</td>\n",
              "      <td>49.441166</td>\n",
              "    </tr>\n",
              "    <tr>\n",
              "      <th>137</th>\n",
              "      <td>13</td>\n",
              "      <td>Iris_20220818_121035_Left.bmp</td>\n",
              "      <td>validation</td>\n",
              "      <td>1.0</td>\n",
              "      <td>0.0</td>\n",
              "      <td>R</td>\n",
              "      <td>amf</td>\n",
              "      <td>/content/drive/MyDrive/iris/AMF_Iris_Dataset/a...</td>\n",
              "      <td>28</td>\n",
              "      <td>Iris_20220818_105949_Left.bmp</td>\n",
              "      <td>55.429008</td>\n",
              "    </tr>\n",
              "    <tr>\n",
              "      <th>471</th>\n",
              "      <td>47</td>\n",
              "      <td>Iris_20220817_121508_Right.bmp</td>\n",
              "      <td>validation</td>\n",
              "      <td>1.0</td>\n",
              "      <td>0.0</td>\n",
              "      <td>R</td>\n",
              "      <td>amf</td>\n",
              "      <td>/content/drive/MyDrive/iris/AMF_Iris_Dataset/w...</td>\n",
              "      <td>26</td>\n",
              "      <td>Iris_20220818_113217_Left.bmp</td>\n",
              "      <td>46.720695</td>\n",
              "    </tr>\n",
              "  </tbody>\n",
              "</table>\n",
              "</div>\n",
              "      <button class=\"colab-df-convert\" onclick=\"convertToInteractive('df-aed60807-794a-4ce0-85f2-9b5c6fb80bd2')\"\n",
              "              title=\"Convert this dataframe to an interactive table.\"\n",
              "              style=\"display:none;\">\n",
              "        \n",
              "  <svg xmlns=\"http://www.w3.org/2000/svg\" height=\"24px\"viewBox=\"0 0 24 24\"\n",
              "       width=\"24px\">\n",
              "    <path d=\"M0 0h24v24H0V0z\" fill=\"none\"/>\n",
              "    <path d=\"M18.56 5.44l.94 2.06.94-2.06 2.06-.94-2.06-.94-.94-2.06-.94 2.06-2.06.94zm-11 1L8.5 8.5l.94-2.06 2.06-.94-2.06-.94L8.5 2.5l-.94 2.06-2.06.94zm10 10l.94 2.06.94-2.06 2.06-.94-2.06-.94-.94-2.06-.94 2.06-2.06.94z\"/><path d=\"M17.41 7.96l-1.37-1.37c-.4-.4-.92-.59-1.43-.59-.52 0-1.04.2-1.43.59L10.3 9.45l-7.72 7.72c-.78.78-.78 2.05 0 2.83L4 21.41c.39.39.9.59 1.41.59.51 0 1.02-.2 1.41-.59l7.78-7.78 2.81-2.81c.8-.78.8-2.07 0-2.86zM5.41 20L4 18.59l7.72-7.72 1.47 1.35L5.41 20z\"/>\n",
              "  </svg>\n",
              "      </button>\n",
              "      \n",
              "  <style>\n",
              "    .colab-df-container {\n",
              "      display:flex;\n",
              "      flex-wrap:wrap;\n",
              "      gap: 12px;\n",
              "    }\n",
              "\n",
              "    .colab-df-convert {\n",
              "      background-color: #E8F0FE;\n",
              "      border: none;\n",
              "      border-radius: 50%;\n",
              "      cursor: pointer;\n",
              "      display: none;\n",
              "      fill: #1967D2;\n",
              "      height: 32px;\n",
              "      padding: 0 0 0 0;\n",
              "      width: 32px;\n",
              "    }\n",
              "\n",
              "    .colab-df-convert:hover {\n",
              "      background-color: #E2EBFA;\n",
              "      box-shadow: 0px 1px 2px rgba(60, 64, 67, 0.3), 0px 1px 3px 1px rgba(60, 64, 67, 0.15);\n",
              "      fill: #174EA6;\n",
              "    }\n",
              "\n",
              "    [theme=dark] .colab-df-convert {\n",
              "      background-color: #3B4455;\n",
              "      fill: #D2E3FC;\n",
              "    }\n",
              "\n",
              "    [theme=dark] .colab-df-convert:hover {\n",
              "      background-color: #434B5C;\n",
              "      box-shadow: 0px 1px 3px 1px rgba(0, 0, 0, 0.15);\n",
              "      filter: drop-shadow(0px 1px 2px rgba(0, 0, 0, 0.3));\n",
              "      fill: #FFFFFF;\n",
              "    }\n",
              "  </style>\n",
              "\n",
              "      <script>\n",
              "        const buttonEl =\n",
              "          document.querySelector('#df-aed60807-794a-4ce0-85f2-9b5c6fb80bd2 button.colab-df-convert');\n",
              "        buttonEl.style.display =\n",
              "          google.colab.kernel.accessAllowed ? 'block' : 'none';\n",
              "\n",
              "        async function convertToInteractive(key) {\n",
              "          const element = document.querySelector('#df-aed60807-794a-4ce0-85f2-9b5c6fb80bd2');\n",
              "          const dataTable =\n",
              "            await google.colab.kernel.invokeFunction('convertToInteractive',\n",
              "                                                     [key], {});\n",
              "          if (!dataTable) return;\n",
              "\n",
              "          const docLinkHtml = 'Like what you see? Visit the ' +\n",
              "            '<a target=\"_blank\" href=https://colab.research.google.com/notebooks/data_table.ipynb>data table notebook</a>'\n",
              "            + ' to learn more about interactive tables.';\n",
              "          element.innerHTML = '';\n",
              "          dataTable['output_type'] = 'display_data';\n",
              "          await google.colab.output.renderOutput(dataTable, element);\n",
              "          const docLink = document.createElement('div');\n",
              "          docLink.innerHTML = docLinkHtml;\n",
              "          element.appendChild(docLink);\n",
              "        }\n",
              "      </script>\n",
              "    </div>\n",
              "  </div>\n",
              "  "
            ]
          },
          "metadata": {},
          "execution_count": 184
        }
      ]
    },
    {
      "cell_type": "markdown",
      "source": [
        "<H3>Мы таким образом построил модель и обучили<br>ТОЛЬКО на части базы IRIS_ID (iris_dataset) <br>А инференс сделали на данных iris_amf\n",
        "и получили 5 ошибок из 270 запросов \n",
        "это менее **2х процентов**!\n",
        "Заметим что все ошибки имеют величину \"дистанции между эмбеддингами\">45\n",
        "а все предсказания правильные - <40\n",
        "\n"
      ],
      "metadata": {
        "id": "ZCFlCQqQDEkx"
      }
    },
    {
      "cell_type": "markdown",
      "source": [
        "<H3>Теперь инференс по другой базе MMU"
      ],
      "metadata": {
        "id": "PYw115DFXk0o"
      }
    },
    {
      "cell_type": "code",
      "source": [
        "df=df_mmu"
      ],
      "metadata": {
        "id": "06caOnwGXqal"
      },
      "execution_count": null,
      "outputs": []
    },
    {
      "cell_type": "code",
      "source": [
        "df['path']"
      ],
      "metadata": {
        "id": "JvL4pNXLY2Ok"
      },
      "execution_count": null,
      "outputs": []
    },
    {
      "cell_type": "code",
      "source": [
        "# Смысл такой что по запросам query мы ищем ближайший (похоже 1) \n",
        "# но только среди элементов gallery\n",
        "queries=[]\n",
        "df_val=df[df['split']=='validation']\n",
        "lquery=df_val[df_val[\"is_query\"]==1.0][\"label\"].tolist()\n",
        "lgallery=df_val[df_val[\"is_gallery\"]==1.0][\"label\"].tolist()\n",
        "squeries = df_val[df_val[\"is_query\"]==1.0][\"path\"].tolist()\n",
        "sgalleries = df_val[df_val[\"is_gallery\"]==1.0][\"path\"].tolist()\n",
        "\n",
        "df_val[\"path\"] = df_val[\"path\"].apply(lambda x: pamf / x)\n",
        "\n",
        "queries = df_val[df_val[\"is_query\"]==1.0][\"path\"].tolist()\n",
        "galleries = df_val[df_val[\"is_gallery\"]==1.0][\"path\"].tolist()\n",
        "\n",
        "#queries.extend(df_new[\"path\"].values) \n",
        "####transform, _ = get_transforms_for_pretrained(modeltype)\n",
        "\n",
        "args = {\"num_workers\": 0, \"batch_size\": 8}\n",
        "# эмбеддинги запросов и галереи\n",
        "features_queries = inference_on_images(model, paths=queries, transform=transform, **args)\n",
        "features_galleries = inference_on_images(model, paths=galleries, transform=transform, **args)\n",
        "# евклидово расстояние между ними - то есть по строкам расстояния галерей от фиксированного запроса\n",
        "dist_mat = pairwise_dist(x1=features_queries, x2=features_galleries)\n",
        "ii_closest = torch.argmin(dist_mat, dim=1)\n",
        "#dist_queries = pairwise_dist(x1=features_queries, x2=features_queries)\n",
        "\n",
        "print(f\"Indices of the items closest to queries: {ii_closest}\")"
      ],
      "metadata": {
        "colab": {
          "base_uri": "https://localhost:8080/"
        },
        "id": "MTuA9BT8YNs1",
        "outputId": "6e31e6df-ac62-40be-b6df-7d1cbca32a74"
      },
      "execution_count": null,
      "outputs": [
        {
          "output_type": "stream",
          "name": "stdout",
          "text": [
            "Indices of the items closest to queries: tensor([  0,   3,   3,   3,   5, 111,   7,   8,  59,  11,  10,  12,  13,  12,\n",
            "         15,  15,  18,  18,  18,  19,  21,  22,  23,  22,  25,  25,  27,  28,\n",
            "         28,  29,  29, 151,  32,  33,  35,  35,  37,  37,  37,  41,  40,  43,\n",
            "         42,  42,  45,  46,  48,  48, 153,  49,  51,  53,  53,  53,  56,  56,\n",
            "         58,  57,  57,  59,  61,  62,  62,  63,  64,  64,  68,  68,  68,  71,\n",
            "         71,  72,  73,  72,  74,  74,  77,  78,  77,  79,  79,  83,  82,  84,\n",
            "         85,  84,  88,  86,  90,  90,  90, 203,  91,  94,  95,  95,  96,  97,\n",
            "        165, 100, 100, 100, 103, 102, 106, 104, 108, 108, 108, 110, 109, 112,\n",
            "        113, 112,   9, 115, 118, 118, 118, 120, 120, 122, 123, 123, 125, 124,\n",
            "        127, 128, 128,  26,  26, 133,  27, 133, 136, 136,  32, 138, 137, 141,\n",
            "        140, 143, 142, 143, 146, 145, 148, 147, 148, 150, 149, 153, 153, 152,\n",
            "        155, 154, 157, 157, 158, 159, 161, 162, 162, 162, 166, 164, 167, 167,\n",
            "        168, 171, 169, 173, 173, 173, 174, 176, 177, 177, 177, 179, 180, 183,\n",
            "        183,  75, 185, 147, 187, 188, 188, 191, 190, 193, 193, 192, 103,  88,\n",
            "        198, 198, 198, 201, 201, 203, 202, 203, 205, 205, 207, 207, 208, 211,\n",
            "        211, 213, 213, 213])\n"
          ]
        }
      ]
    },
    {
      "cell_type": "code",
      "source": [
        "mat=torch.Tensor.numpy(dist_mat)"
      ],
      "metadata": {
        "id": "_-hQR-BrYNvx"
      },
      "execution_count": null,
      "outputs": []
    },
    {
      "cell_type": "code",
      "source": [
        "df_queries = df_val[df_val[\"is_query\"]==1.0]\n",
        "df_galleries = df_val[df_val[\"is_gallery\"]==1.0]"
      ],
      "metadata": {
        "id": "z3uD3wgZYNyd"
      },
      "execution_count": null,
      "outputs": []
    },
    {
      "cell_type": "code",
      "source": [
        "predict=[]\n",
        "ppath=[]\n",
        "dst=[]\n",
        "j=0\n",
        "for i in ii_closest.tolist():\n",
        "  predict.append(df_galleries.iloc[i]['label'])\n",
        "  ppath.append((df_galleries.iloc[i]['src_file']))\n",
        "  dst.append(mat[i,j])\n",
        "\n"
      ],
      "metadata": {
        "id": "tFoFzudpYN1J"
      },
      "execution_count": null,
      "outputs": []
    },
    {
      "cell_type": "code",
      "source": [
        "df_queries['predict']=predict\n",
        "df_queries['ppath']=ppath\n",
        "df_queries['dst']=dst"
      ],
      "metadata": {
        "colab": {
          "base_uri": "https://localhost:8080/"
        },
        "id": "UTJrLmyLYN4Q",
        "outputId": "da2bab78-10ab-478f-e43b-ac7d191ef058"
      },
      "execution_count": null,
      "outputs": [
        {
          "output_type": "stream",
          "name": "stderr",
          "text": [
            "<ipython-input-255-17f3fc0ec0f3>:1: SettingWithCopyWarning: \n",
            "A value is trying to be set on a copy of a slice from a DataFrame.\n",
            "Try using .loc[row_indexer,col_indexer] = value instead\n",
            "\n",
            "See the caveats in the documentation: https://pandas.pydata.org/pandas-docs/stable/user_guide/indexing.html#returning-a-view-versus-a-copy\n",
            "  df_queries['predict']=predict\n",
            "<ipython-input-255-17f3fc0ec0f3>:2: SettingWithCopyWarning: \n",
            "A value is trying to be set on a copy of a slice from a DataFrame.\n",
            "Try using .loc[row_indexer,col_indexer] = value instead\n",
            "\n",
            "See the caveats in the documentation: https://pandas.pydata.org/pandas-docs/stable/user_guide/indexing.html#returning-a-view-versus-a-copy\n",
            "  df_queries['ppath']=ppath\n",
            "<ipython-input-255-17f3fc0ec0f3>:3: SettingWithCopyWarning: \n",
            "A value is trying to be set on a copy of a slice from a DataFrame.\n",
            "Try using .loc[row_indexer,col_indexer] = value instead\n",
            "\n",
            "See the caveats in the documentation: https://pandas.pydata.org/pandas-docs/stable/user_guide/indexing.html#returning-a-view-versus-a-copy\n",
            "  df_queries['dst']=dst\n"
          ]
        }
      ]
    },
    {
      "cell_type": "code",
      "source": [
        "df_queries.shape"
      ],
      "metadata": {
        "colab": {
          "base_uri": "https://localhost:8080/"
        },
        "id": "EbUBrKpplauB",
        "outputId": "da1aa044-86a0-4655-c815-24ce7759ceb0"
      },
      "execution_count": null,
      "outputs": [
        {
          "output_type": "execute_result",
          "data": {
            "text/plain": [
              "(214, 11)"
            ]
          },
          "metadata": {},
          "execution_count": 279
        }
      ]
    },
    {
      "cell_type": "code",
      "source": [
        "df_match=df_queries[df_queries['label']==df_queries['predict']]"
      ],
      "metadata": {
        "id": "8LWlXpisayGM"
      },
      "execution_count": null,
      "outputs": []
    },
    {
      "cell_type": "code",
      "source": [
        "df_match"
      ],
      "metadata": {
        "colab": {
          "base_uri": "https://localhost:8080/",
          "height": 467
        },
        "id": "ar1uzpd6b5Hl",
        "outputId": "f26d9a12-e344-4f20-9735-1403c09a9786"
      },
      "execution_count": null,
      "outputs": [
        {
          "output_type": "execute_result",
          "data": {
            "text/plain": [
              "     label        src_file       split  is_query  is_gallery eye   ds  \\\n",
              "1        1     fional2.bmp  validation       1.0         0.0   L  mmu   \n",
              "3        2      hockl2.bmp  validation       1.0         0.0   L  mmu   \n",
              "5        2      hockl1.bmp  validation       1.0         0.0   L  mmu   \n",
              "7        2      hockl3.bmp  validation       1.0         0.0   L  mmu   \n",
              "9        3    kelvinl4.bmp  validation       1.0         0.0   L  mmu   \n",
              "..     ...             ...         ...       ...         ...  ..  ...   \n",
              "419     43  eugenehor1.bmp  validation       1.0         0.0   R  mmu   \n",
              "421     43  eugenehor3.bmp  validation       1.0         0.0   R  mmu   \n",
              "423     44     fatmar3.bmp  validation       1.0         0.0   R  mmu   \n",
              "425     44     fatmar4.bmp  validation       1.0         0.0   R  mmu   \n",
              "427     44     fatmar5.bmp  validation       1.0         0.0   R  mmu   \n",
              "\n",
              "                                                  path  predict  \\\n",
              "1    /content/drive/MyDrive/iris/MMU-Iris-Database/...        1   \n",
              "3    /content/drive/MyDrive/iris/MMU-Iris-Database/...        2   \n",
              "5    /content/drive/MyDrive/iris/MMU-Iris-Database/...        2   \n",
              "7    /content/drive/MyDrive/iris/MMU-Iris-Database/...        2   \n",
              "9    /content/drive/MyDrive/iris/MMU-Iris-Database/...        3   \n",
              "..                                                 ...      ...   \n",
              "419  /content/drive/MyDrive/iris/MMU-Iris-Database/...       43   \n",
              "421  /content/drive/MyDrive/iris/MMU-Iris-Database/...       43   \n",
              "423  /content/drive/MyDrive/iris/MMU-Iris-Database/...       44   \n",
              "425  /content/drive/MyDrive/iris/MMU-Iris-Database/...       44   \n",
              "427  /content/drive/MyDrive/iris/MMU-Iris-Database/...       44   \n",
              "\n",
              "              ppath        dst  \n",
              "1       fional3.bmp  27.134396  \n",
              "3        hockl4.bmp  42.975330  \n",
              "5        hockl4.bmp  42.975330  \n",
              "7        hockl4.bmp  42.975330  \n",
              "9      kelvinl5.bmp  52.443291  \n",
              "..              ...        ...  \n",
              "419  eugenehor2.bmp  67.188339  \n",
              "421  eugenehor2.bmp  67.188339  \n",
              "423     fatmar2.bmp  65.882721  \n",
              "425     fatmar2.bmp  65.882721  \n",
              "427     fatmar2.bmp  65.882721  \n",
              "\n",
              "[209 rows x 11 columns]"
            ],
            "text/html": [
              "\n",
              "  <div id=\"df-14e1f568-2d30-44d7-a5b8-655ddf98a1b4\">\n",
              "    <div class=\"colab-df-container\">\n",
              "      <div>\n",
              "<style scoped>\n",
              "    .dataframe tbody tr th:only-of-type {\n",
              "        vertical-align: middle;\n",
              "    }\n",
              "\n",
              "    .dataframe tbody tr th {\n",
              "        vertical-align: top;\n",
              "    }\n",
              "\n",
              "    .dataframe thead th {\n",
              "        text-align: right;\n",
              "    }\n",
              "</style>\n",
              "<table border=\"1\" class=\"dataframe\">\n",
              "  <thead>\n",
              "    <tr style=\"text-align: right;\">\n",
              "      <th></th>\n",
              "      <th>label</th>\n",
              "      <th>src_file</th>\n",
              "      <th>split</th>\n",
              "      <th>is_query</th>\n",
              "      <th>is_gallery</th>\n",
              "      <th>eye</th>\n",
              "      <th>ds</th>\n",
              "      <th>path</th>\n",
              "      <th>predict</th>\n",
              "      <th>ppath</th>\n",
              "      <th>dst</th>\n",
              "    </tr>\n",
              "  </thead>\n",
              "  <tbody>\n",
              "    <tr>\n",
              "      <th>1</th>\n",
              "      <td>1</td>\n",
              "      <td>fional2.bmp</td>\n",
              "      <td>validation</td>\n",
              "      <td>1.0</td>\n",
              "      <td>0.0</td>\n",
              "      <td>L</td>\n",
              "      <td>mmu</td>\n",
              "      <td>/content/drive/MyDrive/iris/MMU-Iris-Database/...</td>\n",
              "      <td>1</td>\n",
              "      <td>fional3.bmp</td>\n",
              "      <td>27.134396</td>\n",
              "    </tr>\n",
              "    <tr>\n",
              "      <th>3</th>\n",
              "      <td>2</td>\n",
              "      <td>hockl2.bmp</td>\n",
              "      <td>validation</td>\n",
              "      <td>1.0</td>\n",
              "      <td>0.0</td>\n",
              "      <td>L</td>\n",
              "      <td>mmu</td>\n",
              "      <td>/content/drive/MyDrive/iris/MMU-Iris-Database/...</td>\n",
              "      <td>2</td>\n",
              "      <td>hockl4.bmp</td>\n",
              "      <td>42.975330</td>\n",
              "    </tr>\n",
              "    <tr>\n",
              "      <th>5</th>\n",
              "      <td>2</td>\n",
              "      <td>hockl1.bmp</td>\n",
              "      <td>validation</td>\n",
              "      <td>1.0</td>\n",
              "      <td>0.0</td>\n",
              "      <td>L</td>\n",
              "      <td>mmu</td>\n",
              "      <td>/content/drive/MyDrive/iris/MMU-Iris-Database/...</td>\n",
              "      <td>2</td>\n",
              "      <td>hockl4.bmp</td>\n",
              "      <td>42.975330</td>\n",
              "    </tr>\n",
              "    <tr>\n",
              "      <th>7</th>\n",
              "      <td>2</td>\n",
              "      <td>hockl3.bmp</td>\n",
              "      <td>validation</td>\n",
              "      <td>1.0</td>\n",
              "      <td>0.0</td>\n",
              "      <td>L</td>\n",
              "      <td>mmu</td>\n",
              "      <td>/content/drive/MyDrive/iris/MMU-Iris-Database/...</td>\n",
              "      <td>2</td>\n",
              "      <td>hockl4.bmp</td>\n",
              "      <td>42.975330</td>\n",
              "    </tr>\n",
              "    <tr>\n",
              "      <th>9</th>\n",
              "      <td>3</td>\n",
              "      <td>kelvinl4.bmp</td>\n",
              "      <td>validation</td>\n",
              "      <td>1.0</td>\n",
              "      <td>0.0</td>\n",
              "      <td>L</td>\n",
              "      <td>mmu</td>\n",
              "      <td>/content/drive/MyDrive/iris/MMU-Iris-Database/...</td>\n",
              "      <td>3</td>\n",
              "      <td>kelvinl5.bmp</td>\n",
              "      <td>52.443291</td>\n",
              "    </tr>\n",
              "    <tr>\n",
              "      <th>...</th>\n",
              "      <td>...</td>\n",
              "      <td>...</td>\n",
              "      <td>...</td>\n",
              "      <td>...</td>\n",
              "      <td>...</td>\n",
              "      <td>...</td>\n",
              "      <td>...</td>\n",
              "      <td>...</td>\n",
              "      <td>...</td>\n",
              "      <td>...</td>\n",
              "      <td>...</td>\n",
              "    </tr>\n",
              "    <tr>\n",
              "      <th>419</th>\n",
              "      <td>43</td>\n",
              "      <td>eugenehor1.bmp</td>\n",
              "      <td>validation</td>\n",
              "      <td>1.0</td>\n",
              "      <td>0.0</td>\n",
              "      <td>R</td>\n",
              "      <td>mmu</td>\n",
              "      <td>/content/drive/MyDrive/iris/MMU-Iris-Database/...</td>\n",
              "      <td>43</td>\n",
              "      <td>eugenehor2.bmp</td>\n",
              "      <td>67.188339</td>\n",
              "    </tr>\n",
              "    <tr>\n",
              "      <th>421</th>\n",
              "      <td>43</td>\n",
              "      <td>eugenehor3.bmp</td>\n",
              "      <td>validation</td>\n",
              "      <td>1.0</td>\n",
              "      <td>0.0</td>\n",
              "      <td>R</td>\n",
              "      <td>mmu</td>\n",
              "      <td>/content/drive/MyDrive/iris/MMU-Iris-Database/...</td>\n",
              "      <td>43</td>\n",
              "      <td>eugenehor2.bmp</td>\n",
              "      <td>67.188339</td>\n",
              "    </tr>\n",
              "    <tr>\n",
              "      <th>423</th>\n",
              "      <td>44</td>\n",
              "      <td>fatmar3.bmp</td>\n",
              "      <td>validation</td>\n",
              "      <td>1.0</td>\n",
              "      <td>0.0</td>\n",
              "      <td>R</td>\n",
              "      <td>mmu</td>\n",
              "      <td>/content/drive/MyDrive/iris/MMU-Iris-Database/...</td>\n",
              "      <td>44</td>\n",
              "      <td>fatmar2.bmp</td>\n",
              "      <td>65.882721</td>\n",
              "    </tr>\n",
              "    <tr>\n",
              "      <th>425</th>\n",
              "      <td>44</td>\n",
              "      <td>fatmar4.bmp</td>\n",
              "      <td>validation</td>\n",
              "      <td>1.0</td>\n",
              "      <td>0.0</td>\n",
              "      <td>R</td>\n",
              "      <td>mmu</td>\n",
              "      <td>/content/drive/MyDrive/iris/MMU-Iris-Database/...</td>\n",
              "      <td>44</td>\n",
              "      <td>fatmar2.bmp</td>\n",
              "      <td>65.882721</td>\n",
              "    </tr>\n",
              "    <tr>\n",
              "      <th>427</th>\n",
              "      <td>44</td>\n",
              "      <td>fatmar5.bmp</td>\n",
              "      <td>validation</td>\n",
              "      <td>1.0</td>\n",
              "      <td>0.0</td>\n",
              "      <td>R</td>\n",
              "      <td>mmu</td>\n",
              "      <td>/content/drive/MyDrive/iris/MMU-Iris-Database/...</td>\n",
              "      <td>44</td>\n",
              "      <td>fatmar2.bmp</td>\n",
              "      <td>65.882721</td>\n",
              "    </tr>\n",
              "  </tbody>\n",
              "</table>\n",
              "<p>209 rows × 11 columns</p>\n",
              "</div>\n",
              "      <button class=\"colab-df-convert\" onclick=\"convertToInteractive('df-14e1f568-2d30-44d7-a5b8-655ddf98a1b4')\"\n",
              "              title=\"Convert this dataframe to an interactive table.\"\n",
              "              style=\"display:none;\">\n",
              "        \n",
              "  <svg xmlns=\"http://www.w3.org/2000/svg\" height=\"24px\"viewBox=\"0 0 24 24\"\n",
              "       width=\"24px\">\n",
              "    <path d=\"M0 0h24v24H0V0z\" fill=\"none\"/>\n",
              "    <path d=\"M18.56 5.44l.94 2.06.94-2.06 2.06-.94-2.06-.94-.94-2.06-.94 2.06-2.06.94zm-11 1L8.5 8.5l.94-2.06 2.06-.94-2.06-.94L8.5 2.5l-.94 2.06-2.06.94zm10 10l.94 2.06.94-2.06 2.06-.94-2.06-.94-.94-2.06-.94 2.06-2.06.94z\"/><path d=\"M17.41 7.96l-1.37-1.37c-.4-.4-.92-.59-1.43-.59-.52 0-1.04.2-1.43.59L10.3 9.45l-7.72 7.72c-.78.78-.78 2.05 0 2.83L4 21.41c.39.39.9.59 1.41.59.51 0 1.02-.2 1.41-.59l7.78-7.78 2.81-2.81c.8-.78.8-2.07 0-2.86zM5.41 20L4 18.59l7.72-7.72 1.47 1.35L5.41 20z\"/>\n",
              "  </svg>\n",
              "      </button>\n",
              "      \n",
              "  <style>\n",
              "    .colab-df-container {\n",
              "      display:flex;\n",
              "      flex-wrap:wrap;\n",
              "      gap: 12px;\n",
              "    }\n",
              "\n",
              "    .colab-df-convert {\n",
              "      background-color: #E8F0FE;\n",
              "      border: none;\n",
              "      border-radius: 50%;\n",
              "      cursor: pointer;\n",
              "      display: none;\n",
              "      fill: #1967D2;\n",
              "      height: 32px;\n",
              "      padding: 0 0 0 0;\n",
              "      width: 32px;\n",
              "    }\n",
              "\n",
              "    .colab-df-convert:hover {\n",
              "      background-color: #E2EBFA;\n",
              "      box-shadow: 0px 1px 2px rgba(60, 64, 67, 0.3), 0px 1px 3px 1px rgba(60, 64, 67, 0.15);\n",
              "      fill: #174EA6;\n",
              "    }\n",
              "\n",
              "    [theme=dark] .colab-df-convert {\n",
              "      background-color: #3B4455;\n",
              "      fill: #D2E3FC;\n",
              "    }\n",
              "\n",
              "    [theme=dark] .colab-df-convert:hover {\n",
              "      background-color: #434B5C;\n",
              "      box-shadow: 0px 1px 3px 1px rgba(0, 0, 0, 0.15);\n",
              "      filter: drop-shadow(0px 1px 2px rgba(0, 0, 0, 0.3));\n",
              "      fill: #FFFFFF;\n",
              "    }\n",
              "  </style>\n",
              "\n",
              "      <script>\n",
              "        const buttonEl =\n",
              "          document.querySelector('#df-14e1f568-2d30-44d7-a5b8-655ddf98a1b4 button.colab-df-convert');\n",
              "        buttonEl.style.display =\n",
              "          google.colab.kernel.accessAllowed ? 'block' : 'none';\n",
              "\n",
              "        async function convertToInteractive(key) {\n",
              "          const element = document.querySelector('#df-14e1f568-2d30-44d7-a5b8-655ddf98a1b4');\n",
              "          const dataTable =\n",
              "            await google.colab.kernel.invokeFunction('convertToInteractive',\n",
              "                                                     [key], {});\n",
              "          if (!dataTable) return;\n",
              "\n",
              "          const docLinkHtml = 'Like what you see? Visit the ' +\n",
              "            '<a target=\"_blank\" href=https://colab.research.google.com/notebooks/data_table.ipynb>data table notebook</a>'\n",
              "            + ' to learn more about interactive tables.';\n",
              "          element.innerHTML = '';\n",
              "          dataTable['output_type'] = 'display_data';\n",
              "          await google.colab.output.renderOutput(dataTable, element);\n",
              "          const docLink = document.createElement('div');\n",
              "          docLink.innerHTML = docLinkHtml;\n",
              "          element.appendChild(docLink);\n",
              "        }\n",
              "      </script>\n",
              "    </div>\n",
              "  </div>\n",
              "  "
            ]
          },
          "metadata": {},
          "execution_count": 258
        }
      ]
    },
    {
      "cell_type": "code",
      "source": [
        "df_err=df_queries[df_queries['label']!=df_queries['predict']]"
      ],
      "metadata": {
        "id": "dsn_B4w8ayJW"
      },
      "execution_count": null,
      "outputs": []
    },
    {
      "cell_type": "code",
      "source": [
        "df_err"
      ],
      "metadata": {
        "colab": {
          "base_uri": "https://localhost:8080/",
          "height": 337
        },
        "id": "KIuuFS-2YN7P",
        "outputId": "55ef9800-2bc5-4b12-ea89-4d4ebb5cc6c7"
      },
      "execution_count": null,
      "outputs": [
        {
          "output_type": "execute_result",
          "data": {
            "text/plain": [
              "     label        src_file       split  is_query  is_gallery eye   ds  \\\n",
              "17       4       lec_1.bmp  validation       1.0         0.0   L  mmu   \n",
              "63      14      mimil4.bmp  validation       1.0         0.0   L  mmu   \n",
              "197     43  eugenehol1.bmp  validation       1.0         0.0   L  mmu   \n",
              "371     33    tonghlr4.bmp  validation       1.0         0.0   R  mmu   \n",
              "389     37      yannr1.bmp  validation       1.0         0.0   R  mmu   \n",
              "\n",
              "                                                  path  predict  \\\n",
              "17   /content/drive/MyDrive/iris/MMU-Iris-Database/...       25   \n",
              "63   /content/drive/MyDrive/iris/MMU-Iris-Database/...       19   \n",
              "197  /content/drive/MyDrive/iris/MMU-Iris-Database/...       25   \n",
              "371  /content/drive/MyDrive/iris/MMU-Iris-Database/...       18   \n",
              "389  /content/drive/MyDrive/iris/MMU-Iris-Database/...        0   \n",
              "\n",
              "                 ppath        dst  \n",
              "17          salal4.bmp  47.500351  \n",
              "63   norsuhaidahr3.bmp  43.159451  \n",
              "197         salar5.bmp  46.369839  \n",
              "371       norazar2.bmp  51.578957  \n",
              "389         aevar5.bmp  46.496284  "
            ],
            "text/html": [
              "\n",
              "  <div id=\"df-3c347584-519c-422f-b457-3c0da863fe91\">\n",
              "    <div class=\"colab-df-container\">\n",
              "      <div>\n",
              "<style scoped>\n",
              "    .dataframe tbody tr th:only-of-type {\n",
              "        vertical-align: middle;\n",
              "    }\n",
              "\n",
              "    .dataframe tbody tr th {\n",
              "        vertical-align: top;\n",
              "    }\n",
              "\n",
              "    .dataframe thead th {\n",
              "        text-align: right;\n",
              "    }\n",
              "</style>\n",
              "<table border=\"1\" class=\"dataframe\">\n",
              "  <thead>\n",
              "    <tr style=\"text-align: right;\">\n",
              "      <th></th>\n",
              "      <th>label</th>\n",
              "      <th>src_file</th>\n",
              "      <th>split</th>\n",
              "      <th>is_query</th>\n",
              "      <th>is_gallery</th>\n",
              "      <th>eye</th>\n",
              "      <th>ds</th>\n",
              "      <th>path</th>\n",
              "      <th>predict</th>\n",
              "      <th>ppath</th>\n",
              "      <th>dst</th>\n",
              "    </tr>\n",
              "  </thead>\n",
              "  <tbody>\n",
              "    <tr>\n",
              "      <th>17</th>\n",
              "      <td>4</td>\n",
              "      <td>lec_1.bmp</td>\n",
              "      <td>validation</td>\n",
              "      <td>1.0</td>\n",
              "      <td>0.0</td>\n",
              "      <td>L</td>\n",
              "      <td>mmu</td>\n",
              "      <td>/content/drive/MyDrive/iris/MMU-Iris-Database/...</td>\n",
              "      <td>25</td>\n",
              "      <td>salal4.bmp</td>\n",
              "      <td>47.500351</td>\n",
              "    </tr>\n",
              "    <tr>\n",
              "      <th>63</th>\n",
              "      <td>14</td>\n",
              "      <td>mimil4.bmp</td>\n",
              "      <td>validation</td>\n",
              "      <td>1.0</td>\n",
              "      <td>0.0</td>\n",
              "      <td>L</td>\n",
              "      <td>mmu</td>\n",
              "      <td>/content/drive/MyDrive/iris/MMU-Iris-Database/...</td>\n",
              "      <td>19</td>\n",
              "      <td>norsuhaidahr3.bmp</td>\n",
              "      <td>43.159451</td>\n",
              "    </tr>\n",
              "    <tr>\n",
              "      <th>197</th>\n",
              "      <td>43</td>\n",
              "      <td>eugenehol1.bmp</td>\n",
              "      <td>validation</td>\n",
              "      <td>1.0</td>\n",
              "      <td>0.0</td>\n",
              "      <td>L</td>\n",
              "      <td>mmu</td>\n",
              "      <td>/content/drive/MyDrive/iris/MMU-Iris-Database/...</td>\n",
              "      <td>25</td>\n",
              "      <td>salar5.bmp</td>\n",
              "      <td>46.369839</td>\n",
              "    </tr>\n",
              "    <tr>\n",
              "      <th>371</th>\n",
              "      <td>33</td>\n",
              "      <td>tonghlr4.bmp</td>\n",
              "      <td>validation</td>\n",
              "      <td>1.0</td>\n",
              "      <td>0.0</td>\n",
              "      <td>R</td>\n",
              "      <td>mmu</td>\n",
              "      <td>/content/drive/MyDrive/iris/MMU-Iris-Database/...</td>\n",
              "      <td>18</td>\n",
              "      <td>norazar2.bmp</td>\n",
              "      <td>51.578957</td>\n",
              "    </tr>\n",
              "    <tr>\n",
              "      <th>389</th>\n",
              "      <td>37</td>\n",
              "      <td>yannr1.bmp</td>\n",
              "      <td>validation</td>\n",
              "      <td>1.0</td>\n",
              "      <td>0.0</td>\n",
              "      <td>R</td>\n",
              "      <td>mmu</td>\n",
              "      <td>/content/drive/MyDrive/iris/MMU-Iris-Database/...</td>\n",
              "      <td>0</td>\n",
              "      <td>aevar5.bmp</td>\n",
              "      <td>46.496284</td>\n",
              "    </tr>\n",
              "  </tbody>\n",
              "</table>\n",
              "</div>\n",
              "      <button class=\"colab-df-convert\" onclick=\"convertToInteractive('df-3c347584-519c-422f-b457-3c0da863fe91')\"\n",
              "              title=\"Convert this dataframe to an interactive table.\"\n",
              "              style=\"display:none;\">\n",
              "        \n",
              "  <svg xmlns=\"http://www.w3.org/2000/svg\" height=\"24px\"viewBox=\"0 0 24 24\"\n",
              "       width=\"24px\">\n",
              "    <path d=\"M0 0h24v24H0V0z\" fill=\"none\"/>\n",
              "    <path d=\"M18.56 5.44l.94 2.06.94-2.06 2.06-.94-2.06-.94-.94-2.06-.94 2.06-2.06.94zm-11 1L8.5 8.5l.94-2.06 2.06-.94-2.06-.94L8.5 2.5l-.94 2.06-2.06.94zm10 10l.94 2.06.94-2.06 2.06-.94-2.06-.94-.94-2.06-.94 2.06-2.06.94z\"/><path d=\"M17.41 7.96l-1.37-1.37c-.4-.4-.92-.59-1.43-.59-.52 0-1.04.2-1.43.59L10.3 9.45l-7.72 7.72c-.78.78-.78 2.05 0 2.83L4 21.41c.39.39.9.59 1.41.59.51 0 1.02-.2 1.41-.59l7.78-7.78 2.81-2.81c.8-.78.8-2.07 0-2.86zM5.41 20L4 18.59l7.72-7.72 1.47 1.35L5.41 20z\"/>\n",
              "  </svg>\n",
              "      </button>\n",
              "      \n",
              "  <style>\n",
              "    .colab-df-container {\n",
              "      display:flex;\n",
              "      flex-wrap:wrap;\n",
              "      gap: 12px;\n",
              "    }\n",
              "\n",
              "    .colab-df-convert {\n",
              "      background-color: #E8F0FE;\n",
              "      border: none;\n",
              "      border-radius: 50%;\n",
              "      cursor: pointer;\n",
              "      display: none;\n",
              "      fill: #1967D2;\n",
              "      height: 32px;\n",
              "      padding: 0 0 0 0;\n",
              "      width: 32px;\n",
              "    }\n",
              "\n",
              "    .colab-df-convert:hover {\n",
              "      background-color: #E2EBFA;\n",
              "      box-shadow: 0px 1px 2px rgba(60, 64, 67, 0.3), 0px 1px 3px 1px rgba(60, 64, 67, 0.15);\n",
              "      fill: #174EA6;\n",
              "    }\n",
              "\n",
              "    [theme=dark] .colab-df-convert {\n",
              "      background-color: #3B4455;\n",
              "      fill: #D2E3FC;\n",
              "    }\n",
              "\n",
              "    [theme=dark] .colab-df-convert:hover {\n",
              "      background-color: #434B5C;\n",
              "      box-shadow: 0px 1px 3px 1px rgba(0, 0, 0, 0.15);\n",
              "      filter: drop-shadow(0px 1px 2px rgba(0, 0, 0, 0.3));\n",
              "      fill: #FFFFFF;\n",
              "    }\n",
              "  </style>\n",
              "\n",
              "      <script>\n",
              "        const buttonEl =\n",
              "          document.querySelector('#df-3c347584-519c-422f-b457-3c0da863fe91 button.colab-df-convert');\n",
              "        buttonEl.style.display =\n",
              "          google.colab.kernel.accessAllowed ? 'block' : 'none';\n",
              "\n",
              "        async function convertToInteractive(key) {\n",
              "          const element = document.querySelector('#df-3c347584-519c-422f-b457-3c0da863fe91');\n",
              "          const dataTable =\n",
              "            await google.colab.kernel.invokeFunction('convertToInteractive',\n",
              "                                                     [key], {});\n",
              "          if (!dataTable) return;\n",
              "\n",
              "          const docLinkHtml = 'Like what you see? Visit the ' +\n",
              "            '<a target=\"_blank\" href=https://colab.research.google.com/notebooks/data_table.ipynb>data table notebook</a>'\n",
              "            + ' to learn more about interactive tables.';\n",
              "          element.innerHTML = '';\n",
              "          dataTable['output_type'] = 'display_data';\n",
              "          await google.colab.output.renderOutput(dataTable, element);\n",
              "          const docLink = document.createElement('div');\n",
              "          docLink.innerHTML = docLinkHtml;\n",
              "          element.appendChild(docLink);\n",
              "        }\n",
              "      </script>\n",
              "    </div>\n",
              "  </div>\n",
              "  "
            ]
          },
          "metadata": {},
          "execution_count": 259
        }
      ]
    },
    {
      "cell_type": "markdown",
      "source": [
        "<H3>AMF:  всего 4 ошибки из 214 - меньше 2х процентов"
      ],
      "metadata": {
        "id": "N6uAzx7QljR-"
      }
    },
    {
      "cell_type": "markdown",
      "source": [
        "<H3> Все ниже можно не читать - это исследование на предмет не слишком ли у нас большой эмбеддинг - 384)"
      ],
      "metadata": {
        "id": "Za7CdayUfWAk"
      }
    },
    {
      "cell_type": "markdown",
      "source": [
        "<H1> Анализ train датасета iris_id по SVM"
      ],
      "metadata": {
        "id": "ZLOuPVutlxUa"
      }
    },
    {
      "cell_type": "markdown",
      "source": [
        "SVM <pre> \n",
        "По методу главных компонент ищем размерность <br>пространства с 99 процентами вариабельности (дисперсии) чтобы по возможности уменьшить пространство эмбеддинга (сейчас 384 - размерность последнего слоя модели, <pre>но на будущее там должно быть поменьше) возможно другой modeltype"
      ],
      "metadata": {
        "id": "nXmmEhxonHSn"
      }
    },
    {
      "cell_type": "code",
      "source": [
        "df=df_iris_id"
      ],
      "metadata": {
        "id": "2PgErC_iBLGl"
      },
      "execution_count": null,
      "outputs": []
    },
    {
      "cell_type": "code",
      "source": [
        "\n",
        "df_train=df[df['split']=='train']\n",
        "df_train[\"path\"] = df_train[\"path\"].apply(lambda x: p / x)"
      ],
      "metadata": {
        "id": "WiRCfTDcC3Gu",
        "colab": {
          "base_uri": "https://localhost:8080/"
        },
        "outputId": "0a44a810-6463-4bfb-ff61-cca4b86d2d41"
      },
      "execution_count": null,
      "outputs": [
        {
          "output_type": "stream",
          "name": "stderr",
          "text": [
            "<ipython-input-261-52fb1bff0108>:2: SettingWithCopyWarning: \n",
            "A value is trying to be set on a copy of a slice from a DataFrame.\n",
            "Try using .loc[row_indexer,col_indexer] = value instead\n",
            "\n",
            "See the caveats in the documentation: https://pandas.pydata.org/pandas-docs/stable/user_guide/indexing.html#returning-a-view-versus-a-copy\n",
            "  df_train[\"path\"] = df_train[\"path\"].apply(lambda x: p / x)\n"
          ]
        }
      ]
    },
    {
      "cell_type": "code",
      "source": [
        "df_train['path'].values"
      ],
      "metadata": {
        "id": "fj0S4NHaAoQT"
      },
      "execution_count": null,
      "outputs": []
    },
    {
      "cell_type": "code",
      "source": [
        "# варианс\n",
        "embeddings = inference_on_images(model, paths=df_train[\"path\"].values, transform=transform, **args)\n",
        "pca = PCA(embeddings)\n"
      ],
      "metadata": {
        "id": "o_LkAXPKC3J4"
      },
      "execution_count": null,
      "outputs": []
    },
    {
      "cell_type": "code",
      "source": [
        "embeddings.shape"
      ],
      "metadata": {
        "colab": {
          "base_uri": "https://localhost:8080/"
        },
        "id": "EedcQLT_C3Mt",
        "outputId": "c6874afc-e6ed-4428-9a9d-00ac19001311"
      },
      "execution_count": null,
      "outputs": [
        {
          "output_type": "execute_result",
          "data": {
            "text/plain": [
              "torch.Size([128, 384])"
            ]
          },
          "metadata": {},
          "execution_count": 265
        }
      ]
    },
    {
      "cell_type": "markdown",
      "source": [
        "Variance 99% - 91 main eigenvectors. Похоже можно эмбеддинги хранить всего в 88 мерном пространстве! \n",
        "\n",
        "\n",
        "\n",
        "\n"
      ],
      "metadata": {
        "id": "z60iH3SQRhjd"
      }
    },
    {
      "cell_type": "code",
      "source": [
        "pca.calc_principal_axes_number(pfc_variance=(0.99, 1))"
      ],
      "metadata": {
        "colab": {
          "base_uri": "https://localhost:8080/"
        },
        "id": "FjSE5OxXHOcV",
        "outputId": "938b93f3-1f6a-4236-af58-cf1bcd15ae3f"
      },
      "execution_count": null,
      "outputs": [
        {
          "output_type": "execute_result",
          "data": {
            "text/plain": [
              "tensor([ 91, 129])"
            ]
          },
          "metadata": {},
          "execution_count": 266
        }
      ]
    },
    {
      "cell_type": "markdown",
      "source": [
        "<H3>UMAP и визуализация train эмбеддинга iris_id"
      ],
      "metadata": {
        "id": "1ayBeYyJzqF1"
      }
    },
    {
      "cell_type": "code",
      "source": [
        "!pip install umap-learn"
      ],
      "metadata": {
        "id": "e6409lkdJycJ",
        "colab": {
          "base_uri": "https://localhost:8080/"
        },
        "outputId": "43306d2a-b4f3-41a2-afd2-e3916160d417"
      },
      "execution_count": null,
      "outputs": [
        {
          "output_type": "stream",
          "name": "stdout",
          "text": [
            "Looking in indexes: https://pypi.org/simple, https://us-python.pkg.dev/colab-wheels/public/simple/\n",
            "Requirement already satisfied: umap-learn in /usr/local/lib/python3.9/dist-packages (0.5.3)\n",
            "Requirement already satisfied: pynndescent>=0.5 in /usr/local/lib/python3.9/dist-packages (from umap-learn) (0.5.8)\n",
            "Requirement already satisfied: scipy>=1.0 in /usr/local/lib/python3.9/dist-packages (from umap-learn) (1.10.1)\n",
            "Requirement already satisfied: numpy>=1.17 in /usr/local/lib/python3.9/dist-packages (from umap-learn) (1.22.4)\n",
            "Requirement already satisfied: tqdm in /usr/local/lib/python3.9/dist-packages (from umap-learn) (4.65.0)\n",
            "Requirement already satisfied: numba>=0.49 in /usr/local/lib/python3.9/dist-packages (from umap-learn) (0.56.4)\n",
            "Requirement already satisfied: scikit-learn>=0.22 in /usr/local/lib/python3.9/dist-packages (from umap-learn) (1.2.2)\n",
            "Requirement already satisfied: setuptools in /usr/local/lib/python3.9/dist-packages (from numba>=0.49->umap-learn) (67.6.1)\n",
            "Requirement already satisfied: llvmlite<0.40,>=0.39.0dev0 in /usr/local/lib/python3.9/dist-packages (from numba>=0.49->umap-learn) (0.39.1)\n",
            "Requirement already satisfied: joblib>=0.11 in /usr/local/lib/python3.9/dist-packages (from pynndescent>=0.5->umap-learn) (1.1.1)\n",
            "Requirement already satisfied: threadpoolctl>=2.0.0 in /usr/local/lib/python3.9/dist-packages (from scikit-learn>=0.22->umap-learn) (3.1.0)\n"
          ]
        }
      ]
    },
    {
      "cell_type": "code",
      "source": [
        "import numpy as np\n",
        "from sklearn.datasets import load_digits\n",
        "from sklearn.model_selection import train_test_split, cross_val_score\n",
        "from sklearn.neighbors import KNeighborsClassifier\n",
        "from sklearn.svm import SVC\n",
        "\n",
        "import matplotlib.pyplot as plt\n",
        "import seaborn as sns\n",
        "%matplotlib inline"
      ],
      "metadata": {
        "id": "kOQWWeINOIiD"
      },
      "execution_count": null,
      "outputs": []
    },
    {
      "cell_type": "code",
      "source": [
        "import umap"
      ],
      "metadata": {
        "id": "8D9pwhuUJye2"
      },
      "execution_count": null,
      "outputs": []
    },
    {
      "cell_type": "code",
      "source": [
        "umap_embeddings = umap.UMAP(n_neighbors=5, random_state=42).fit(embeddings).embedding_"
      ],
      "metadata": {
        "id": "G5yAt8MsJyh5"
      },
      "execution_count": null,
      "outputs": []
    },
    {
      "cell_type": "code",
      "source": [
        "umap_embeddings.shape"
      ],
      "metadata": {
        "colab": {
          "base_uri": "https://localhost:8080/"
        },
        "id": "fJgQkl-ElS7a",
        "outputId": "e386d924-4ffe-4baf-cd1e-72d75bdf198e"
      },
      "execution_count": null,
      "outputs": [
        {
          "output_type": "execute_result",
          "data": {
            "text/plain": [
              "(128, 2)"
            ]
          },
          "metadata": {},
          "execution_count": 271
        }
      ]
    },
    {
      "cell_type": "code",
      "source": [
        "from cycler import cycler"
      ],
      "metadata": {
        "id": "hnCunMQ7jv9w"
      },
      "execution_count": null,
      "outputs": []
    },
    {
      "cell_type": "code",
      "source": [
        "labels = df_train['label'].values\n",
        "df_train=df_train.set_index([pd.Index(range(len(labels)))])"
      ],
      "metadata": {
        "id": "ArbMdG-kmShJ"
      },
      "execution_count": null,
      "outputs": []
    },
    {
      "cell_type": "code",
      "source": [
        "label_set = np.unique(df_val['label'].values)\n",
        "num_classes = len(label_set)\n",
        "plt.figure(figsize=(20, 15))\n",
        "plt.gca().set_prop_cycle(\n",
        "    cycler(\n",
        "        \"color\", [plt.cm.nipy_spectral(i) for i in np.linspace(0, 0.9, num_classes)]\n",
        "    )\n",
        ")\n",
        "for i in range(num_classes):\n",
        "  idx = df_train[df_train['label'] == label_set[i]].index.values\n",
        "  #print(idx)\n",
        "  plt.plot(umap_embeddings[idx, 0], umap_embeddings[idx, 1], \".\", markersize=20)\n",
        "plt.show()"
      ],
      "metadata": {
        "colab": {
          "base_uri": "https://localhost:8080/",
          "height": 855
        },
        "id": "YQ3AUcjNiJ_1",
        "outputId": "1265f9fe-1c4c-4239-9d9d-f53f5523c657"
      },
      "execution_count": null,
      "outputs": [
        {
          "output_type": "display_data",
          "data": {
            "text/plain": [
              "<Figure size 2000x1500 with 1 Axes>"
            ],
            "image/png": "[encoded data removed]"
          },
          "metadata": {}
        }
      ]
    },
    {
      "cell_type": "markdown",
      "source": [
        "<H3>Другие модели пока не проверял кром vits_16_dino  (смотрите modeltype)"
      ],
      "metadata": {
        "id": "8NuEv-vHl_vI"
      }
    },
    {
      "cell_type": "code",
      "source": [
        "print(list(ViTExtractor.pretrained_models.keys()))"
      ],
      "metadata": {
        "colab": {
          "base_uri": "https://localhost:8080/"
        },
        "id": "95_jXTIOJP0q",
        "outputId": "b65bdc5a-637a-43dd-b1c1-17bedb1fd4ab"
      },
      "execution_count": null,
      "outputs": [
        {
          "output_type": "stream",
          "name": "stdout",
          "text": [
            "['vits16_dino', 'vits8_dino', 'vitb16_dino', 'vitb8_dino', 'vits16_inshop', 'vits16_sop', 'vits16_cub', 'vits16_cars']\n"
          ]
        }
      ]
    }
  ]
}